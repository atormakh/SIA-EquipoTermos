{
 "cells": [
  {
   "cell_type": "code",
   "execution_count": null,
   "metadata": {},
   "outputs": [],
   "source": [
    "#Imports iniciales\n",
    "import pandas as pd\n",
    "import numpy as np\n",
    "from sklearn.decomposition import PCA\n",
    "from sklearn.preprocessing import StandardScaler\n",
    "import seaborn as sns\n",
    "import matplotlib.pyplot as plt\n",
    "from bioinfokit.visuz import cluster\n",
    "from pca import getPrincipalComponent"
   ]
  },
  {
   "cell_type": "code",
   "execution_count": null,
   "metadata": {},
   "outputs": [],
   "source": [
    "#Proceso de datos del csv\n",
    "df=pd.read_csv('europe.csv')\n",
    "dfWNames=df.copy()\n",
    "df = df[df.columns[1:8]]\n",
    "df.head()"
   ]
  },
  {
   "cell_type": "code",
   "execution_count": null,
   "metadata": {},
   "outputs": [],
   "source": [
    "#Boxplot de caracteristicas de los paises (sin estandarizar)\n",
    "sns.boxplot(data=df)\n",
    "plt.show()"
   ]
  },
  {
   "cell_type": "code",
   "execution_count": null,
   "metadata": {},
   "outputs": [],
   "source": [
    "#Boxplot de caracteristicas de los paises (estandarizado)\n",
    "x=StandardScaler().fit_transform(df)\n",
    "namedBoxplot= pd.DataFrame(data=x,columns=[\"Area\",\"GDP\",\"Inflation\",\"Life. expect\",\"Military\",\"Pop. growth\",\"Unemployment\"])\n",
    "sns.boxplot(data=namedBoxplot)\n",
    "plt.show()"
   ]
  },
  {
   "cell_type": "code",
   "execution_count": null,
   "metadata": {},
   "outputs": [],
   "source": [
    "#Calculo de componentes principales\n",
    "pca=PCA(n_components=7)\n",
    "PC=pca.fit_transform(x)"
   ]
  },
  {
   "cell_type": "code",
   "execution_count": null,
   "metadata": {},
   "outputs": [],
   "source": [
    "#Calcular las componentes principales de cada pais\n",
    "\n",
    "countries = []\n",
    "principalComponents = np.zeros((28,7))\n",
    "countriesData = dict()\n",
    "\n",
    "for i in range(0,28):\n",
    "    countries.append(dfWNames.iloc[:,0][i])\n",
    "    for j in range(0,7):\n",
    "        principalComponents[i][j]=getPrincipalComponent(j,pca.components_,PC[i])\n",
    "\n",
    "for j in range(0,7):\n",
    "    countriesData['PC'+str(j+1)] = principalComponents[:,j]\n",
    "\n",
    "countriesDF = pd.DataFrame(countriesData, index=countries)\n",
    "\n",
    "#Imprimimos las componentes principales de cada pais\n",
    "\n",
    "countriesDF.head(28)"
   ]
  },
  {
   "cell_type": "code",
   "execution_count": null,
   "metadata": {},
   "outputs": [],
   "source": [
    "#Pie Chart de proporcion de varianza total para cada componente\n",
    "plt.pie(x=pca.explained_variance_ratio_,labels=[f\"PC{i+1}\" for i in range(0,7)])\n",
    "plt.show()"
   ]
  },
  {
   "cell_type": "code",
   "execution_count": null,
   "metadata": {},
   "outputs": [],
   "source": [
    "#Tabla de valores de caracteristicas de la primera componente por pais\n",
    "\n",
    "firstComponentCharacteristics = np.zeros((28,7))\n",
    "countriesFirstComponentCharacteristicsData = dict()\n",
    "\n",
    "for i in range(0,28):\n",
    "    for j in range(0,7):\n",
    "        #principalComponents[i][j]=getPrincipalComponent(j,pca.components_,PC[i])\n",
    "        firstComponentCharacteristics[i][j] = pca.components_[0][j]*PC[i][j]\n",
    "\n",
    "for j in range(0,7):\n",
    "    countriesFirstComponentCharacteristicsData[df.columns[j]] = firstComponentCharacteristics[:,j]\n",
    "\n",
    "countriesFirstComponentCharacteristicsDataDF = pd.DataFrame(countriesFirstComponentCharacteristicsData, index=countries)\n",
    "\n",
    "#Imprimimos las caracteristicas de cada pais correspondientes a la primera componetne\n",
    "\n",
    "countriesFirstComponentCharacteristicsDataDF.head(28)\n"
   ]
  },
  {
   "cell_type": "code",
   "execution_count": null,
   "metadata": {},
   "outputs": [],
   "source": [
    "#Barplot de coeficientes de PC1\n",
    "sns.set_style({'axes.grid':True})\n",
    "coefs = np.array(pca.components_[0])\n",
    "sns.barplot(y=coefs,x=[\"Area\",\"GDP\",\"Inflation\",\"Life. expect\",\"Military\",\"Pop. growth\",\"Unemployment\"],hue=[1 if c >= 0 else 0 for c in coefs],palette=sns.color_palette(),orient=\"v\").set(title=\"Coefficients\")\n",
    "plt.show()"
   ]
  },
  {
   "cell_type": "code",
   "execution_count": null,
   "metadata": {},
   "outputs": [],
   "source": [
    "#2D Biplot\n",
    "cluster.biplot(cscore=PC, loadings=pca.components_, labels=df.columns,\n",
    "    var1=round(pca.explained_variance_ratio_[0]*100, 2), var2=round(pca.explained_variance_ratio_[1]*100, 2),show=True)\n",
    "\n"
   ]
  },
  {
   "cell_type": "code",
   "execution_count": null,
   "metadata": {},
   "outputs": [],
   "source": [
    "#3D Biplot\n",
    "cluster.biplot(cscore=PC, loadings=pca.components_, labels=df.columns, \n",
    "    var1=round(pca.explained_variance_ratio_[0]*100, 2), var2=round(pca.explained_variance_ratio_[1]*100, 2), \n",
    "    var3=round(pca.explained_variance_ratio_[2]*100, 2),show=True)\n"
   ]
  },
  {
   "cell_type": "code",
   "execution_count": null,
   "metadata": {},
   "outputs": [],
   "source": [
    "#Barplot de coeficientes de PC1, con componentes principales calculadas sin estandarizar los datos\n",
    "\n",
    "#Calculo de componentes principales\n",
    "pcaNotStandarized=PCA(n_components=7)\n",
    "PCNotStandarized=pcaNotStandarized.fit_transform(df)\n",
    "\n",
    "#Creacion del barplot\n",
    "sns.set_style({'axes.grid':True})\n",
    "coefsNotStandarized = np.array(pcaNotStandarized.components_[0])\n",
    "sns.barplot(y=coefsNotStandarized,x=[\"Area\",\"GDP\",\"Inflation\",\"Life. expect\",\"Military\",\"Pop. growth\",\"Unemployment\"],hue=[1 if c >= 0 else 0 for c in coefs],palette=sns.color_palette(),orient=\"v\").set(title=\"Coefficients (Data not standarized)\")\n",
    "plt.show()\n",
    "\n",
    "\n"
   ]
  }
 ],
 "metadata": {
  "interpreter": {
   "hash": "26de051ba29f2982a8de78e945f0abaf191376122a1563185a90213a26c5da77"
  },
  "kernelspec": {
   "display_name": "Python 3.10.2 64-bit",
   "language": "python",
   "name": "python3"
  },
  "language_info": {
   "codemirror_mode": {
    "name": "ipython",
    "version": 3
   },
   "file_extension": ".py",
   "mimetype": "text/x-python",
   "name": "python",
   "nbconvert_exporter": "python",
   "pygments_lexer": "ipython3",
   "version": "3.10.2"
  },
  "orig_nbformat": 4
 },
 "nbformat": 4,
 "nbformat_minor": 2
}
