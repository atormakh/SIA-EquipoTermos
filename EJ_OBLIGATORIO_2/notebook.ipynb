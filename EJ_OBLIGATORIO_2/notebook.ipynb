{
 "cells": [
  {
   "cell_type": "code",
   "execution_count": null,
   "metadata": {},
   "outputs": [],
   "source": [
    "import pandas as pd\n",
    "from sklearn.decomposition import PCA\n",
    "from sklearn.preprocessing import StandardScaler\n",
    "import seaborn as sns\n",
    "import matplotlib.pyplot as plt\n",
    "from bioinfokit.visuz import cluster"
   ]
  },
  {
   "cell_type": "code",
   "execution_count": null,
   "metadata": {},
   "outputs": [],
   "source": [
    "df=pd.read_csv('europe.csv')\n",
    "dfWNames=df.copy()\n",
    "df = df[df.columns[1:8]]\n",
    "df.head()"
   ]
  },
  {
   "cell_type": "code",
   "execution_count": null,
   "metadata": {},
   "outputs": [],
   "source": [
    "print(df.columns)\n",
    "print(dfWNames.iloc[:,0])"
   ]
  },
  {
   "cell_type": "code",
   "execution_count": null,
   "metadata": {},
   "outputs": [],
   "source": [
    "sns.boxplot(data=df)\n",
    "plt.show()"
   ]
  },
  {
   "cell_type": "code",
   "execution_count": null,
   "metadata": {},
   "outputs": [],
   "source": [
    "x=StandardScaler().fit_transform(df)\n",
    "namedBoxplot= pd.DataFrame(data=x,columns=[\"Area\",\"GDP\",\"Inflation\",\"Life. expect\",\"Military\",\"Pop. growth\",\"Unemployment\"])\n",
    "sns.boxplot(data=namedBoxplot)\n",
    "plt.show()"
   ]
  },
  {
   "cell_type": "code",
   "execution_count": null,
   "metadata": {},
   "outputs": [],
   "source": [
    "pca=PCA(n_components=7)\n",
    "PC=pca.fit_transform(x)\n",
    "#print(pca.singular_values_)\n",
    "#print(pca.explained_variance_)\n",
    "print(PC.shape)\n",
    "print(pca.components_[0])\n",
    "print(pca.components_)\n",
    "\n",
    "#igol = pd.DataFrame(x,columns=[\"Area\",\"GDP\",\"Inflation\",\"Life. expect\",\"Military\",\"Pop. growth\",\"Unemployment\"])\n",
    "#igol.head()"
   ]
  },
  {
   "cell_type": "code",
   "execution_count": null,
   "metadata": {},
   "outputs": [],
   "source": [
    "igol = pd.DataFrame(pca.components_,columns=[\"Area\",\"GDP\",\"Inflation\",\"Life. expect\",\"Military\",\"Pop. growth\",\"Unemployment\"])\n",
    "igol.head()"
   ]
  },
  {
   "cell_type": "code",
   "execution_count": null,
   "metadata": {},
   "outputs": [],
   "source": [
    "cluster.biplot(cscore=PC, loadings=pca.components_, labels=df.columns, \n",
    "    var1=round(pca.explained_variance_ratio_[0]*100, 2), var2=round(pca.explained_variance_ratio_[1]*100, 2),show=True)"
   ]
  },
  {
   "cell_type": "code",
   "execution_count": null,
   "metadata": {},
   "outputs": [],
   "source": [
    "cluster.biplot(cscore=PC, loadings=pca.components_, labels=df.columns, \n",
    "    var1=round(pca.explained_variance_ratio_[0]*100, 2), var2=round(pca.explained_variance_ratio_[1]*100, 2), \n",
    "    var3=round(pca.explained_variance_ratio_[2]*100, 2),show=True)\n"
   ]
  }
 ],
 "metadata": {
  "interpreter": {
   "hash": "7b4acd0354df8891dbfc6dd2a61e8677465abc13974b9893a1b67e7be0d59986"
  },
  "kernelspec": {
   "display_name": "Python 3.10.0 ('venv': venv)",
   "language": "python",
   "name": "python3"
  },
  "language_info": {
   "codemirror_mode": {
    "name": "ipython",
    "version": 3
   },
   "file_extension": ".py",
   "mimetype": "text/x-python",
   "name": "python",
   "nbconvert_exporter": "python",
   "pygments_lexer": "ipython3",
   "version": "3.10.0"
  },
  "orig_nbformat": 4
 },
 "nbformat": 4,
 "nbformat_minor": 2
}
