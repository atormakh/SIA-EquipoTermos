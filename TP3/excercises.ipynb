{
  "cells": [
    {
      "cell_type": "code",
      "execution_count": null,
      "metadata": {},
      "outputs": [],
      "source": [
        "from helpers.readSetFiles import readSetFiles,validateParameters,readNumberSetFiles\n",
        "from graph import plotEpochsError,plotGraphEj1,plotGraphEj1Animated,plotErrorAgainstKGraph,plotErrorAgainstTrainingPercentageGraph,plotMetricsAgainstVariable,plotMetricAgainstVariable,plotProbabilityTestingError\n",
        "from helpers.configHelper import ConfigHelper\n",
        "from neuralNetworkManager import NeuralNetworkManager\n",
        "from activationFunctions.stepActivationFunction import StepActivationFunction\n",
        "from activationFunctions.linealActivationFunction import LinealActivationFunction\n",
        "from activationFunctions.hyperbolicTangentActivationFunction import HyperbolicTangentActivationFunction\n",
        "from activationFunctions.sigmoidalActivationFunction import SigmoidalActivationFunction\n",
        "from helpers.noise import createTrainingSetWithNoise\n",
        "from app import normalize\n",
        "from output import Output\n",
        "from metrics import Metrics\n",
        "import copy\n",
        "import numpy as np\n",
        "import random"
      ]
    },
    {
      "cell_type": "markdown",
      "metadata": {},
      "source": [
        "# Ej1 - Perceptron Simple Escalon\n",
        "\n",
        "##### Funcion logica ’Y’ con entradas"
      ]
    },
    {
      "cell_type": "code",
      "execution_count": null,
      "metadata": {},
      "outputs": [],
      "source": [
        "configPath=\"./config/Ej1/configEj1.json\"\n",
        "configHelper = ConfigHelper(configPath)\n",
        "(architecture,activationFunction,beta,learningRate,maxEpochs,maxToleranceExponent,randomSeed) = configHelper.getProperties()\n",
        "(trainingSet,resultsSet)=readSetFiles(\"./datasets/Ej1/training_set_ej_1.txt\",\"./datasets/Ej1/result_set_ej_1_and.txt\")\n",
        "\n",
        "#Seteo de seed\n",
        "np.random.seed(randomSeed)\n",
        "random.seed(randomSeed)\n",
        "\n",
        "neuralNetworkManager = NeuralNetworkManager(architecture,activationFunction,learningRate,maxEpochs,maxToleranceExponent)\n",
        "(epochs,executionTime,exception) = neuralNetworkManager.start(trainingSet,resultsSet)\n",
        "#Plot error graph\n",
        "plotEpochsError(epochs)\n",
        "#Plot points and division graph\n",
        "isXOR = False\n",
        "plotGraphEj1(trainingSet,isXOR,epochs)\n",
        "##Crear la carpeta de resultados con la subcarpeta de graficos y estadisticas en caso de que no existan\n",
        "isEj1 = True\n",
        "plotGraphEj1Animated(trainingSet,isXOR,epochs,isEj1)\n",
        "#Print output\n",
        "print(\"FINISH-------------------------------------------------------------------------------------------\")\n",
        "output = Output(configHelper,epochs[-1].error,epochs[-1].epochNumber,executionTime)\n",
        "output.printOutput()"
      ]
    },
    {
      "cell_type": "markdown",
      "metadata": {},
      "source": [
        "##### Funcion logica ’O exclusivo’ con entradas"
      ]
    },
    {
      "cell_type": "code",
      "execution_count": null,
      "metadata": {},
      "outputs": [],
      "source": [
        "configPath=\"./config/Ej1/configEj1.json\"\n",
        "configHelper = ConfigHelper(configPath)\n",
        "(architecture,activationFunction,beta,learningRate,maxEpochs,maxToleranceExponent,randomSeed) = configHelper.getProperties()\n",
        "(trainingSet,resultsSet)=readSetFiles(\"./datasets/Ej1/training_set_ej_1.txt\",\"./datasets/Ej1/result_set_ej_1_and.txt\")\n",
        "\n",
        "#Seteo de seed\n",
        "np.random.seed(randomSeed)\n",
        "random.seed(randomSeed)\n",
        "\n",
        "\n",
        "neuralNetworkManager = NeuralNetworkManager(architecture,activationFunction,learningRate,maxEpochs,maxToleranceExponent)\n",
        "(epochs,executionTime,exception) = neuralNetworkManager.start(trainingSet,resultsSet)\n",
        "#Plot error graph\n",
        "plotEpochsError(epochs)\n",
        "#Plot points and division graph\n",
        "isXOR = True\n",
        "plotGraphEj1(trainingSet,isXOR,epochs)\n",
        "isEj1 = True\n",
        "plotGraphEj1Animated(trainingSet,isXOR,epochs,isEj1)\n",
        "#Print output\n",
        "print(\"FINISH-------------------------------------------------------------------------------------------\")\n",
        "output = Output(configHelper,epochs[-1].error,epochs[-1].epochNumber,executionTime)\n",
        "output.printOutput()"
      ]
    },
    {
      "cell_type": "markdown",
      "metadata": {},
      "source": [
        "# Ej2 Perceptron Simple lineal/no lineal\n"
      ]
    },
    {
      "cell_type": "code",
      "execution_count": null,
      "metadata": {},
      "outputs": [],
      "source": [
        "configHelper = ConfigHelper(\"./config/Ej2/configEj2.json\")\n",
        "(architecture,activationFunction,beta,learningRate,maxEpochs,maxToleranceExponent,randomSeed) = configHelper.getProperties()\n",
        "(trainingSet,resultsSet)=readSetFiles(\"./datasets/Ej2/training_set_ej_2.txt\",\"./datasets/Ej2/result_set_ej_2.txt\")\n",
        "\n",
        "#Seteo de seed\n",
        "np.random.seed(randomSeed)\n",
        "random.seed(randomSeed)"
      ]
    },
    {
      "cell_type": "markdown",
      "metadata": {},
      "source": [
        "#### Calculo de errores de las diferentes funciones de activacion"
      ]
    },
    {
      "cell_type": "code",
      "execution_count": null,
      "metadata": {},
      "outputs": [],
      "source": [
        "(resultsSetNormalizedSigmoidal,fixntSig)=normalize(resultsSet,0,1)\n",
        "(resultSetNormalizedTanh,fixntTanh)=normalize(resultsSet,-1,1)\n",
        "print(fixntTanh(resultSetNormalizedTanh[0][0]))\n",
        "print(fixntSig(resultsSetNormalizedSigmoidal[0][0]))\n",
        "print(f\"SIG={fixntSig(0.045750)} ,TANH={fixntTanh(0.045750)}\")\n",
        "print(f\"SIG={fixntSig(0.016669)} ,TANH={fixntTanh(0.016669)}\")\n",
        "#LINEAL\n",
        "neuralNetworkManager = NeuralNetworkManager(architecture,LinealActivationFunction(),learningRate,maxEpochs,maxToleranceExponent)\n",
        "(epochs,executionTime,exception) = neuralNetworkManager.start(trainingSet,resultsSet)\n",
        "plotEpochsError(epochs,\"Lineal Activation Function\")\n",
        "#SIG\n",
        "neuralNetworkManager = NeuralNetworkManager(architecture,SigmoidalActivationFunction(beta),learningRate,maxEpochs,maxToleranceExponent)\n",
        "(epochs,executionTime,exception) = neuralNetworkManager.start(trainingSet,resultsSetNormalizedSigmoidal)\n",
        "plotEpochsError(epochs,title=\"SIGMOIDAL\",denormalizeFn=fixntSig)\n",
        "#TANH\n",
        "neuralNetworkManager = NeuralNetworkManager(architecture,HyperbolicTangentActivationFunction(beta),learningRate,maxEpochs,maxToleranceExponent)\n",
        "(epochs,executionTime,exception) = neuralNetworkManager.start(trainingSet,resultSetNormalizedTanh)\n",
        "plotEpochsError(epochs,title=\"TANH\",denormalizeFn=fixntTanh)\n",
        "\n",
        "    "
      ]
    },
    {
      "cell_type": "markdown",
      "metadata": {},
      "source": [
        "#### Capacidad de generalización con un subconjunto fijo"
      ]
    },
    {
      "cell_type": "markdown",
      "metadata": {},
      "source": [
        "##### Normalizaciones"
      ]
    },
    {
      "cell_type": "markdown",
      "metadata": {},
      "source": [
        "###### Para sigmoidal"
      ]
    },
    {
      "cell_type": "code",
      "execution_count": null,
      "metadata": {},
      "outputs": [],
      "source": [
        "(resultsSetNormalized,fixnt)=normalize(resultsSet,0,1)"
      ]
    },
    {
      "cell_type": "markdown",
      "metadata": {},
      "source": [
        "###### Para tanh"
      ]
    },
    {
      "cell_type": "code",
      "execution_count": null,
      "metadata": {},
      "outputs": [],
      "source": [
        "(resultsSetNormalized,fixnt)=normalize(resultsSet,-1,1)"
      ]
    },
    {
      "cell_type": "markdown",
      "metadata": {},
      "source": [
        "###### Para lineal"
      ]
    },
    {
      "cell_type": "code",
      "execution_count": null,
      "metadata": {},
      "outputs": [],
      "source": [
        "resultsSetNormalized = resultsSet\n",
        "fixnt = None"
      ]
    },
    {
      "cell_type": "markdown",
      "metadata": {},
      "source": [
        "##### Rutina"
      ]
    },
    {
      "cell_type": "code",
      "execution_count": null,
      "metadata": {},
      "outputs": [],
      "source": [
        "#Divido el conjunto tomando los primeros 160 (arbitrario)\n",
        "\n",
        "subTrainingSet = trainingSet[0:159]\n",
        "subTestingSet = trainingSet[160:-1]\n",
        "\n",
        "subResultSet = resultsSetNormalized[0:159]\n",
        "subResultTestingSet = resultsSetNormalized[160:-1]\n",
        "neuralNetworkManager = NeuralNetworkManager(architecture,activationFunction,learningRate,maxEpochs,maxToleranceExponent)\n",
        "\n",
        "(epochs , executionTime , exception) = neuralNetworkManager.start(subTrainingSet , subResultSet)\n",
        "\n",
        "\n",
        "errors=[]\n",
        "\n",
        "for epoch in epochs:\n",
        "    (error,aux,aux2,aux3)= neuralNetworkManager.test(subTestingSet , subResultTestingSet,layers=epoch.layers)\n",
        "    errors.append(error)\n",
        "print(error)\n",
        "if( fixnt is not None):\n",
        "    plotEpochsError(epochs,testingSetErrors=errors,denormalizeFn=fixnt,log=True)\n",
        "else:\n",
        "    plotEpochsError(epochs,testingSetErrors=errors)\n"
      ]
    },
    {
      "cell_type": "markdown",
      "metadata": {},
      "source": [
        "#### Con cross validation"
      ]
    },
    {
      "cell_type": "code",
      "execution_count": null,
      "metadata": {},
      "outputs": [],
      "source": [
        "#LINEAL\n",
        "activationFunctions=[HyperbolicTangentActivationFunction(beta),SigmoidalActivationFunction(beta)]\n",
        "neuralNetworkManager = NeuralNetworkManager(architecture,LinealActivationFunction.getType(beta),learningRate,maxEpochs,maxToleranceExponent)\n",
        "#Training\n",
        "(epochs,executionTime,exception) = neuralNetworkManager.start(trainingSet,resultsSet)\n",
        "print(\"----------------------FINISH TRAINING----------------------------------------------------\")\n",
        "output = Output(configHelper,epochs[-1].error,epochs[-1].epochNumber,executionTime)\n",
        "output.printOutput()\n",
        "#Testing\n",
        "print(\"----------------------EVALUATE GENERALITAZTION----------------------------------------------------\")\n",
        "errors = []\n",
        "kArray = []\n",
        "trainingPercentages = []\n",
        "for k in range(1,int(len(trainingSet)/10) - 1):\n",
        "    k = k*10\n",
        "    kArray.append(k)\n",
        "    (error,trainingPercentage,maxAccuracy) = neuralNetworkManager.crossValidation(trainingSet,resultsSet,k)\n",
        "    errors.append(error)\n",
        "    trainingPercentages.append(trainingPercentage)\n",
        "plotErrorAgainstKGraph(errors,kArray) \n",
        "plotErrorAgainstTrainingPercentageGraph(errors,trainingPercentages)\n",
        "plotEpochsError(epochs,\"Lineal Activation Function\")"
      ]
    },
    {
      "cell_type": "code",
      "execution_count": null,
      "metadata": {},
      "outputs": [],
      "source": [
        "#TANH\n",
        "activationFunctions=[HyperbolicTangentActivationFunction(beta),SigmoidalActivationFunction(beta)]\n",
        "neuralNetworkManager = NeuralNetworkManager(architecture,HyperbolicTangentActivationFunction.getType(beta),learningRate,maxEpochs,maxToleranceExponent)\n",
        "#Normalize\n",
        "(resultsSetNormalized,fixnt)=normalize(resultsSet,-1,1)\n",
        "#Training\n",
        "(epochs,executionTime,exception) = neuralNetworkManager.start(trainingSet,resultsSetNormalized)\n",
        "print(\"----------------------FINISH TRAINING----------------------------------------------------\")\n",
        "configHelper.activationFunctionType = HyperbolicTangentActivationFunction(beta).name\n",
        "output = Output(configHelper,epochs[-1].error,epochs[-1].epochNumber,executionTime)\n",
        "output.printOutput()\n",
        "#Testing\n",
        "print(\"----------------------EVALUATE GENERALITAZTION----------------------------------------------------\")\n",
        "errors = []\n",
        "kArray = []\n",
        "trainingPercentages = []\n",
        "for k in range(1,int(len(trainingSet)/10) - 1):\n",
        "    k = k*10\n",
        "    kArray.append(k)\n",
        "    (error,trainingPercentage,maxAccuracy) = neuralNetworkManager.crossValidation(trainingSet,resultsSetNormalized,k)\n",
        "    errors.append(error)\n",
        "    trainingPercentages.append(trainingPercentage)\n",
        "plotErrorAgainstKGraph(errors,kArray) \n",
        "plotErrorAgainstTrainingPercentageGraph(errors,trainingPercentages)\n",
        "plotEpochsError(epochs,\"Tanh Activation Function\")"
      ]
    },
    {
      "cell_type": "code",
      "execution_count": null,
      "metadata": {},
      "outputs": [],
      "source": [
        "#SIGMOIDAL\n",
        "neuralNetworkManager = NeuralNetworkManager(architecture,SigmoidalActivationFunction.getType(beta),learningRate,maxEpochs,maxToleranceExponent)\n",
        "#Normalize\n",
        "(resultsSetNormalized,fixnt)=normalize(resultsSet,0,1)\n",
        "#Training\n",
        "(epochs,executionTime,exception) = neuralNetworkManager.start(trainingSet,resultsSetNormalized)\n",
        "print(\"----------------------FINISH TRAINING----------------------------------------------------\")\n",
        "configHelper.activationFunctionType = HyperbolicTangentActivationFunction(beta).name\n",
        "output = Output(configHelper,epochs[-1].error,epochs[-1].epochNumber,executionTime)\n",
        "output.printOutput()\n",
        "#Testing\n",
        "print(\"----------------------EVALUATE GENERALITAZTION----------------------------------------------------\")\n",
        "errors = []\n",
        "kArray = []\n",
        "trainingPercentages = []\n",
        "for k in range(1,int(len(trainingSet)/10) - 1):\n",
        "    k = k*10\n",
        "    kArray.append(k)\n",
        "    (error,trainingPercentage,maxAccuracy) = neuralNetworkManager.crossValidation(trainingSet,resultsSetNormalized,k)\n",
        "    errors.append(error)\n",
        "    trainingPercentages.append(trainingPercentage)\n",
        "plotErrorAgainstKGraph(errors,kArray) \n",
        "plotErrorAgainstTrainingPercentageGraph(errors,trainingPercentages)\n",
        "plotEpochsError(epochs,\"Sigmoidal Activation Function\")"
      ]
    },
    {
      "cell_type": "markdown",
      "metadata": {},
      "source": [
        "# Ej3 Perceptron Multicapa"
      ]
    },
    {
      "cell_type": "markdown",
      "metadata": {},
      "source": [
        "##### 3.1 Funciones logicas ’Y’ y ’O exclusivo’ con entradas"
      ]
    },
    {
      "cell_type": "markdown",
      "metadata": {},
      "source": [
        "##### ’Y’"
      ]
    },
    {
      "cell_type": "code",
      "execution_count": null,
      "metadata": {},
      "outputs": [],
      "source": [
        "import random\n",
        "import numpy as np\n",
        "random.seed(11)\n",
        "np.random.seed(11)\n",
        "configPath=\"./config/Ej3/3_1/configEj3_1.json\"\n",
        "configHelper = ConfigHelper(configPath)\n",
        "(architecture,activationFunction,beta,learningRate,maxEpochs,maxToleranceExponent,randomSeed) = configHelper.getProperties()\n",
        "(trainingSet,resultsSet)=readSetFiles(\"./datasets/Ej1/training_set_ej_1.txt\",\"./datasets/Ej1/result_set_ej_1_and.txt\")\n",
        "\n",
        "#Seteo de seed\n",
        "np.random.seed(randomSeed)\n",
        "random.seed(randomSeed)\n",
        "\n",
        "neuralNetworkManager = NeuralNetworkManager(architecture,activationFunction,learningRate,maxEpochs,maxToleranceExponent)\n",
        "(epochs,executionTime,exception) = neuralNetworkManager.start(trainingSet,resultsSet)\n",
        "#Plot error graph\n",
        "plotEpochsError(epochs)\n",
        "#Print output\n",
        "print(\"FINISH-------------------------------------------------------------------------------------------\")\n",
        "output = Output(configHelper,epochs[-1].error,epochs[-1].epochNumber,executionTime)\n",
        "output.printOutput()"
      ]
    },
    {
      "cell_type": "markdown",
      "metadata": {},
      "source": [
        "##### ’O exclusivo’"
      ]
    },
    {
      "cell_type": "code",
      "execution_count": null,
      "metadata": {},
      "outputs": [],
      "source": [
        "configPath=\"./config/Ej3/3_1/configEj3_1.json\"\n",
        "configHelper = ConfigHelper(configPath)\n",
        "(architecture,activationFunction,beta,learningRate,maxEpochs,maxToleranceExponent,randomSeed) = configHelper.getProperties()\n",
        "(trainingSet,resultsSet)=readSetFiles(\"./datasets/Ej1/training_set_ej_1.txt\",\"./datasets/Ej1/result_set_ej_1_and.txt\")\n",
        "\n",
        "#Seteo de seed\n",
        "np.random.seed(randomSeed)\n",
        "random.seed(randomSeed)\n",
        "\n",
        "neuralNetworkManager = NeuralNetworkManager(architecture,activationFunction,learningRate,maxEpochs,maxToleranceExponent)\n",
        "(epochs,executionTime,exception) = neuralNetworkManager.start(trainingSet,resultsSet)\n",
        "#Plot error graph\n",
        "plotEpochsError(epochs)\n",
        "#Print output\n",
        "print(\"FINISH-------------------------------------------------------------------------------------------\")\n",
        "output = Output(configHelper,epochs[-1].error,epochs[-1].epochNumber,executionTime)\n",
        "output.printOutput()"
      ]
    },
    {
      "cell_type": "markdown",
      "metadata": {},
      "source": [
        "##### 3.2 Indicar paridad para numeros del 0 al 9"
      ]
    },
    {
      "cell_type": "code",
      "execution_count": null,
      "metadata": {},
      "outputs": [],
      "source": [
        "configPath=\"./config/Ej3/3_2/configEj3_2.json\"\n",
        "configHelper = ConfigHelper(configPath)\n",
        "(architecture,activationFunction,beta,learningRate,maxEpochs,maxToleranceExponent,randomSeed) = configHelper.getProperties()\n",
        "(trainingSet,resultsSet)=readNumberSetFiles(\"./datasets/Ej3/training_set_ej_3.txt\",\"./datasets/Ej3/result_set_ej_3_2.txt\")\n",
        "\n",
        "#Seteo de seed\n",
        "np.random.seed(randomSeed)\n",
        "random.seed(randomSeed)"
      ]
    },
    {
      "cell_type": "code",
      "execution_count": null,
      "metadata": {},
      "outputs": [],
      "source": [
        "#TANH\n",
        "\n",
        "#Creamos la instancia para metricas\n",
        "classes = [1,-1]\n",
        "metrics = Metrics(classes,False,-1,1)\n",
        "\n",
        "#Training\n",
        "neuralNetworkManager = NeuralNetworkManager(architecture,HyperbolicTangentActivationFunction.getType(beta),learningRate,maxEpochs,maxToleranceExponent)\n",
        "(epochs,executionTime,exception) = neuralNetworkManager.start(trainingSet,resultsSet)\n",
        "print(\"FINISH-------------------------------------------------------------------------------------------\")\n",
        "configHelper.activationFunctionType = HyperbolicTangentActivationFunction.getType(beta).name\n",
        "output = Output(configHelper,epochs[-1].error,epochs[-1].epochNumber,executionTime)\n",
        "output.printOutput()\n",
        "print(\"----------------------EVALUATE GENERALITAZTION----------------------------------------------------\")\n",
        "errors = []\n",
        "kArray = []\n",
        "trainingPercentages = []\n",
        "accuracyArray = []\n",
        "for k in range(2,len(trainingSet)+1):\n",
        "    kArray.append(k)\n",
        "    (error,trainingPercentage,maxAccuracy) = neuralNetworkManager.crossValidation(trainingSet,resultsSet,k,copy.deepcopy(metrics))\n",
        "    errors.append(error)\n",
        "    trainingPercentages.append(trainingPercentage)\n",
        "    accuracyArray.append(maxAccuracy)\n",
        "plotMetricAgainstVariable(accuracyArray,\"Accuracy\",kArray,\"K\")\n",
        "plotMetricAgainstVariable(accuracyArray,\"Accuracy\",trainingPercentages,\"Training percentage\")\n"
      ]
    },
    {
      "cell_type": "code",
      "execution_count": null,
      "metadata": {},
      "outputs": [],
      "source": [
        "#SIGMOIDAL\n",
        "\n",
        "#Creamos la instancia para metricas\n",
        "classes = [0,1]\n",
        "metrics = Metrics(classes,False,0,1)\n",
        "\n",
        "#Normalize\n",
        "(resultsSetNormalized,fixnt)=normalize(resultsSet,0,1)\n",
        "\n",
        "#Training\n",
        "neuralNetworkManager = NeuralNetworkManager(architecture,SigmoidalActivationFunction.getType(beta),learningRate,maxEpochs,maxToleranceExponent)\n",
        "(epochs,executionTime,exception) = neuralNetworkManager.start(trainingSet,resultsSetNormalized)\n",
        "print(\"FINISH-------------------------------------------------------------------------------------------\")\n",
        "configHelper.activationFunctionType=SigmoidalActivationFunction.getType(beta).name\n",
        "output = Output(configHelper,epochs[-1].error,epochs[-1].epochNumber,executionTime)\n",
        "output.printOutput()\n",
        "print(\"----------------------EVALUATE GENERALITAZTION----------------------------------------------------\")\n",
        "errors = []\n",
        "kArray = []\n",
        "trainingPercentages = []\n",
        "accuracyArray = []\n",
        "for k in range(2,len(trainingSet)+1):\n",
        "    kArray.append(k)\n",
        "    (error,trainingPercentage,maxAccuracy) = neuralNetworkManager.crossValidation(trainingSet,resultsSetNormalized,k,copy.deepcopy(metrics))\n",
        "    errors.append(error)\n",
        "    trainingPercentages.append(trainingPercentage)\n",
        "    accuracyArray.append(maxAccuracy)\n",
        "plotMetricAgainstVariable(accuracyArray,\"Accuracy\",kArray,\"K\")\n",
        "plotMetricAgainstVariable(accuracyArray,\"Accuracy\",trainingPercentages,\"Training percentage\")"
      ]
    },
    {
      "cell_type": "markdown",
      "metadata": {},
      "source": [
        "##### 3.3 Indicar que numero es, para numeros del 0 al 9"
      ]
    },
    {
      "cell_type": "code",
      "execution_count": null,
      "metadata": {},
      "outputs": [],
      "source": [
        "configPath=\"./config/Ej3/3_3/configEj3_3.json\"\n",
        "configHelper = ConfigHelper(configPath)\n",
        "(architecture,activationFunction,beta,learningRate,maxEpochs,maxToleranceExponent,randomSeed) = configHelper.getProperties()\n",
        "(trainingSet,resultsSet)=readNumberSetFiles(\"./datasets/Ej3/training_set_ej_3.txt\",\"./datasets/Ej3/result_set_ej_3_3.txt\")\n",
        "\n",
        "#Seteo de seed\n",
        "np.random.seed(randomSeed)\n",
        "random.seed(randomSeed)"
      ]
    },
    {
      "cell_type": "code",
      "execution_count": null,
      "metadata": {},
      "outputs": [],
      "source": [
        "#TANH\n",
        "classes = [0,1,2,3,4,5,6,7,8,9]\n",
        "metrics = Metrics(classes,True,-1,1)\n",
        "\n",
        "#Normalize\n",
        "(resultsSetNormalized,fixnt)=normalize(resultsSet,-1,1)\n",
        "\n",
        "neuralNetworkManager = NeuralNetworkManager(architecture,HyperbolicTangentActivationFunction.getType(beta),learningRate,maxEpochs,maxToleranceExponent)\n",
        "(epochs,executionTime,exception) = neuralNetworkManager.start(trainingSet,resultsSetNormalized)\n",
        "configHelper.activationFunctionType = HyperbolicTangentActivationFunction.getType(beta).name\n",
        "print(\"FINISH-------------------------------------------------------------------------------------------\")\n",
        "output = Output(configHelper,epochs[-1].error,epochs[-1].epochNumber,executionTime)\n",
        "output.printOutput()"
      ]
    },
    {
      "cell_type": "code",
      "execution_count": null,
      "metadata": {},
      "outputs": [],
      "source": [
        "#SIGMOIDAL\n",
        "classes = [0,1,2,3,4,5,6,7,8,9]\n",
        "metrics = Metrics(classes,True,0,1)\n",
        "\n",
        "\n",
        "neuralNetworkManager = NeuralNetworkManager(architecture,SigmoidalActivationFunction.getType(beta),learningRate,maxEpochs,maxToleranceExponent)\n",
        "(epochs,executionTime,exception) = neuralNetworkManager.start(trainingSet,resultsSet)\n",
        "configHelper.activationFunctionType = SigmoidalActivationFunction.getType(beta).name\n",
        "print(\"FINISH-------------------------------------------------------------------------------------------\")\n",
        "output = Output(configHelper,epochs[-1].error,epochs[-1].epochNumber,executionTime)\n",
        "output.printOutput()"
      ]
    },
    {
      "cell_type": "markdown",
      "metadata": {},
      "source": [
        "##### Agregar ruido"
      ]
    },
    {
      "cell_type": "code",
      "execution_count": null,
      "metadata": {},
      "outputs": [],
      "source": [
        "\n",
        "\n",
        "errorsNoise=[]\n",
        "trainingSetWithNoise=createTrainingSetWithNoise(trainingSet,0.02)\n",
        "for epoch in epochs:\n",
        "    (errorWNoise,aux,aux2,aux3)= neuralNetworkManager.test(trainingSetWithNoise,resultsSet,layers=epoch.layers)\n",
        "    errorsNoise.append(errorWNoise)\n",
        "print(errorsNoise)\n",
        "plotEpochsError(epochs,testingSetErrors=errorsNoise)\n",
        "\n"
      ]
    },
    {
      "cell_type": "markdown",
      "metadata": {},
      "source": [
        "##### Hacer grafico de error de testeo en funcion de la probabilidad de ruido"
      ]
    },
    {
      "cell_type": "code",
      "execution_count": null,
      "metadata": {},
      "outputs": [],
      "source": [
        "errorsNoise=[]\n",
        "currentProbability = 0.02\n",
        "limitProbability = 0.1\n",
        "step = 0.02\n",
        "probabilities=[]\n",
        "\n",
        "while(currentProbability<=limitProbability):\n",
        "    acum=0\n",
        "    trainingSetWithNoise=createTrainingSetWithNoise(trainingSet,currentProbability)\n",
        "    for i in range(0,100):\n",
        "        (errorWNoise,aux,aux2,aux3)= neuralNetworkManager.test(trainingSetWithNoise,resultsSet)\n",
        "        acum+=errorWNoise\n",
        "    errorsNoise.append(acum/100)\n",
        "    probabilities.append(currentProbability)\n",
        "    currentProbability+=step\n",
        "    acum=0\n",
        "\n",
        "plotProbabilityTestingError(probabilities,\"\",errorsNoise)"
      ]
    }
  ],
  "metadata": {
    "interpreter": {
      "hash": "72c274b9a759ce038a46d0adb0d086656b3a1676696d60f830e2d9d7d6911c65"
    },
    "kernelspec": {
      "display_name": "Python 3.10.2 ('venv': venv)",
      "language": "python",
      "name": "python3"
    },
    "language_info": {
      "codemirror_mode": {
        "name": "ipython",
        "version": 3
      },
      "file_extension": ".py",
      "mimetype": "text/x-python",
      "name": "python",
      "nbconvert_exporter": "python",
      "pygments_lexer": "ipython3",
      "version": "3.10.2"
    },
    "orig_nbformat": 4
  },
  "nbformat": 4,
  "nbformat_minor": 2
}
