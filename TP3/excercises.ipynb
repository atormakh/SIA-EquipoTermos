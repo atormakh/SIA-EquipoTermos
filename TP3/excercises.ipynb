{
 "cells": [
  {
   "cell_type": "markdown",
   "metadata": {},
   "source": [
    "# Ej1 - Perceptron Simple"
   ]
  },
  {
   "cell_type": "code",
   "execution_count": null,
   "metadata": {},
   "outputs": [],
   "source": [
    "configPath=\"./configEj1.json\"\n",
    "(activationFunction,architecture,learningRate)= configHelper(configPath)\n",
    "(trainingSet,resultsSet)=asdfjlasdfjas\n",
    "epochsManager=[]\n",
    "for beta in range(0.1,1,0.1):\n",
    "    (epochs)= neuralManager(params...)\n",
    "    epochsManager.append(epochs)\n",
    "plotEpochsManager()\n"
   ]
  },
  {
   "cell_type": "markdown",
   "metadata": {},
   "source": [
    "# Ej2\n"
   ]
  },
  {
   "cell_type": "code",
   "execution_count": null,
   "metadata": {},
   "outputs": [],
   "source": [
    "(trainingSet,resultsSet)=readSetFiles(\"./out.txt\",\"train.txt\")\n",
    "print(trainingSet[5:])"
   ]
  },
  {
   "cell_type": "markdown",
   "metadata": {},
   "source": []
  }
 ],
 "metadata": {
  "interpreter": {
   "hash": "338e4101f63403339b3f16149fd28dabcdea28eac3ccf13f3858b8929a8360d0"
  },
  "kernelspec": {
   "display_name": "Python 3.10.0 ('venv': venv)",
   "language": "python",
   "name": "python3"
  },
  "language_info": {
   "codemirror_mode": {
    "name": "ipython",
    "version": 3
   },
   "file_extension": ".py",
   "mimetype": "text/x-python",
   "name": "python",
   "nbconvert_exporter": "python",
   "pygments_lexer": "ipython3",
   "version": "3.10.0"
  },
  "orig_nbformat": 4
 },
 "nbformat": 4,
 "nbformat_minor": 2
}
