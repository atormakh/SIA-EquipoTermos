{
 "cells": [
  {
   "cell_type": "code",
   "execution_count": null,
   "metadata": {},
   "outputs": [],
   "source": [
    "from helpers.readSetFiles import readSetFiles,validateParameters\n",
    "from graph import plotEpochsError,plotPointsEj1\n",
    "from helpers.configHelper import ConfigHelper\n",
    "from helpers.activationFunctionHelper import ActivationFunctionHelper\n",
    "from neuralNetworkManager import NeuralNetworkManager"
   ]
  },
  {
   "cell_type": "markdown",
   "metadata": {},
   "source": [
    "# Ej1 - Perceptron Simple\n",
    "\n",
    "##### Funcion logica ’Y’ con entradas"
   ]
  },
  {
   "cell_type": "code",
   "execution_count": null,
   "metadata": {},
   "outputs": [],
   "source": [
    "configPath=\"./config/configEj1.json\"\n",
    "(architecture,activationFunction,beta,learningRate,maxIterations,maxToleranceExponent) = ConfigHelper(configPath).getProperties()\n",
    "(trainingSet,resultsSet)=readSetFiles(\"./datasets/Ej1/training_set_ej_1.txt\",\"./datasets/Ej1/result_set_ej_1_and.txt\")\n",
    "\n",
    "neuralNetworkManager = NeuralNetworkManager(architecture,activationFunction,learningRate,maxIterations,maxToleranceExponent)\n",
    "(epochs,executionTime) = neuralNetworkManager.start(trainingSet,resultsSet)\n",
    "plotEpochsError(epochs)\n",
    "#for epoch in epochs:\n",
    "plotPointsEj1(epochs[0].layers[0].W,trainingSet,1)"
   ]
  },
  {
   "cell_type": "markdown",
   "metadata": {},
   "source": [
    "##### Funcion logica ’O exclusivo’ con entradas"
   ]
  },
  {
   "cell_type": "code",
   "execution_count": null,
   "metadata": {},
   "outputs": [],
   "source": [
    "configPath=\"./config/configEj1.json\"\n",
    "(architecture,activationFunction,beta,learningRate,maxIterations,maxToleranceExponent) = ConfigHelper(configPath).getProperties()\n",
    "(trainingSet,resultsSet)=readSetFiles(\"./datasets/Ej1/training_set_ej_1.txt\",\"./datasets/Ej1/result_set_ej_1_xor.txt\")\n",
    "\n",
    "neuralNetworkManager = NeuralNetworkManager(architecture,activationFunction,learningRate,maxIterations,maxToleranceExponent)\n",
    "(epochs,executionTime) = neuralNetworkManager.start(trainingSet,resultsSet)\n",
    "plotEpochsError(epochs)\n",
    "#for epoch in epochs:\n",
    "plotPointsEj1(epochs[0].layers[0].W,trainingSet,1)"
   ]
  },
  {
   "cell_type": "markdown",
   "metadata": {},
   "source": [
    "# Ej2\n"
   ]
  },
  {
   "cell_type": "code",
   "execution_count": null,
   "metadata": {},
   "outputs": [],
   "source": [
    "(trainingSet,resultsSet)=readSetFiles(\"./out.txt\",\"train.txt\")\n",
    "print(trainingSet[5:])"
   ]
  },
  {
   "cell_type": "markdown",
   "metadata": {},
   "source": []
  }
 ],
 "metadata": {
  "interpreter": {
   "hash": "338e4101f63403339b3f16149fd28dabcdea28eac3ccf13f3858b8929a8360d0"
  },
  "kernelspec": {
   "display_name": "Python 3.10.0 ('venv': venv)",
   "language": "python",
   "name": "python3"
  },
  "language_info": {
   "codemirror_mode": {
    "name": "ipython",
    "version": 3
   },
   "file_extension": ".py",
   "mimetype": "text/x-python",
   "name": "python",
   "nbconvert_exporter": "python",
   "pygments_lexer": "ipython3",
   "version": "3.10.2"
  },
  "orig_nbformat": 4
 },
 "nbformat": 4,
 "nbformat_minor": 2
}
