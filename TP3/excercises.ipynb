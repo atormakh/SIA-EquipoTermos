{
 "cells": [
  {
   "cell_type": "code",
   "execution_count": null,
   "metadata": {},
   "outputs": [],
   "source": [
    "from helpers.readSetFiles import readSetFiles,validateParameters,readNumberSetFiles\n",
    "from graph import plotEpochsError,plotGraphEj1,plotGraphEj1Animated,plotErrorAgainstKGraph,plotErrorAgainstTrainingPercentageGraph,plotMetricsAgainstVariable,plotMetricAgainstVariable\n",
    "from helpers.configHelper import ConfigHelper\n",
    "from neuralNetworkManager import NeuralNetworkManager\n",
    "from activationFunctions.stepActivationFunction import StepActivationFunction\n",
    "from activationFunctions.linealActivationFunction import LinealActivationFunction\n",
    "from activationFunctions.hyperbolicTangentActivationFunction import HyperbolicTangentActivationFunction\n",
    "from activationFunctions.sigmoidalActivationFunction import SigmoidalActivationFunction\n",
    "from app import normalize\n",
    "from output import Output\n",
    "from metrics import Metrics\n",
    "import copy"
   ]
  },
  {
   "cell_type": "markdown",
   "metadata": {},
   "source": [
    "# Ej1 - Perceptron Simple Escalon\n",
    "\n",
    "##### Funcion logica ’Y’ con entradas"
   ]
  },
  {
   "cell_type": "code",
   "execution_count": null,
   "metadata": {},
   "outputs": [],
   "source": [
    "configPath=\"./config/Ej1/configEj1.json\"\n",
    "configHelper = ConfigHelper(configPath)\n",
    "(architecture,activationFunction,beta,learningRate,maxIterations,maxToleranceExponent) = configHelper.getProperties()\n",
    "(trainingSet,resultsSet)=readSetFiles(\"./datasets/Ej1/training_set_ej_1.txt\",\"./datasets/Ej1/result_set_ej_1_and.txt\")\n",
    "\n",
    "neuralNetworkManager = NeuralNetworkManager(architecture,activationFunction,learningRate,maxIterations,maxToleranceExponent)\n",
    "(epochs,executionTime,exception) = neuralNetworkManager.start(trainingSet,resultsSet)\n",
    "#Plot error graph\n",
    "plotEpochsError(epochs)\n",
    "#Plot points and division graph\n",
    "isXOR = False\n",
    "plotGraphEj1(trainingSet,isXOR,epochs)\n",
    "##Crear la carpeta de resultados con la subcarpeta de graficos y estadisticas en caso de que no existan\n",
    "isEj1 = True\n",
    "plotGraphEj1Animated(trainingSet,isXOR,epochs,isEj1)\n",
    "#Print output\n",
    "print(\"FINISH-------------------------------------------------------------------------------------------\")\n",
    "output = Output(configHelper,epochs[-1].error,epochs[-1].iterationNumber,executionTime)\n",
    "output.printOutput()"
   ]
  },
  {
   "cell_type": "markdown",
   "metadata": {},
   "source": [
    "##### Funcion logica ’O exclusivo’ con entradas"
   ]
  },
  {
   "cell_type": "code",
   "execution_count": null,
   "metadata": {},
   "outputs": [],
   "source": [
    "configPath=\"./config/Ej1/configEj1.json\"\n",
    "configHelper = ConfigHelper(configPath)\n",
    "(architecture,activationFunction,beta,learningRate,maxIterations,maxToleranceExponent) = configHelper.getProperties()\n",
    "(trainingSet,resultsSet)=readSetFiles(\"./datasets/Ej1/training_set_ej_1.txt\",\"./datasets/Ej1/result_set_ej_1_xor.txt\")\n",
    "\n",
    "neuralNetworkManager = NeuralNetworkManager(architecture,activationFunction,learningRate,maxIterations,maxToleranceExponent)\n",
    "(epochs,executionTime,exception) = neuralNetworkManager.start(trainingSet,resultsSet)\n",
    "#Plot error graph\n",
    "plotEpochsError(epochs)\n",
    "#Plot points and division graph\n",
    "isXOR = True\n",
    "plotGraphEj1(trainingSet,isXOR,epochs)\n",
    "isEj1 = True\n",
    "plotGraphEj1Animated(trainingSet,isXOR,epochs,isEj1)\n",
    "#Print output\n",
    "print(\"FINISH-------------------------------------------------------------------------------------------\")\n",
    "output = Output(configHelper,epochs[-1].error,epochs[-1].iterationNumber,executionTime)\n",
    "output.printOutput()"
   ]
  },
  {
   "cell_type": "markdown",
   "metadata": {},
   "source": [
    "# Ej2 Perceptron Simple lineal/no lineal\n"
   ]
  },
  {
   "cell_type": "code",
   "execution_count": null,
   "metadata": {},
   "outputs": [],
   "source": [
    "(architecture,activationFunction,beta,learningRate,maxIterations,maxToleranceExponent) = ConfigHelper(\"./config/Ej2/configEj2.json\").getProperties()\n",
    "(trainingSet,resultsSet)=readSetFiles(\"./datasets/Ej2/training_set_ej_2.txt\",\"./datasets/Ej2/result_set_ej_2.txt\")\n",
    "(resultsSetNormalized,fixnt)=normalize(resultsSet,0,1)\n",
    "activationFunctions=[HyperbolicTangentActivationFunction(beta),SigmoidalActivationFunction(beta)]\n",
    "neuralNetworkManager = NeuralNetworkManager(architecture,LinealActivationFunction.getType(beta),learningRate,maxIterations,maxToleranceExponent)\n",
    "(epochs,executionTime,exception) = neuralNetworkManager.start(trainingSet,resultsSet)\n",
    "print(\"----------------------EVALUATE GENERALITAZTION----------------------------------------------------\")\n",
    "errors = []\n",
    "kArray = []\n",
    "trainingPercentages = []\n",
    "for k in range(2,len(trainingSet)+1):\n",
    "    kArray.append(k)\n",
    "    (error,trainingPercentage,maxAccuracy) = neuralNetworkManager.crossValidation(trainingSet,resultsSet,k)\n",
    "    errors.append(error)\n",
    "    trainingPercentages.append(trainingPercentage)\n",
    "plotErrorAgainstTrainingPercentageGraph(errors,trainingPercentages)\n",
    "plotEpochsError(epochs,\"Lineal Activation Function\")\n",
    "for aF in activationFunctions:\n",
    "    neuralNetworkManager = NeuralNetworkManager(architecture,aF,learningRate,maxIterations,maxToleranceExponent)\n",
    "    (epochs,executionTime,exception) = neuralNetworkManager.start(trainingSet,resultsSetNormalized)\n",
    "    plotEpochsError(epochs,title=aF.name,denormalizeFn=fixnt)\n",
    "    errors = []\n",
    "    kArray = []\n",
    "    trainingPercentages = []\n",
    "    for k in range(2,len(trainingSet)+1):\n",
    "        kArray.append(k)\n",
    "        (error,trainingPercentage,maxAccuracy) = neuralNetworkManager.crossValidation(trainingSet,resultsSetNormal,k)\n",
    "        errors.append(error)\n",
    "        trainingPercentages.append(trainingPercentage)\n",
    "    plotErrorAgainstTrainingPercentageGraph(errors,trainingPercentages)\n"
   ]
  },
  {
   "cell_type": "code",
   "execution_count": null,
   "metadata": {},
   "outputs": [],
   "source": [
    "configHelper = ConfigHelper(\"./config/Ej2/configEj2.json\")\n",
    "(architecture,activationFunction,beta,learningRate,maxIterations,maxToleranceExponent) = configHelper.getProperties()\n",
    "(trainingSet,resultsSet)=readSetFiles(\"./datasets/Ej2/training_set_ej_2.txt\",\"./datasets/Ej2/result_set_ej_2.txt\")"
   ]
  },
  {
   "cell_type": "code",
   "execution_count": null,
   "metadata": {},
   "outputs": [],
   "source": [
    "#LINEAL\n",
    "activationFunctions=[HyperbolicTangentActivationFunction(beta),SigmoidalActivationFunction(beta)]\n",
    "neuralNetworkManager = NeuralNetworkManager(architecture,LinealActivationFunction.getType(beta),learningRate,maxIterations,maxToleranceExponent)\n",
    "#Training\n",
    "(epochs,executionTime,exception) = neuralNetworkManager.start(trainingSet,resultsSet)\n",
    "print(\"----------------------FINISH TRAINING----------------------------------------------------\")\n",
    "output = Output(configHelper,epochs[-1].error,epochs[-1].iterationNumber,executionTime)\n",
    "output.printOutput()\n",
    "#Testing\n",
    "print(\"----------------------EVALUATE GENERALITAZTION----------------------------------------------------\")\n",
    "errors = []\n",
    "kArray = []\n",
    "trainingPercentages = []\n",
    "for k in range(2,len(trainingSet)+1):\n",
    "    kArray.append(k)\n",
    "    (error,trainingPercentage,maxAccuracy) = neuralNetworkManager.crossValidation(trainingSet,resultsSet,k)\n",
    "    errors.append(error)\n",
    "    trainingPercentages.append(trainingPercentage)\n",
    "plotErrorAgainstKGraph(errors,kArray) \n",
    "plotErrorAgainstTrainingPercentageGraph(errors,trainingPercentages)\n",
    "plotEpochsError(epochs,\"Lineal Activation Function\")"
   ]
  },
  {
   "cell_type": "code",
   "execution_count": 14,
   "metadata": {},
   "outputs": [
    {
     "name": "stdout",
     "output_type": "stream",
     "text": [
      "----------------------FINISH TRAINING----------------------------------------------------\n",
      "OUTPUT :\n",
      "        - Configuration paramaters :\n",
      "            \t-Architecture : [3, 1]\n",
      "\t\t-Activation function :LINEAL\n",
      "\t\t-Beta : 1\n",
      "\t\t-Learning rate : 0.1 \n",
      "\t\t-Max iterations : 1000\n",
      "\t\t-Error bound : 1e^-5\n",
      "        - Error : 1360.1241083186706\n",
      "\n",
      "        - Epoch : 999\n",
      "\n",
      "        - Execution time : 47.100314600000274 sec\n",
      "----------------------EVALUATE GENERALITAZTION----------------------------------------------------\n",
      "Cross validation with k=2 results:\n",
      "\terror min == 1279.0833686874748\n",
      "\ttraining percentage == 0.5\n"
     ]
    }
   ],
   "source": [
    "#TANH\n",
    "activationFunctions=[HyperbolicTangentActivationFunction(beta),SigmoidalActivationFunction(beta)]\n",
    "neuralNetworkManager = NeuralNetworkManager(architecture,HyperbolicTangentActivationFunction.getType(beta),learningRate,maxIterations,maxToleranceExponent)\n",
    "#Normalize\n",
    "(resultsSetNormalized,fixnt)=normalize(resultsSet,-1,1)\n",
    "#Training\n",
    "(epochs,executionTime,exception) = neuralNetworkManager.start(trainingSet,resultsSetNormalized)\n",
    "print(\"----------------------FINISH TRAINING----------------------------------------------------\")\n",
    "output = Output(configHelper,epochs[-1].error,epochs[-1].iterationNumber,executionTime)\n",
    "output.printOutput()\n",
    "#Testing\n",
    "print(\"----------------------EVALUATE GENERALITAZTION----------------------------------------------------\")\n",
    "errors = []\n",
    "kArray = []\n",
    "trainingPercentages = []\n",
    "for k in range(2,len(trainingSet)+1):\n",
    "    kArray.append(k)\n",
    "    (error,trainingPercentage,maxAccuracy) = neuralNetworkManager.crossValidation(trainingSet,resultsSetNormalized,k)\n",
    "    errors.append(error)\n",
    "    trainingPercentages.append(trainingPercentage)\n",
    "plotErrorAgainstKGraph(errors,kArray) \n",
    "plotErrorAgainstTrainingPercentageGraph(errors,trainingPercentages)\n",
    "plotEpochsError(epochs,\"Tanh Activation Function\")"
   ]
  },
  {
   "cell_type": "code",
   "execution_count": null,
   "metadata": {},
   "outputs": [],
   "source": [
    "#SIGMOIDAL\n",
    "neuralNetworkManager = NeuralNetworkManager(architecture,SigmoidalActivationFunction.getType(beta),learningRate,maxIterations,maxToleranceExponent)\n",
    "#Normalize\n",
    "(resultsSetNormalized,fixnt)=normalize(resultsSet,0,1)\n",
    "#Training\n",
    "(epochs,executionTime,exception) = neuralNetworkManager.start(trainingSet,resultsSetNormalized)\n",
    "print(\"----------------------FINISH TRAINING----------------------------------------------------\")\n",
    "output = Output(configHelper,epochs[-1].error,epochs[-1].iterationNumber,executionTime)\n",
    "output.printOutput()\n",
    "#Testing\n",
    "print(\"----------------------EVALUATE GENERALITAZTION----------------------------------------------------\")\n",
    "errors = []\n",
    "kArray = []\n",
    "trainingPercentages = []\n",
    "for k in range(2,len(trainingSet)+1):\n",
    "    kArray.append(k)\n",
    "    (error,trainingPercentage,maxAccuracy) = neuralNetworkManager.crossValidation(trainingSet,resultsSetNormalized,k)\n",
    "    errors.append(error)\n",
    "    trainingPercentages.append(trainingPercentage)\n",
    "plotErrorAgainstKGraph(errors,kArray) \n",
    "plotErrorAgainstTrainingPercentageGraph(errors,trainingPercentages)\n",
    "plotEpochsError(epochs,\"Sigmoidal Activation Function\")"
   ]
  },
  {
   "cell_type": "markdown",
   "metadata": {},
   "source": [
    "# Ej3 Perceptron Multicapa"
   ]
  },
  {
   "cell_type": "markdown",
   "metadata": {},
   "source": [
    "##### 3.1 Funciones logicas ’Y’ y ’O exclusivo’ con entradas"
   ]
  },
  {
   "cell_type": "markdown",
   "metadata": {},
   "source": [
    "##### ’Y’"
   ]
  },
  {
   "cell_type": "code",
   "execution_count": null,
   "metadata": {},
   "outputs": [],
   "source": [
    "import random\n",
    "import numpy as np\n",
    "random.seed(11)\n",
    "np.random.seed(11)\n",
    "configPath=\"./config/Ej3/3_1/configEj3_1.json\"\n",
    "configHelper = ConfigHelper(configPath)\n",
    "(architecture,activationFunction,beta,learningRate,maxIterations,maxToleranceExponent) = configHelper.getProperties()\n",
    "(trainingSet,resultsSet)=readSetFiles(\"./datasets/Ej1/training_set_ej_1.txt\",\"./datasets/Ej1/result_set_ej_1_and.txt\")\n",
    "\n",
    "neuralNetworkManager = NeuralNetworkManager(architecture,activationFunction,learningRate,maxIterations,maxToleranceExponent)\n",
    "(epochs,executionTime,exception) = neuralNetworkManager.start(trainingSet,resultsSet)\n",
    "#Plot error graph\n",
    "plotEpochsError(epochs)\n",
    "#Plot points and division graph\n",
    "isXOR = False\n",
    "plotGraphEj1(trainingSet,isXOR,epochs)\n",
    "isEj1 = False\n",
    "plotGraphEj1Animated(trainingSet,isXOR,epochs,isEj1)\n",
    "#Print output\n",
    "print(\"FINISH-------------------------------------------------------------------------------------------\")\n",
    "output = Output(configHelper,epochs[-1].error,epochs[-1].iterationNumber,executionTime)\n",
    "output.printOutput()"
   ]
  },
  {
   "cell_type": "markdown",
   "metadata": {},
   "source": [
    "##### ’O exclusivo’"
   ]
  },
  {
   "cell_type": "code",
   "execution_count": null,
   "metadata": {},
   "outputs": [],
   "source": [
    "configPath=\"./config/Ej3/3_1/configEj3_1.json\"\n",
    "configHelper = ConfigHelper(configPath)\n",
    "(architecture,activationFunction,beta,learningRate,maxIterations,maxToleranceExponent) = configHelper.getProperties()\n",
    "(trainingSet,resultsSet)=readSetFiles(\"./datasets/Ej1/training_set_ej_1.txt\",\"./datasets/Ej1/result_set_ej_1_and.txt\")\n",
    "\n",
    "neuralNetworkManager = NeuralNetworkManager(architecture,activationFunction,learningRate,maxIterations,maxToleranceExponent)\n",
    "(epochs,executionTime,exception) = neuralNetworkManager.start(trainingSet,resultsSet)\n",
    "#Plot error graph\n",
    "plotEpochsError(epochs)\n",
    "#Plot points and division graph\n",
    "isXOR = True\n",
    "plotGraphEj1(trainingSet,isXOR,epochs)\n",
    "isEj1 = False\n",
    "plotGraphEj1Animated(trainingSet,isXOR,epochs,isEj1)\n",
    "#Print output\n",
    "print(\"FINISH-------------------------------------------------------------------------------------------\")\n",
    "output = Output(configHelper,epochs[-1].error,epochs[-1].iterationNumber,executionTime)\n",
    "output.printOutput()"
   ]
  },
  {
   "cell_type": "markdown",
   "metadata": {},
   "source": [
    "##### 3.2 Indicar paridad para numeros del 0 al 9"
   ]
  },
  {
   "cell_type": "code",
   "execution_count": null,
   "metadata": {},
   "outputs": [],
   "source": [
    "configPath=\"./config/Ej3/3_2/configEj3_2.json\"\n",
    "configHelper = ConfigHelper(configPath)\n",
    "(architecture,activationFunction,beta,learningRate,maxIterations,maxToleranceExponent) = configHelper.getProperties()\n",
    "(trainingSet,resultsSet)=readNumberSetFiles(\"./datasets/Ej3/training_set_ej_3.txt\",\"./datasets/Ej3/result_set_ej_3_2.txt\")\n",
    "print(trainingSet)\n",
    "print(resultsSet)\n",
    "#Creamos la instancia para metricas\n",
    "classes = [1,-1]\n",
    "metrics = Metrics(classes,False,-1,1)\n",
    "neuralNetworkManager = NeuralNetworkManager(architecture,activationFunction,learningRate,maxIterations,maxToleranceExponent)\n",
    "(epochs,executionTime,exception) = neuralNetworkManager.start(trainingSet,resultsSet)\n",
    "print(\"FINISH-------------------------------------------------------------------------------------------\")\n",
    "# print(epochs)\n",
    "output = Output(configHelper,epochs[-1].error,epochs[-1].iterationNumber,executionTime)\n",
    "output.printOutput()\n",
    "print(\"----------------------EVALUATE GENERALITAZTION----------------------------------------------------\")\n",
    "errors = []\n",
    "kArray = []\n",
    "trainingPercentages = []\n",
    "# metricsArrays = {'accuracy':[],'precision':[],'recall':[],'f_1-score':[],'true_positive_rate':[],'false_positive_rate':[]}\n",
    "accuracyArray = []\n",
    "for k in range(2,len(trainingSet)+1):\n",
    "    kArray.append(k)\n",
    "    (error,trainingPercentage,maxAccuracy) = neuralNetworkManager.crossValidation(trainingSet,resultsSet,k,copy.deepcopy(metrics))\n",
    "    errors.append(error)\n",
    "    trainingPercentages.append(trainingPercentage)\n",
    "    accuracyArray.append(maxAccuracy)\n",
    "    # metricsArrays['accuracy'].append(metricsDict['accuracy'])\n",
    "    # metricsArrays['precision'].append(metricsDict['precision'])\n",
    "    # metricsArrays['recall'].append(metricsDict['recall'])\n",
    "    # metricsArrays['f_1-score'].append(metricsDict['f_1-score'])\n",
    "    # metricsArrays['true_positive_rate'].append(metricsDict['true_positive_rate'])\n",
    "    # metricsArrays['false_positive_rate'].append(metricsDict['false_positive_rate'])\n",
    "# plotMetricsAgainstVariable(metricsArrays,kArray,\"K\")\n",
    "# plotMetricsAgainstVariable(metricsArrays,trainingPercentages,\"Training percentage\")\n",
    "plotMetricAgainstVariable(accuracyArray,\"Accuracy\",kArray,\"K\")\n",
    "plotMetricAgainstVariable(accuracyArray,\"Accuracy\",trainingPercentages,\"Training percentage\")\n"
   ]
  },
  {
   "cell_type": "markdown",
   "metadata": {},
   "source": [
    "##### 3.3 Indicar que numero es, para numeros del 0 al 9"
   ]
  },
  {
   "cell_type": "code",
   "execution_count": null,
   "metadata": {},
   "outputs": [],
   "source": [
    "configPath=\"./config/Ej3/3_3/configEj3_3.json\"\n",
    "configHelper = ConfigHelper(configPath)\n",
    "(architecture,activationFunction,beta,learningRate,maxIterations,maxToleranceExponent) = configHelper.getProperties()\n",
    "(trainingSet,resultsSet)=readNumberSetFiles(\"./datasets/Ej3/training_set_ej_3.txt\",\"./datasets/Ej3/result_set_ej_3_3.txt\")\n",
    "print(trainingSet)\n",
    "print(resultsSet)\n",
    "#Creamos la instancia para metricas\n",
    "classes = [0,1,2,3,4,5,6,7,8,9]\n",
    "metrics = Metrics(classes,True,-1,1)\n",
    "neuralNetworkManager = NeuralNetworkManager(architecture,activationFunction,learningRate,maxIterations,maxToleranceExponent)\n",
    "(epochs,executionTime,exception) = neuralNetworkManager.start(trainingSet,resultsSet)\n",
    "print(\"FINISH-------------------------------------------------------------------------------------------\")\n",
    "# print(epochs)\n",
    "output = Output(configHelper,epochs[-1].error,epochs[-1].iterationNumber,executionTime)\n",
    "output.printOutput()\n",
    "print(\"----------------------EVALUATE GENERALITAZTION----------------------------------------------------\")\n",
    "errors = []\n",
    "kArray = []\n",
    "trainingPercentages = []\n",
    "# metricsArrays = {'accuracy':[],'precision':[],'recall':[],'f_1-score':[],'true_positive_rate':[],'false_positive_rate':[]}\n",
    "accuracyArray = []\n",
    "for k in range(2,len(trainingSet)+1):\n",
    "    kArray.append(k)\n",
    "    (error,trainingPercentage,maxAccuracy) = neuralNetworkManager.crossValidation(trainingSet,resultsSet,k,copy.deepcopy(metrics))\n",
    "    errors.append(error)\n",
    "    trainingPercentages.append(trainingPercentage)\n",
    "    accuracyArray.append(maxAccuracy)\n",
    "    # metricsArrays['accuracy'].append(metricsDict['accuracy'])\n",
    "    # metricsArrays['precision'].append(metricsDict['precision'])\n",
    "    # metricsArrays['recall'].append(metricsDict['recall'])\n",
    "    # metricsArrays['f_1-score'].append(metricsDict['f_1-score'])\n",
    "    # metricsArrays['true_positive_rate'].append(metricsDict['true_positive_rate'])\n",
    "    # metricsArrays['false_positive_rate'].append(metricsDict['false_positive_rate'])\n",
    "plotMetricAgainstVariable(accuracyArray,\"Accuracy\",kArray,\"K\")\n",
    "plotMetricAgainstVariable(accuracyArray,\"Accuracy\",trainingPercentages,\"Training percentage\")"
   ]
  }
 ],
 "metadata": {
  "interpreter": {
   "hash": "7f2633a0dd9fad194999ffc17b7b93627efd4bccf6144e14bc5fef7dfd0c6355"
  },
  "kernelspec": {
   "display_name": "Python 3.10.4 64-bit",
   "language": "python",
   "name": "python3"
  },
  "language_info": {
   "codemirror_mode": {
    "name": "ipython",
    "version": 3
   },
   "file_extension": ".py",
   "mimetype": "text/x-python",
   "name": "python",
   "nbconvert_exporter": "python",
   "pygments_lexer": "ipython3",
   "version": "3.10.4"
  },
  "orig_nbformat": 4
 },
 "nbformat": 4,
 "nbformat_minor": 2
}
