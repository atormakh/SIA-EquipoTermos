{
 "cells": [
  {
   "cell_type": "code",
   "execution_count": 1,
   "metadata": {},
   "outputs": [],
   "source": [
    "from helpers.readSetFiles import readSetFiles,validateParameters,readNumberSetFiles\n",
    "from graph import plotEpochsError,plotGraphEj1,plotGraphEj1Animated,plotErrorAgainstKGraph,plotErrorAgainstTrainingPercentageGraph,plotMetricsAgainstVariable,plotMetricAgainstVariable\n",
    "from helpers.configHelper import ConfigHelper\n",
    "from neuralNetworkManager import NeuralNetworkManager\n",
    "from activationFunctions.stepActivationFunction import StepActivationFunction\n",
    "from activationFunctions.linealActivationFunction import LinealActivationFunction\n",
    "from activationFunctions.hyperbolicTangentActivationFunction import HyperbolicTangentActivationFunction\n",
    "from activationFunctions.sigmoidalActivationFunction import SigmoidalActivationFunction\n",
    "from helpers.noise import createTrainingSetWithNoise\n",
    "from app import normalize\n",
    "from output import Output\n",
    "from metrics import Metrics\n",
    "import copy"
   ]
  },
  {
   "cell_type": "markdown",
   "metadata": {},
   "source": [
    "# Ej1 - Perceptron Simple Escalon\n",
    "\n",
    "##### Funcion logica ’Y’ con entradas"
   ]
  },
  {
   "cell_type": "code",
   "execution_count": null,
   "metadata": {},
   "outputs": [],
   "source": [
    "configPath=\"./config/Ej1/configEj1.json\"\n",
    "configHelper = ConfigHelper(configPath)\n",
    "(architecture,activationFunction,beta,learningRate,maxIterations,maxToleranceExponent) = configHelper.getProperties()\n",
    "(trainingSet,resultsSet)=readSetFiles(\"./datasets/Ej1/training_set_ej_1.txt\",\"./datasets/Ej1/result_set_ej_1_and.txt\")\n",
    "\n",
    "neuralNetworkManager = NeuralNetworkManager(architecture,activationFunction,learningRate,maxIterations,maxToleranceExponent)\n",
    "(epochs,executionTime,exception) = neuralNetworkManager.start(trainingSet,resultsSet)\n",
    "#Plot error graph\n",
    "plotEpochsError(epochs)\n",
    "#Plot points and division graph\n",
    "isXOR = False\n",
    "plotGraphEj1(trainingSet,isXOR,epochs)\n",
    "##Crear la carpeta de resultados con la subcarpeta de graficos y estadisticas en caso de que no existan\n",
    "isEj1 = True\n",
    "plotGraphEj1Animated(trainingSet,isXOR,epochs,isEj1)\n",
    "#Print output\n",
    "print(\"FINISH-------------------------------------------------------------------------------------------\")\n",
    "output = Output(configHelper,epochs[-1].error,epochs[-1].iterationNumber,executionTime)\n",
    "output.printOutput()"
   ]
  },
  {
   "cell_type": "markdown",
   "metadata": {},
   "source": [
    "##### Funcion logica ’O exclusivo’ con entradas"
   ]
  },
  {
   "cell_type": "code",
   "execution_count": null,
   "metadata": {},
   "outputs": [],
   "source": [
    "configPath=\"./config/Ej1/configEj1.json\"\n",
    "configHelper = ConfigHelper(configPath)\n",
    "(architecture,activationFunction,beta,learningRate,maxIterations,maxToleranceExponent) = configHelper.getProperties()\n",
    "(trainingSet,resultsSet)=readSetFiles(\"./datasets/Ej1/training_set_ej_1.txt\",\"./datasets/Ej1/result_set_ej_1_xor.txt\")\n",
    "\n",
    "neuralNetworkManager = NeuralNetworkManager(architecture,activationFunction,learningRate,maxIterations,maxToleranceExponent)\n",
    "(epochs,executionTime,exception) = neuralNetworkManager.start(trainingSet,resultsSet)\n",
    "#Plot error graph\n",
    "plotEpochsError(epochs)\n",
    "#Plot points and division graph\n",
    "isXOR = True\n",
    "plotGraphEj1(trainingSet,isXOR,epochs)\n",
    "isEj1 = True\n",
    "plotGraphEj1Animated(trainingSet,isXOR,epochs,isEj1)\n",
    "#Print output\n",
    "print(\"FINISH-------------------------------------------------------------------------------------------\")\n",
    "output = Output(configHelper,epochs[-1].error,epochs[-1].iterationNumber,executionTime)\n",
    "output.printOutput()"
   ]
  },
  {
   "cell_type": "markdown",
   "metadata": {},
   "source": [
    "# Ej2 Perceptron Simple lineal/no lineal\n"
   ]
  },
  {
   "cell_type": "code",
   "execution_count": null,
   "metadata": {},
   "outputs": [],
   "source": [
    "(architecture,activationFunction,beta,learningRate,maxIterations,maxToleranceExponent) = ConfigHelper(\"./config/Ej2/configEj2.json\").getProperties()\n",
    "(trainingSet,resultsSet)=readSetFiles(\"./datasets/Ej2/training_set_ej_2.txt\",\"./datasets/Ej2/result_set_ej_2.txt\")\n",
    "(resultsSetNormalized,fixnt)=normalize(resultsSet,0,1)\n",
    "activationFunctions=[HyperbolicTangentActivationFunction(beta),SigmoidalActivationFunction(beta)]\n",
    "neuralNetworkManager = NeuralNetworkManager(architecture,LinealActivationFunction.getType(beta),learningRate,maxIterations,maxToleranceExponent)\n",
    "(epochs,executionTime,exception) = neuralNetworkManager.start(trainingSet,resultsSet)\n",
    "plotEpochsError(epochs,\"Lineal Activation Function\")\n",
    "for aF in activationFunctions:\n",
    "    neuralNetworkManager = NeuralNetworkManager(architecture,aF,learningRate,maxIterations,maxToleranceExponent)\n",
    "    (epochs,executionTime,exception) = neuralNetworkManager.start(trainingSet,resultsSetNormalized)\n",
    "    plotEpochsError(epochs,title=aF.name,denormalizeFn=fixnt)\n"
   ]
  },
  {
   "cell_type": "markdown",
   "metadata": {},
   "source": [
    "# Ej3 Perceptron Multicapa"
   ]
  },
  {
   "cell_type": "markdown",
   "metadata": {},
   "source": [
    "##### 3.1 Funciones logicas ’Y’ y ’O exclusivo’ con entradas"
   ]
  },
  {
   "cell_type": "markdown",
   "metadata": {},
   "source": [
    "##### ’Y’"
   ]
  },
  {
   "cell_type": "code",
   "execution_count": null,
   "metadata": {},
   "outputs": [],
   "source": [
    "import random\n",
    "import numpy as np\n",
    "random.seed(11)\n",
    "np.random.seed(11)\n",
    "configPath=\"./config/Ej3/3_1/configEj3_1.json\"\n",
    "configHelper = ConfigHelper(configPath)\n",
    "(architecture,activationFunction,beta,learningRate,maxIterations,maxToleranceExponent) = configHelper.getProperties()\n",
    "(trainingSet,resultsSet)=readSetFiles(\"./datasets/Ej1/training_set_ej_1.txt\",\"./datasets/Ej1/result_set_ej_1_and.txt\")\n",
    "\n",
    "neuralNetworkManager = NeuralNetworkManager(architecture,activationFunction,learningRate,maxIterations,maxToleranceExponent)\n",
    "(epochs,executionTime,exception) = neuralNetworkManager.start(trainingSet,resultsSet)\n",
    "#Plot error graph\n",
    "plotEpochsError(epochs)\n",
    "#Plot points and division graph\n",
    "isXOR = False\n",
    "plotGraphEj1(trainingSet,isXOR,epochs)\n",
    "isEj1 = False\n",
    "plotGraphEj1Animated(trainingSet,isXOR,epochs,isEj1)\n",
    "#Print output\n",
    "print(\"FINISH-------------------------------------------------------------------------------------------\")\n",
    "output = Output(configHelper,epochs[-1].error,epochs[-1].iterationNumber,executionTime)\n",
    "output.printOutput()"
   ]
  },
  {
   "cell_type": "markdown",
   "metadata": {},
   "source": [
    "##### ’O exclusivo’"
   ]
  },
  {
   "cell_type": "code",
   "execution_count": null,
   "metadata": {},
   "outputs": [],
   "source": [
    "configPath=\"./config/Ej3/3_1/configEj3_1.json\"\n",
    "configHelper = ConfigHelper(configPath)\n",
    "(architecture,activationFunction,beta,learningRate,maxIterations,maxToleranceExponent) = configHelper.getProperties()\n",
    "(trainingSet,resultsSet)=readSetFiles(\"./datasets/Ej1/training_set_ej_1.txt\",\"./datasets/Ej1/result_set_ej_1_and.txt\")\n",
    "\n",
    "neuralNetworkManager = NeuralNetworkManager(architecture,activationFunction,learningRate,maxIterations,maxToleranceExponent)\n",
    "(epochs,executionTime,exception) = neuralNetworkManager.start(trainingSet,resultsSet)\n",
    "#Plot error graph\n",
    "plotEpochsError(epochs)\n",
    "#Plot points and division graph\n",
    "isXOR = True\n",
    "plotGraphEj1(trainingSet,isXOR,epochs)\n",
    "isEj1 = False\n",
    "plotGraphEj1Animated(trainingSet,isXOR,epochs,isEj1)\n",
    "#Print output\n",
    "print(\"FINISH-------------------------------------------------------------------------------------------\")\n",
    "output = Output(configHelper,epochs[-1].error,epochs[-1].iterationNumber,executionTime)\n",
    "output.printOutput()"
   ]
  },
  {
   "cell_type": "markdown",
   "metadata": {},
   "source": [
    "##### 3.2 Indicar paridad para numeros del 0 al 9"
   ]
  },
  {
   "cell_type": "code",
   "execution_count": null,
   "metadata": {},
   "outputs": [],
   "source": [
    "configPath=\"./config/Ej3/3_2/configEj3_2.json\"\n",
    "configHelper = ConfigHelper(configPath)\n",
    "(architecture,activationFunction,beta,learningRate,maxIterations,maxToleranceExponent) = configHelper.getProperties()\n",
    "(trainingSet,resultsSet)=readNumberSetFiles(\"./datasets/Ej3/training_set_ej_3.txt\",\"./datasets/Ej3/result_set_ej_3_2.txt\")\n",
    "print(trainingSet)\n",
    "print(resultsSet)\n",
    "#Creamos la instancia para metricas\n",
    "classes = [1,-1]\n",
    "metrics = Metrics(classes,False)\n",
    "neuralNetworkManager = NeuralNetworkManager(architecture,activationFunction,learningRate,maxIterations,maxToleranceExponent)\n",
    "(epochs,executionTime,exception) = neuralNetworkManager.start(trainingSet,resultsSet)\n",
    "print(\"FINISH-------------------------------------------------------------------------------------------\")\n",
    "# print(epochs)\n",
    "output = Output(configHelper,epochs[-1].error,epochs[-1].iterationNumber,executionTime)\n",
    "output.printOutput()\n",
    "print(\"----------------------EVALUATE GENERALITAZTION----------------------------------------------------\")\n",
    "errors = []\n",
    "kArray = []\n",
    "trainingPercentages = []\n",
    "# metricsArrays = {'accuracy':[],'precision':[],'recall':[],'f_1-score':[],'true_positive_rate':[],'false_positive_rate':[]}\n",
    "accuracyArray = []\n",
    "for k in range(2,len(trainingSet)+1):\n",
    "    kArray.append(k)\n",
    "    (error,trainingPercentage,metricsDict,maxAccuracy) = neuralNetworkManager.crossValidation(trainingSet,resultsSet,k,copy.deepcopy(metrics))\n",
    "    errors.append(error)\n",
    "    trainingPercentages.append(trainingPercentage)\n",
    "    accuracyArray.append(maxAccuracy)\n",
    "    # metricsArrays['accuracy'].append(metricsDict['accuracy'])\n",
    "    # metricsArrays['precision'].append(metricsDict['precision'])\n",
    "    # metricsArrays['recall'].append(metricsDict['recall'])\n",
    "    # metricsArrays['f_1-score'].append(metricsDict['f_1-score'])\n",
    "    # metricsArrays['true_positive_rate'].append(metricsDict['true_positive_rate'])\n",
    "    # metricsArrays['false_positive_rate'].append(metricsDict['false_positive_rate'])\n",
    "# plotMetricsAgainstVariable(metricsArrays,kArray,\"K\")\n",
    "# plotMetricsAgainstVariable(metricsArrays,trainingPercentages,\"Training percentage\")\n",
    "plotMetricAgainstVariable(accuracyArray,\"Accuracy\",kArray,\"K\")\n",
    "plotMetricAgainstVariable(accuracyArray,\"Accuracy\",trainingPercentages,\"Training percentage\")\n"
   ]
  },
  {
   "cell_type": "markdown",
   "metadata": {},
   "source": [
    "##### 3.3 Indicar que numero es, para numeros del 0 al 9"
   ]
  },
  {
   "cell_type": "code",
   "execution_count": 13,
   "metadata": {},
   "outputs": [
    {
     "name": "stdout",
     "output_type": "stream",
     "text": [
      "FINISH-------------------------------------------------------------------------------------------\n",
      "OUTPUT :\n",
      "        - Configuration paramaters :\n",
      "            \t-Architecture : [35, 15, 15, 15, 4, 10]\n",
      "\t\t-Activation function :SIGMOIDAL\n",
      "\t\t-Beta : 0.45\n",
      "\t\t-Learning rate : 0.1 \n",
      "\t\t-Max iterations : 100\n",
      "\t\t-Error bound : 1e^-12\n",
      "        - Error : 4.500035387216387\n",
      "\n",
      "        - Epoch : 99\n",
      "\n",
      "        - Execution time : 1.2078725480000685 sec\n",
      "----------------------EVALUATE GENERALITAZTION----------------------------------------------------\n"
     ]
    },
    {
     "name": "stderr",
     "output_type": "stream",
     "text": [
      "/home/agustin/code/SIA/SIA-EquipoTermos/TP3/venv/lib/python3.10/site-packages/numpy/core/fromnumeric.py:43: VisibleDeprecationWarning: Creating an ndarray from ragged nested sequences (which is a list-or-tuple of lists-or-tuples-or ndarrays with different lengths or shapes) is deprecated. If you meant to do this, you must specify 'dtype=object' when creating the ndarray.\n",
      "  result = getattr(asarray(obj), method)(*args, **kwds)\n"
     ]
    },
    {
     "name": "stdout",
     "output_type": "stream",
     "text": [
      "Cross validation with k=2 results:\n",
      "\terror min == 4.700186897522005\n",
      "\ttraining percentage == 0.5\n",
      "\tmetrics ==  {'accuracy': 0.7999999999999999, 'precision': 0.0, 'recall': 0.0, 'f_1-score': 0.0, 'true_positive_rate': 0.0, 'false_positive_rate': 0.1}\n",
      "\tmax accuracy ==  0.7999999999999999\n",
      "Cross validation with k=3 results:\n",
      "\terror min == 4.583699971311324\n",
      "\ttraining percentage == 0.6666666666666667\n",
      "\tmetrics ==  {'accuracy': 0.8, 'precision': 0.0, 'recall': 0.0, 'f_1-score': 0.0, 'true_positive_rate': 0.0, 'false_positive_rate': 0.1}\n",
      "\tmax accuracy ==  0.8\n",
      "Cross validation with k=4 results:\n",
      "\terror min == 4.549840485193197\n",
      "\ttraining percentage == 0.75\n",
      "\tmetrics ==  {'accuracy': 0.8, 'precision': 0.0, 'recall': 0.0, 'f_1-score': 0.0, 'true_positive_rate': 0.0, 'false_positive_rate': 0.1}\n",
      "\tmax accuracy ==  0.8\n",
      "Cross validation with k=5 results:\n",
      "\terror min == 4.552094126038361\n",
      "\ttraining percentage == 0.8\n",
      "\tmetrics ==  {'accuracy': 0.8, 'precision': 0.0, 'recall': 0.0, 'f_1-score': 0.0, 'true_positive_rate': 0.0, 'false_positive_rate': 0.1}\n",
      "\tmax accuracy ==  0.8\n",
      "Cross validation with k=6 results:\n",
      "\terror min == 4.523424330849729\n",
      "\ttraining percentage == 0.8333333333333334\n",
      "\tmetrics ==  {'accuracy': 0.8, 'precision': 0.0, 'recall': 0.0, 'f_1-score': 0.0, 'true_positive_rate': 0.0, 'false_positive_rate': 0.1}\n",
      "\tmax accuracy ==  0.8\n",
      "Cross validation with k=7 results:\n",
      "\terror min == 4.523411526037593\n",
      "\ttraining percentage == 0.8571428571428572\n",
      "\tmetrics ==  {'accuracy': 0.8, 'precision': 0.0, 'recall': 0.0, 'f_1-score': 0.0, 'true_positive_rate': 0.0, 'false_positive_rate': 0.1}\n",
      "\tmax accuracy ==  0.8\n",
      "Cross validation with k=8 results:\n",
      "\terror min == 4.523479946090966\n",
      "\ttraining percentage == 0.875\n",
      "\tmetrics ==  {'accuracy': 0.8, 'precision': 0.0, 'recall': 0.0, 'f_1-score': 0.0, 'true_positive_rate': 0.0, 'false_positive_rate': 0.1}\n",
      "\tmax accuracy ==  0.8\n",
      "Cross validation with k=9 results:\n",
      "\terror min == 4.523586671525899\n",
      "\ttraining percentage == 0.8888888888888888\n",
      "\tmetrics ==  {'accuracy': 0.8, 'precision': 0.0, 'recall': 0.0, 'f_1-score': 0.0, 'true_positive_rate': 0.0, 'false_positive_rate': 0.1}\n",
      "\tmax accuracy ==  0.8\n",
      "Cross validation with k=10 results:\n",
      "\terror min == 4.524000968303327\n",
      "\ttraining percentage == 0.9\n",
      "\tmetrics ==  {'accuracy': 0.8, 'precision': 0.0, 'recall': 0.0, 'f_1-score': 0.0, 'true_positive_rate': 0.0, 'false_positive_rate': 0.1}\n",
      "\tmax accuracy ==  0.8\n"
     ]
    },
    {
     "data": {
      "text/plain": [
       "<Figure size 432x288 with 0 Axes>"
      ]
     },
     "metadata": {},
     "output_type": "display_data"
    },
    {
     "data": {
      "image/png": "[encoded data removed]",
      "text/plain": [
       "<Figure size 432x288 with 1 Axes>"
      ]
     },
     "metadata": {
      "needs_background": "light"
     },
     "output_type": "display_data"
    },
    {
     "data": {
      "text/plain": [
       "<Figure size 432x288 with 0 Axes>"
      ]
     },
     "metadata": {},
     "output_type": "display_data"
    },
    {
     "data": {
      "image/png": "[encoded data removed]",
      "text/plain": [
       "<Figure size 432x288 with 1 Axes>"
      ]
     },
     "metadata": {
      "needs_background": "light"
     },
     "output_type": "display_data"
    }
   ],
   "source": [
    "configPath=\"./config/Ej3/3_3/configEj3_3.json\"\n",
    "configHelper = ConfigHelper(configPath)\n",
    "(architecture,activationFunction,beta,learningRate,maxIterations,maxToleranceExponent) = configHelper.getProperties()\n",
    "(trainingSet,resultsSet)=readNumberSetFiles(\"./datasets/Ej3/training_set_ej_3.txt\",\"./datasets/Ej3/result_set_ej_3_3.txt\")\n",
    "#print(trainingSet)\n",
    "#print(resultsSet)\n",
    "#Creamos la instancia para metricas\n",
    "classes = [0,1,2,3,4,5,6,7,8,9]\n",
    "metrics = Metrics(classes,True)\n",
    "neuralNetworkManager = NeuralNetworkManager(architecture,activationFunction,learningRate,maxIterations,maxToleranceExponent)\n",
    "(epochs,executionTime,exception) = neuralNetworkManager.start(trainingSet,resultsSet)\n",
    "print(\"FINISH-------------------------------------------------------------------------------------------\")\n",
    "# print(epochs)\n",
    "output = Output(configHelper,epochs[-1].error,epochs[-1].iterationNumber,executionTime)\n",
    "output.printOutput()\n",
    "print(\"----------------------EVALUATE GENERALITAZTION----------------------------------------------------\")\n",
    "errors = []\n",
    "kArray = []\n",
    "trainingPercentages = []\n",
    "# metricsArrays = {'accuracy':[],'precision':[],'recall':[],'f_1-score':[],'true_positive_rate':[],'false_positive_rate':[]}\n",
    "accuracyArray = []\n",
    "for k in range(2,len(trainingSet)+1):\n",
    "    kArray.append(k)\n",
    "    (error,trainingPercentage,metricsDict,maxAccuracy) = neuralNetworkManager.crossValidation(trainingSet,resultsSet,k,copy.deepcopy(metrics))\n",
    "    errors.append(error)\n",
    "    trainingPercentages.append(trainingPercentage)\n",
    "    accuracyArray.append(maxAccuracy)\n",
    "    # metricsArrays['accuracy'].append(metricsDict['accuracy'])\n",
    "    # metricsArrays['precision'].append(metricsDict['precision'])\n",
    "    # metricsArrays['recall'].append(metricsDict['recall'])\n",
    "    # metricsArrays['f_1-score'].append(metricsDict['f_1-score'])\n",
    "    # metricsArrays['true_positive_rate'].append(metricsDict['true_positive_rate'])\n",
    "    # metricsArrays['false_positive_rate'].append(metricsDict['false_positive_rate'])\n",
    "plotMetricAgainstVariable(accuracyArray,\"Accuracy\",kArray,\"K\")\n",
    "plotMetricAgainstVariable(accuracyArray,\"Accuracy\",trainingPercentages,\"Training percentage\")"
   ]
  },
  {
   "cell_type": "markdown",
   "metadata": {},
   "source": [
    "##### Agregar ruido"
   ]
  },
  {
   "cell_type": "code",
   "execution_count": 12,
   "metadata": {},
   "outputs": [
    {
     "name": "stdout",
     "output_type": "stream",
     "text": [
      "[49.0, 55.0, 49.0, 61.0, 57.0, 51.0, 51.0, 55.0, 51.0, 57.0, 53.0, 53.0, 55.0, 53.0, 49.0, 51.0, 53.0, 53.0, 49.0, 53.0, 57.0, 55.0, 55.0, 51.0, 59.0, 59.0, 57.0, 53.0, 61.0, 59.0, 51.0, 51.0, 53.0, 53.0, 49.0, 53.0, 59.0, 49.0, 51.0, 55.0, 57.0, 55.0, 57.0, 49.0, 53.0, 55.0, 51.0, 53.0, 53.0, 53.0, 53.0, 51.0, 55.0, 49.0, 57.0, 49.0, 57.0, 57.0, 59.0, 51.0, 59.0, 49.0, 57.0, 59.0, 53.0, 55.0, 57.0, 53.0, 55.0, 51.0, 49.0, 51.0, 51.0, 55.0, 53.0, 53.0, 55.0, 55.0, 53.0, 53.0, 51.0, 53.0, 55.0, 47.0, 55.0, 57.0, 49.0, 51.0, 51.0, 55.0, 53.0, 47.0, 57.0, 57.0, 51.0, 55.0, 57.0, 49.0, 55.0, 59.0]\n",
      "[49.0, 55.0, 49.0, 61.0, 57.0, 51.0, 51.0, 55.0, 51.0, 57.0, 53.0, 53.0, 55.0, 53.0, 49.0, 51.0, 53.0, 53.0, 49.0, 53.0, 57.0, 55.0, 55.0, 51.0, 59.0, 59.0, 57.0, 53.0, 61.0, 59.0, 51.0, 51.0, 53.0, 53.0, 49.0, 53.0, 59.0, 49.0, 51.0, 55.0, 57.0, 55.0, 57.0, 49.0, 53.0, 55.0, 51.0, 53.0, 53.0, 53.0, 53.0, 51.0, 55.0, 49.0, 57.0, 49.0, 57.0, 57.0, 59.0, 51.0, 59.0, 49.0, 57.0, 59.0, 53.0, 55.0, 57.0, 53.0, 55.0, 51.0, 49.0, 51.0, 51.0, 55.0, 53.0, 53.0, 55.0, 55.0, 53.0, 53.0, 51.0, 53.0, 55.0, 47.0, 55.0, 57.0, 49.0, 51.0, 51.0, 55.0, 53.0, 47.0, 57.0, 57.0, 51.0, 55.0, 57.0, 49.0, 55.0, 59.0]\n"
     ]
    },
    {
     "data": {
      "image/png": "[encoded data removed]",
      "text/plain": [
       "<Figure size 432x288 with 1 Axes>"
      ]
     },
     "metadata": {
      "needs_background": "light"
     },
     "output_type": "display_data"
    }
   ],
   "source": [
    "\n",
    "\n",
    "errorsNoise=[]\n",
    "\n",
    "for epoch in epochs:\n",
    "    (errorWNoise,aux,aux2,aux3)= neuralNetworkManager.test(createTrainingSetWithNoise(trainingSet),resultsSet,layers=epoch.layers)\n",
    "    errorsNoise.append(errorWNoise)\n",
    "    normalError.append(epoch.error)\n",
    "print(errorsNoise)\n",
    "plotEpochsError(epochs,testingSetErrors=errorsNoise)\n",
    "\n"
   ]
  }
 ],
 "metadata": {
  "interpreter": {
   "hash": "7653e1b456fe481b91f6af272a12b977f2f5045f8bf465ca8c46e879532ae085"
  },
  "kernelspec": {
   "display_name": "Python 3.10.2 ('venv': venv)",
   "language": "python",
   "name": "python3"
  },
  "language_info": {
   "codemirror_mode": {
    "name": "ipython",
    "version": 3
   },
   "file_extension": ".py",
   "mimetype": "text/x-python",
   "name": "python",
   "nbconvert_exporter": "python",
   "pygments_lexer": "ipython3",
   "version": "3.10.2"
  },
  "orig_nbformat": 4
 },
 "nbformat": 4,
 "nbformat_minor": 2
}
