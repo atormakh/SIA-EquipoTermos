{
 "cells": [
  {
   "cell_type": "code",
   "execution_count": null,
   "metadata": {},
   "outputs": [],
   "source": [
    "from helpers.readSetFiles import readSetFiles,validateParameters,readNumberSetFiles\n",
    "from graph import plotEpochsError,plotGraphEj1,plotGraphEj1Animated,plotErrorAgainstKGraph,plotErrorAgainstTrainingPercentageGraph,plotMetricsAgainstVariable,plotMetricAgainstVariable,plotProbabilityTestingError\n",
    "from helpers.configHelper import ConfigHelper\n",
    "from neuralNetworkManager import NeuralNetworkManager\n",
    "from activationFunctions.stepActivationFunction import StepActivationFunction\n",
    "from activationFunctions.linealActivationFunction import LinealActivationFunction\n",
    "from activationFunctions.hyperbolicTangentActivationFunction import HyperbolicTangentActivationFunction\n",
    "from activationFunctions.sigmoidalActivationFunction import SigmoidalActivationFunction\n",
    "from helpers.noise import createTrainingSetWithNoise\n",
    "from app import normalize\n",
    "from output import Output\n",
    "from metrics import Metrics\n",
    "import copy\n",
    "import numpy as np\n",
    "import random"
   ]
  },
  {
   "cell_type": "markdown",
   "metadata": {},
   "source": [
    "# Ej1 - Perceptron Simple Escalon\n",
    "\n",
    "##### Funcion logica ’Y’ con entradas"
   ]
  },
  {
   "cell_type": "code",
   "execution_count": null,
   "metadata": {},
   "outputs": [],
   "source": [
    "configPath=\"./config/Ej1/configEj1.json\"\n",
    "configHelper = ConfigHelper(configPath)\n",
    "(architecture,activationFunction,beta,learningRate,maxEpochs,maxToleranceExponent,randomSeed) = configHelper.getProperties()\n",
    "(trainingSet,resultsSet)=readSetFiles(\"./datasets/Ej1/training_set_ej_1.txt\",\"./datasets/Ej1/result_set_ej_1_and.txt\")\n",
    "\n",
    "#Seteo de seed\n",
    "np.random.seed(randomSeed)\n",
    "random.seed(randomSeed)\n",
    "\n",
    "neuralNetworkManager = NeuralNetworkManager(architecture,activationFunction,learningRate,maxEpochs,maxToleranceExponent)\n",
    "(epochs,executionTime,exception) = neuralNetworkManager.start(trainingSet,resultsSet)\n",
    "#Plot error graph\n",
    "plotEpochsError(epochs)\n",
    "#Plot points and division graph\n",
    "isXOR = False\n",
    "plotGraphEj1(trainingSet,isXOR,epochs)\n",
    "##Crear la carpeta de resultados con la subcarpeta de graficos y estadisticas en caso de que no existan\n",
    "isEj1 = True\n",
    "plotGraphEj1Animated(trainingSet,isXOR,epochs,isEj1)\n",
    "#Print output\n",
    "print(\"FINISH-------------------------------------------------------------------------------------------\")\n",
    "output = Output(configHelper,epochs[-1].error,epochs[-1].epochNumber,executionTime)\n",
    "output.printOutput()"
   ]
  },
  {
   "cell_type": "markdown",
   "metadata": {},
   "source": [
    "##### Funcion logica ’O exclusivo’ con entradas"
   ]
  },
  {
   "cell_type": "code",
   "execution_count": null,
   "metadata": {},
   "outputs": [],
   "source": [
    "configPath=\"./config/Ej1/configEj1.json\"\n",
    "configHelper = ConfigHelper(configPath)\n",
    "(architecture,activationFunction,beta,learningRate,maxEpochs,maxToleranceExponent,randomSeed) = configHelper.getProperties()\n",
    "(trainingSet,resultsSet)=readSetFiles(\"./datasets/Ej1/training_set_ej_1.txt\",\"./datasets/Ej1/result_set_ej_1_and.txt\")\n",
    "\n",
    "#Seteo de seed\n",
    "np.random.seed(randomSeed)\n",
    "random.seed(randomSeed)\n",
    "\n",
    "\n",
    "neuralNetworkManager = NeuralNetworkManager(architecture,activationFunction,learningRate,maxEpochs,maxToleranceExponent)\n",
    "(epochs,executionTime,exception) = neuralNetworkManager.start(trainingSet,resultsSet)\n",
    "#Plot error graph\n",
    "plotEpochsError(epochs)\n",
    "#Plot points and division graph\n",
    "isXOR = True\n",
    "plotGraphEj1(trainingSet,isXOR,epochs)\n",
    "isEj1 = True\n",
    "plotGraphEj1Animated(trainingSet,isXOR,epochs,isEj1)\n",
    "#Print output\n",
    "print(\"FINISH-------------------------------------------------------------------------------------------\")\n",
    "output = Output(configHelper,epochs[-1].error,epochs[-1].epochNumber,executionTime)\n",
    "output.printOutput()"
   ]
  },
  {
   "cell_type": "markdown",
   "metadata": {},
   "source": [
    "# Ej2 Perceptron Simple lineal/no lineal\n"
   ]
  },
  {
   "cell_type": "code",
   "execution_count": 30,
   "metadata": {},
   "outputs": [],
   "source": [
    "configHelper = ConfigHelper(\"./config/Ej2/configEj2.json\")\n",
    "(architecture,activationFunction,beta,learningRate,maxEpochs,maxToleranceExponent,randomSeed) = configHelper.getProperties()\n",
    "(trainingSet,resultsSet)=readSetFiles(\"./datasets/Ej2/training_set_ej_2.txt\",\"./datasets/Ej2/result_set_ej_2.txt\")\n",
    "\n",
    "#Seteo de seed\n",
    "np.random.seed(randomSeed)\n",
    "random.seed(randomSeed)"
   ]
  },
  {
   "cell_type": "code",
   "execution_count": null,
   "metadata": {},
   "outputs": [],
   "source": [
    "(resultsSetNormalized,fixnt)=normalize(resultsSet,0,1)"
   ]
  },
  {
   "cell_type": "markdown",
   "metadata": {},
   "source": [
    "###### Para tanh"
   ]
  },
  {
   "cell_type": "code",
   "execution_count": null,
   "metadata": {},
   "outputs": [],
   "source": [
    "(resultsSetNormalized,fixnt)=normalize(resultsSet,-1,1)"
   ]
  },
  {
   "cell_type": "markdown",
   "metadata": {},
   "source": [
    "###### Para lineal"
   ]
  },
  {
   "cell_type": "code",
   "execution_count": null,
   "metadata": {},
   "outputs": [],
   "source": [
    "resultsSetNormalized = resultsSet\n",
    "fixnt = None"
   ]
  },
  {
   "cell_type": "markdown",
   "metadata": {},
   "source": [
    "##### Rutina"
   ]
  },
  {
   "cell_type": "code",
   "execution_count": null,
   "metadata": {},
   "outputs": [],
   "source": [
    "#Divido el conjunto tomando los primeros 160 (arbitrario)\n",
    "\n",
    "subTrainingSet = trainingSet[0:159]\n",
    "subTestingSet = trainingSet[160:-1]\n",
    "\n",
    "subResultSet = resultsSetNormalized[0:159]\n",
    "subResultTestingSet = resultsSetNormalized[160:-1]\n",
    "neuralNetworkManager = NeuralNetworkManager(architecture,activationFunction,learningRate,maxEpochs,maxToleranceExponent)\n",
    "\n",
    "(epochs , executionTime , exception) = neuralNetworkManager.start(subTrainingSet , subResultSet)\n",
    "\n",
    "\n",
    "errors=[]\n",
    "\n",
    "for epoch in epochs:\n",
    "    (error,aux,aux2,aux3)= neuralNetworkManager.test(subTestingSet , subResultTestingSet,layers=epoch.layers)\n",
    "    errors.append(error)\n",
    "print(error)\n",
    "if( fixnt is not None):\n",
    "    plotEpochsError(epochs,testingSetErrors=errors,denormalizeFn=fixnt,log=False)\n",
    "else:\n",
    "    plotEpochsError(epochs,testingSetErrors=errors)\n"
   ]
  },
  {
   "cell_type": "markdown",
   "metadata": {},
   "source": [
    "#### Con cross validation"
   ]
  },
  {
   "cell_type": "code",
   "execution_count": null,
   "metadata": {},
   "outputs": [],
   "source": [
    "#LINEAL\n",
    "activationFunctions=[HyperbolicTangentActivationFunction(beta),SigmoidalActivationFunction(beta)]\n",
    "neuralNetworkManager = NeuralNetworkManager(architecture,LinealActivationFunction.getType(beta),learningRate,maxEpochs,maxToleranceExponent)\n",
    "#Training\n",
    "(epochs,executionTime,exception) = neuralNetworkManager.start(trainingSet,resultsSet)\n",
    "print(\"----------------------FINISH TRAINING----------------------------------------------------\")\n",
    "output = Output(configHelper,epochs[-1].error,epochs[-1].epochNumber,executionTime)\n",
    "output.printOutput()\n",
    "#Testing\n",
    "print(\"----------------------EVALUATE GENERALITAZTION----------------------------------------------------\")\n",
    "errors = []\n",
    "kArray = []\n",
    "trainingPercentages = []\n",
    "for k in range(1,int(len(trainingSet)/10) - 1):\n",
    "    k = k*10\n",
    "    kArray.append(k)\n",
    "    (error,trainingPercentage,maxAccuracy) = neuralNetworkManager.crossValidation(trainingSet,resultsSet,k)\n",
    "    errors.append(error)\n",
    "    trainingPercentages.append(trainingPercentage)\n",
    "plotErrorAgainstKGraph(errors,kArray) \n",
    "plotErrorAgainstTrainingPercentageGraph(errors,trainingPercentages)\n",
    "plotEpochsError(epochs,\"Lineal Activation Function\")"
   ]
  },
  {
   "cell_type": "code",
   "execution_count": null,
   "metadata": {},
   "outputs": [],
   "source": [
    "#TANH\n",
    "activationFunctions=[HyperbolicTangentActivationFunction(beta),SigmoidalActivationFunction(beta)]\n",
    "neuralNetworkManager = NeuralNetworkManager(architecture,HyperbolicTangentActivationFunction.getType(beta),learningRate,maxEpochs,maxToleranceExponent)\n",
    "#Normalize\n",
    "(resultsSetNormalized,fixnt)=normalize(resultsSet,-1,1)\n",
    "#Training\n",
    "(epochs,executionTime,exception) = neuralNetworkManager.start(trainingSet,resultsSetNormalized)\n",
    "print(\"----------------------FINISH TRAINING----------------------------------------------------\")\n",
    "configHelper.activationFunctionType = HyperbolicTangentActivationFunction(beta).name\n",
    "output = Output(configHelper,epochs[-1].error,epochs[-1].epochNumber,executionTime)\n",
    "output.printOutput()\n",
    "#Testing\n",
    "print(\"----------------------EVALUATE GENERALITAZTION----------------------------------------------------\")\n",
    "errors = []\n",
    "kArray = []\n",
    "trainingPercentages = []\n",
    "for k in range(1,int(len(trainingSet)/10) - 1):\n",
    "    k = k*10\n",
    "    kArray.append(k)\n",
    "    (error,trainingPercentage,maxAccuracy) = neuralNetworkManager.crossValidation(trainingSet,resultsSetNormalized,k)\n",
    "    errors.append(error)\n",
    "    trainingPercentages.append(trainingPercentage)\n",
    "plotErrorAgainstKGraph(errors,kArray) \n",
    "plotErrorAgainstTrainingPercentageGraph(errors,trainingPercentages)\n",
    "plotEpochsError(epochs,\"Tanh Activation Function\")"
   ]
  },
  {
   "cell_type": "code",
   "execution_count": 32,
   "metadata": {},
   "outputs": [
    {
     "name": "stdout",
     "output_type": "stream",
     "text": [
      "----------------------FINISH TRAINING----------------------------------------------------\n",
      "OUTPUT :\n",
      "        - Configuration paramaters :\n",
      "            \t-Architecture : [3, 1]\n",
      "\t\t-Activation function :TANH\n",
      "\t\t-Beta : 0.6\n",
      "\t\t-Learning rate : 0.01 \n",
      "\t\t-Max epochs : 300\n",
      "\t\t-Error bound : 1e^-5\n",
      "        - Error : 9.66348102692366e-06\n",
      "\n",
      "        - Epoch : 60\n",
      "\n",
      "        - Execution time : 5.009376400033943 sec\n",
      "----------------------EVALUATE GENERALITAZTION----------------------------------------------------\n"
     ]
    },
    {
     "name": "stderr",
     "output_type": "stream",
     "text": [
      "c:\\Users\\Valentino\\Documents\\facu\\SIA\\SIA-EquipoTermos\\TP3\\venv\\lib\\site-packages\\numpy\\core\\fromnumeric.py:43: VisibleDeprecationWarning: Creating an ndarray from ragged nested sequences (which is a list-or-tuple of lists-or-tuples-or ndarrays with different lengths or shapes) is deprecated. If you meant to do this, you must specify 'dtype=object' when creating the ndarray.\n",
      "  result = getattr(asarray(obj), method)(*args, **kwds)\n"
     ]
    },
    {
     "name": "stdout",
     "output_type": "stream",
     "text": [
      "Cross validation with k=10 results:\n",
      "\terror min == 4.3494650656268106e-06\n",
      "\ttraining percentage == 0.9\n",
      "Cross validation with k=20 results:\n",
      "\terror min == 5.142687458576468e-07\n",
      "\ttraining percentage == 0.95\n",
      "Cross validation with k=30 results:\n",
      "\terror min == 1.2898066480662853e-07\n",
      "\ttraining percentage == 0.9666666666666667\n",
      "Cross validation with k=40 results:\n",
      "\terror min == 1.1589704106559807e-07\n",
      "\ttraining percentage == 0.975\n",
      "Cross validation with k=50 results:\n",
      "\terror min == 1.0865262571478895e-07\n",
      "\ttraining percentage == 0.98\n",
      "Cross validation with k=60 results:\n",
      "\terror min == 2.6978991907452962e-08\n",
      "\ttraining percentage == 0.9833333333333333\n",
      "Cross validation with k=70 results:\n",
      "\terror min == 2.703076537267329e-08\n",
      "\ttraining percentage == 0.9857142857142858\n",
      "Cross validation with k=80 results:\n",
      "\terror min == 1.4723595215551254e-08\n",
      "\ttraining percentage == 0.9875\n",
      "Cross validation with k=90 results:\n",
      "\terror min == 3.1397719081257355e-09\n",
      "\ttraining percentage == 0.9888888888888889\n",
      "Cross validation with k=100 results:\n",
      "\terror min == 2.0900308802157943e-09\n",
      "\ttraining percentage == 0.99\n",
      "Cross validation with k=110 results:\n",
      "\terror min == 6.312046079262606e-09\n",
      "\ttraining percentage == 0.990909090909091\n",
      "Cross validation with k=120 results:\n",
      "\terror min == 1.661028697194467e-09\n",
      "\ttraining percentage == 0.9916666666666667\n",
      "Cross validation with k=130 results:\n",
      "\terror min == 5.072200317371022e-11\n",
      "\ttraining percentage == 0.9923076923076923\n",
      "Cross validation with k=140 results:\n",
      "\terror min == 8.413734115829992e-12\n",
      "\ttraining percentage == 0.9928571428571429\n",
      "Cross validation with k=150 results:\n",
      "\terror min == 2.4037582850908947e-12\n",
      "\ttraining percentage == 0.9933333333333333\n",
      "Cross validation with k=160 results:\n",
      "\terror min == 1.227877206237981e-11\n",
      "\ttraining percentage == 0.99375\n",
      "Cross validation with k=170 results:\n",
      "\terror min == 1.875426640329377e-11\n",
      "\ttraining percentage == 0.9941176470588236\n",
      "Cross validation with k=180 results:\n",
      "\terror min == 2.2517125187108136e-11\n",
      "\ttraining percentage == 0.9944444444444445\n"
     ]
    },
    {
     "data": {
      "image/png": "[encoded data removed]",
      "text/plain": [
       "<Figure size 432x288 with 1 Axes>"
      ]
     },
     "metadata": {
      "needs_background": "light"
     },
     "output_type": "display_data"
    },
    {
     "data": {
      "text/plain": [
       "<Figure size 432x288 with 0 Axes>"
      ]
     },
     "metadata": {},
     "output_type": "display_data"
    },
    {
     "data": {
      "image/png": "[encoded data removed]",
      "text/plain": [
       "<Figure size 432x288 with 1 Axes>"
      ]
     },
     "metadata": {
      "needs_background": "light"
     },
     "output_type": "display_data"
    },
    {
     "data": {
      "text/plain": [
       "<Figure size 432x288 with 0 Axes>"
      ]
     },
     "metadata": {},
     "output_type": "display_data"
    },
    {
     "data": {
      "image/png": "[encoded data removed]",
      "text/plain": [
       "<Figure size 432x288 with 1 Axes>"
      ]
     },
     "metadata": {
      "needs_background": "light"
     },
     "output_type": "display_data"
    }
   ],
   "source": [
    "#SIGMOIDAL\n",
    "neuralNetworkManager = NeuralNetworkManager(architecture,SigmoidalActivationFunction.getType(beta),learningRate,maxEpochs,maxToleranceExponent)\n",
    "#Normalize\n",
    "(resultsSetNormalized,fixnt)=normalize(resultsSet,0,1)\n",
    "#Training\n",
    "(epochs,executionTime,exception) = neuralNetworkManager.start(trainingSet,resultsSetNormalized)\n",
    "print(\"----------------------FINISH TRAINING----------------------------------------------------\")\n",
    "configHelper.activationFunctionType = HyperbolicTangentActivationFunction(beta).name\n",
    "output = Output(configHelper,epochs[-1].error,epochs[-1].epochNumber,executionTime)\n",
    "output.printOutput()\n",
    "#Testing\n",
    "print(\"----------------------EVALUATE GENERALITAZTION----------------------------------------------------\")\n",
    "errors = []\n",
    "kArray = []\n",
    "trainingPercentages = []\n",
    "for k in range(1,int(len(trainingSet)/10) - 1):\n",
    "    k = k*10\n",
    "    kArray.append(k)\n",
    "    (error,trainingPercentage,maxAccuracy) = neuralNetworkManager.crossValidation(trainingSet,resultsSetNormalized,k)\n",
    "    errors.append(error)\n",
    "    trainingPercentages.append(trainingPercentage)\n",
    "plotErrorAgainstKGraph(errors,kArray) \n",
    "plotErrorAgainstTrainingPercentageGraph(errors,trainingPercentages)\n",
    "plotEpochsError(epochs,\"Sigmoidal Activation Function\")"
   ]
  },
  {
   "cell_type": "markdown",
   "metadata": {},
   "source": [
    "# Ej3 Perceptron Multicapa"
   ]
  },
  {
   "cell_type": "markdown",
   "metadata": {},
   "source": [
    "##### 3.1 Funciones logicas ’Y’ y ’O exclusivo’ con entradas"
   ]
  },
  {
   "cell_type": "markdown",
   "metadata": {},
   "source": [
    "##### ’Y’"
   ]
  },
  {
   "cell_type": "code",
   "execution_count": null,
   "metadata": {},
   "outputs": [],
   "source": [
    "import random\n",
    "import numpy as np\n",
    "random.seed(11)\n",
    "np.random.seed(11)\n",
    "configPath=\"./config/Ej3/3_1/configEj3_1.json\"\n",
    "configHelper = ConfigHelper(configPath)\n",
    "(architecture,activationFunction,beta,learningRate,maxEpochs,maxToleranceExponent,randomSeed) = configHelper.getProperties()\n",
    "(trainingSet,resultsSet)=readSetFiles(\"./datasets/Ej1/training_set_ej_1.txt\",\"./datasets/Ej1/result_set_ej_1_and.txt\")\n",
    "\n",
    "#Seteo de seed\n",
    "np.random.seed(randomSeed)\n",
    "random.seed(randomSeed)\n",
    "\n",
    "neuralNetworkManager = NeuralNetworkManager(architecture,activationFunction,learningRate,maxEpochs,maxToleranceExponent)\n",
    "(epochs,executionTime,exception) = neuralNetworkManager.start(trainingSet,resultsSet)\n",
    "#Plot error graph\n",
    "plotEpochsError(epochs)\n",
    "#Print output\n",
    "print(\"FINISH-------------------------------------------------------------------------------------------\")\n",
    "output = Output(configHelper,epochs[-1].error,epochs[-1].epochNumber,executionTime)\n",
    "output.printOutput()"
   ]
  },
  {
   "cell_type": "markdown",
   "metadata": {},
   "source": [
    "##### ’O exclusivo’"
   ]
  },
  {
   "cell_type": "code",
   "execution_count": null,
   "metadata": {},
   "outputs": [],
   "source": [
    "configPath=\"./config/Ej3/3_1/configEj3_1.json\"\n",
    "configHelper = ConfigHelper(configPath)\n",
    "(architecture,activationFunction,beta,learningRate,maxEpochs,maxToleranceExponent,randomSeed) = configHelper.getProperties()\n",
    "(trainingSet,resultsSet)=readSetFiles(\"./datasets/Ej1/training_set_ej_1.txt\",\"./datasets/Ej1/result_set_ej_1_and.txt\")\n",
    "\n",
    "#Seteo de seed\n",
    "np.random.seed(randomSeed)\n",
    "random.seed(randomSeed)\n",
    "\n",
    "neuralNetworkManager = NeuralNetworkManager(architecture,activationFunction,learningRate,maxEpochs,maxToleranceExponent)\n",
    "(epochs,executionTime,exception) = neuralNetworkManager.start(trainingSet,resultsSet)\n",
    "#Plot error graph\n",
    "plotEpochsError(epochs)\n",
    "#Print output\n",
    "print(\"FINISH-------------------------------------------------------------------------------------------\")\n",
    "output = Output(configHelper,epochs[-1].error,epochs[-1].epochNumber,executionTime)\n",
    "output.printOutput()"
   ]
  },
  {
   "cell_type": "markdown",
   "metadata": {},
   "source": [
    "##### 3.2 Indicar paridad para numeros del 0 al 9"
   ]
  },
  {
   "cell_type": "code",
   "execution_count": null,
   "metadata": {},
   "outputs": [],
   "source": [
    "configPath=\"./config/Ej3/3_2/configEj3_2.json\"\n",
    "configHelper = ConfigHelper(configPath)\n",
    "(architecture,activationFunction,beta,learningRate,maxEpochs,maxToleranceExponent,randomSeed) = configHelper.getProperties()\n",
    "(trainingSet,resultsSet)=readNumberSetFiles(\"./datasets/Ej3/training_set_ej_3.txt\",\"./datasets/Ej3/result_set_ej_3_2.txt\")\n",
    "\n",
    "#Seteo de seed\n",
    "np.random.seed(randomSeed)\n",
    "random.seed(randomSeed)"
   ]
  },
  {
   "cell_type": "code",
   "execution_count": null,
   "metadata": {},
   "outputs": [],
   "source": [
    "#TANH\n",
    "\n",
    "#Creamos la instancia para metricas\n",
    "classes = [1,-1]\n",
    "metrics = Metrics(classes,False,-1,1)\n",
    "\n",
    "#Training\n",
    "neuralNetworkManager = NeuralNetworkManager(architecture,HyperbolicTangentActivationFunction.getType(beta),learningRate,maxEpochs,maxToleranceExponent)\n",
    "(epochs,executionTime,exception) = neuralNetworkManager.start(trainingSet,resultsSet)\n",
    "print(\"FINISH-------------------------------------------------------------------------------------------\")\n",
    "configHelper.activationFunctionType = HyperbolicTangentActivationFunction.getType(beta).name\n",
    "output = Output(configHelper,epochs[-1].error,epochs[-1].epochNumber,executionTime)\n",
    "output.printOutput()\n",
    "print(\"----------------------EVALUATE GENERALITAZTION----------------------------------------------------\")\n",
    "errors = []\n",
    "kArray = []\n",
    "trainingPercentages = []\n",
    "accuracyArray = []\n",
    "for k in range(2,len(trainingSet)+1):\n",
    "    kArray.append(k)\n",
    "    (error,trainingPercentage,maxAccuracy) = neuralNetworkManager.crossValidation(trainingSet,resultsSet,k,copy.deepcopy(metrics))\n",
    "    errors.append(error)\n",
    "    trainingPercentages.append(trainingPercentage)\n",
    "    accuracyArray.append(maxAccuracy)\n",
    "plotMetricAgainstVariable(accuracyArray,\"Accuracy\",kArray,\"K\")\n",
    "plotMetricAgainstVariable(accuracyArray,\"Accuracy\",trainingPercentages,\"Training percentage\")\n"
   ]
  },
  {
   "cell_type": "code",
   "execution_count": null,
   "metadata": {},
   "outputs": [],
   "source": [
    "#SIGMOIDAL\n",
    "\n",
    "#Creamos la instancia para metricas\n",
    "classes = [0,1]\n",
    "metrics = Metrics(classes,False,0,1)\n",
    "\n",
    "#Normalize\n",
    "(resultsSetNormalized,fixnt)=normalize(resultsSet,0,1)\n",
    "\n",
    "#Training\n",
    "neuralNetworkManager = NeuralNetworkManager(architecture,SigmoidalActivationFunction.getType(beta),learningRate,maxEpochs,maxToleranceExponent)\n",
    "(epochs,executionTime,exception) = neuralNetworkManager.start(trainingSet,resultsSetNormalized)\n",
    "print(\"FINISH-------------------------------------------------------------------------------------------\")\n",
    "configHelper.activationFunctionType=SigmoidalActivationFunction.getType(beta).name\n",
    "output = Output(configHelper,epochs[-1].error,epochs[-1].epochNumber,executionTime)\n",
    "output.printOutput()\n",
    "print(\"----------------------EVALUATE GENERALITAZTION----------------------------------------------------\")\n",
    "errors = []\n",
    "kArray = []\n",
    "trainingPercentages = []\n",
    "accuracyArray = []\n",
    "for k in range(2,len(trainingSet)+1):\n",
    "    kArray.append(k)\n",
    "    (error,trainingPercentage,maxAccuracy) = neuralNetworkManager.crossValidation(trainingSet,resultsSetNormalized,k,copy.deepcopy(metrics))\n",
    "    errors.append(error)\n",
    "    trainingPercentages.append(trainingPercentage)\n",
    "    accuracyArray.append(maxAccuracy)\n",
    "plotMetricAgainstVariable(accuracyArray,\"Accuracy\",kArray,\"K\")\n",
    "plotMetricAgainstVariable(accuracyArray,\"Accuracy\",trainingPercentages,\"Training percentage\")"
   ]
  },
  {
   "cell_type": "markdown",
   "metadata": {},
   "source": [
    "##### 3.3 Indicar que numero es, para numeros del 0 al 9"
   ]
  },
  {
   "cell_type": "code",
   "execution_count": null,
   "metadata": {},
   "outputs": [],
   "source": [
    "configPath=\"./config/Ej3/3_3/configEj3_3.json\"\n",
    "configHelper = ConfigHelper(configPath)\n",
    "(architecture,activationFunction,beta,learningRate,maxEpochs,maxToleranceExponent,randomSeed) = configHelper.getProperties()\n",
    "(trainingSet,resultsSet)=readNumberSetFiles(\"./datasets/Ej3/training_set_ej_3.txt\",\"./datasets/Ej3/result_set_ej_3_3.txt\")\n",
    "\n",
    "#Seteo de seed\n",
    "np.random.seed(randomSeed)\n",
    "random.seed(randomSeed)"
   ]
  },
  {
   "cell_type": "code",
   "execution_count": null,
   "metadata": {},
   "outputs": [],
   "source": [
    "#TANH\n",
    "classes = [0,1,2,3,4,5,6,7,8,9]\n",
    "metrics = Metrics(classes,True,-1,1)\n",
    "\n",
    "#Normalize\n",
    "(resultsSetNormalized,fixnt)=normalize(resultsSet,-1,1)\n",
    "\n",
    "neuralNetworkManager = NeuralNetworkManager(architecture,HyperbolicTangentActivationFunction.getType(beta),learningRate,maxEpochs,maxToleranceExponent)\n",
    "(epochs,executionTime,exception) = neuralNetworkManager.start(trainingSet,resultsSetNormalized)\n",
    "configHelper.activationFunctionType = HyperbolicTangentActivationFunction.getType(beta).name\n",
    "print(\"FINISH-------------------------------------------------------------------------------------------\")\n",
    "output = Output(configHelper,epochs[-1].error,epochs[-1].epochNumber,executionTime)\n",
    "output.printOutput()"
   ]
  },
  {
   "cell_type": "code",
   "execution_count": null,
   "metadata": {},
   "outputs": [],
   "source": [
    "#SIGMOIDAL\n",
    "classes = [0,1,2,3,4,5,6,7,8,9]\n",
    "metrics = Metrics(classes,True,0,1)\n",
    "\n",
    "\n",
    "neuralNetworkManager = NeuralNetworkManager(architecture,SigmoidalActivationFunction.getType(beta),learningRate,maxEpochs,maxToleranceExponent)\n",
    "(epochs,executionTime,exception) = neuralNetworkManager.start(trainingSet,resultsSet)\n",
    "configHelper.activationFunctionType = SigmoidalActivationFunction.getType(beta).name\n",
    "print(\"FINISH-------------------------------------------------------------------------------------------\")\n",
    "output = Output(configHelper,epochs[-1].error,epochs[-1].epochNumber,executionTime)\n",
    "output.printOutput()"
   ]
  },
  {
   "cell_type": "markdown",
   "metadata": {},
   "source": [
    "##### Agregar ruido"
   ]
  },
  {
   "cell_type": "code",
   "execution_count": null,
   "metadata": {},
   "outputs": [],
   "source": [
    "\n",
    "\n",
    "errorsNoise=[]\n",
    "\n",
    "for epoch in epochs:\n",
    "    (errorWNoise,aux,aux2,aux3)= neuralNetworkManager.test(createTrainingSetWithNoise(trainingSet,0.02),resultsSet,layers=epoch.layers)\n",
    "    errorsNoise.append(errorWNoise)\n",
    "print(errorsNoise)\n",
    "plotEpochsError(epochs,testingSetErrors=errorsNoise)\n",
    "\n"
   ]
  },
  {
   "cell_type": "markdown",
   "metadata": {},
   "source": [
    "##### Hacer grafico de error de testeo en funcion de la probabilidad de ruido"
   ]
  },
  {
   "cell_type": "code",
   "execution_count": null,
   "metadata": {},
   "outputs": [],
   "source": [
    "errorsNoise=[]\n",
    "currentProbability = 0.02\n",
    "limitProbability = 0.1\n",
    "step = 0.02\n",
    "probabilities=[]\n",
    "\n",
    "while(currentProbability<=limitProbability):\n",
    "    (errorWNoise,aux,aux2,aux3)= neuralNetworkManager.test(createTrainingSetWithNoise(trainingSet,0.02),resultsSet)\n",
    "    errorsNoise.append(errorWNoise)\n",
    "    probabilities.append(currentProbability)\n",
    "    currentProbability+=step\n",
    "\n",
    "plotProbabilityTestingError(probabilities,\"Testing error vs probability\",errorsNoise)\n",
    "\n",
    "# for probability in p:\n",
    "#     (errorWNoise,aux,aux2,aux3)= neuralNetworkManager.test(createTrainingSetWithNoise(trainingSet,0.02),resultsSet,layers=epoch.layers)\n",
    "#     errorsNoise.append(errorWNoise)\n",
    "# print(errorsNoise)\n",
    "# plotEpochsError(epochs,testingSetErrors=errorsNoise"
   ]
  }
 ],
 "metadata": {
  "interpreter": {
   "hash": "7f2633a0dd9fad194999ffc17b7b93627efd4bccf6144e14bc5fef7dfd0c6355"
  },
  "kernelspec": {
   "display_name": "Python 3.10.4 64-bit",
   "language": "python",
   "name": "python3"
  },
  "language_info": {
   "codemirror_mode": {
    "name": "ipython",
    "version": 3
   },
   "file_extension": ".py",
   "mimetype": "text/x-python",
   "name": "python",
   "nbconvert_exporter": "python",
   "pygments_lexer": "ipython3",
   "version": "3.10.4"
  },
  "orig_nbformat": 4
 },
 "nbformat": 4,
 "nbformat_minor": 2
}
