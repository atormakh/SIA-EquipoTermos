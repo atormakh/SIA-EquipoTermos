{
 "cells": [
  {
   "cell_type": "code",
   "execution_count": null,
   "metadata": {},
   "outputs": [],
   "source": [
    "#IMPORTS INICIALES\n",
    "import numpy as np\n",
    "import pandas as pd\n",
    "import matplotlib.pyplot as plt\n",
    "import seaborn as sns\n",
    "from autoencoderManager import AutoencoderManager\n",
    "from fonts import getCharacterMatrix,getCharacterMap,getFormattedFont\n",
    "from helpers.configHelper import ConfigHelper\n",
    "from graph import plotErrorAgainstSteps\n",
    "import pickle\n",
    "from os.path import exists\n"
   ]
  },
  {
   "cell_type": "markdown",
   "metadata": {},
   "source": [
    "# TP5 - Deep Learning"
   ]
  },
  {
   "cell_type": "code",
   "execution_count": null,
   "metadata": {},
   "outputs": [],
   "source": [
    "#LEEMOS LOS PARAMETROS DEL CONFIG HELPER\n",
    "\n",
    "configPath=\"./config/config.json\"\n",
    "configHelper = ConfigHelper(configPath)\n",
    "(architecture,encoderActivationFunction,latentSpaceActivationFunction,decoderActivationFunction,encoderBeta,latentSpaceBeta,decoderBeta,learningRate,maxEpochs,maxToleranceExponent,randomSeed,font) = configHelper.getProperties()"
   ]
  },
  {
   "cell_type": "code",
   "execution_count": null,
   "metadata": {},
   "outputs": [],
   "source": [
    "#PEDIR LA FONT A UTILIZAR Y ARMAR EL TRAINING SET Y RESULT SET\n",
    "formattedFont = getFormattedFont(font)\n",
    "getCharacterMap(formattedFont[2])\n",
    "trainingSet = getFormattedFont(font,flatten=True)\n",
    "resultsSet = trainingSet\n",
    "print(trainingSet)"
   ]
  },
  {
   "cell_type": "code",
   "execution_count": null,
   "metadata": {},
   "outputs": [],
   "source": [
    "# #Seteo de seed\n",
    "# np.random.seed(randomSeed)\n",
    "# random.seed(randomSeed)\n",
    "# neuralNetworkManager = NeuralNetworkManager(architecture,activationFunction,learningRate,maxEpochs,maxToleranceExponent)\n",
    "# (epochs,executionTime,exception) = neuralNetworkManager.start(trainingSet,resultsSet)\n",
    "\n",
    "# #autoencoderManager = AutoencoderManager(architecture,activationFunction,learningRate,maxEpochs,errorHelper)\n",
    "# #(epochs,executionTime,exception) = autoencoderManager.start(trainingSet,resultsSet)\n",
    "\n",
    "# #Plot error graph\n",
    "# plotEpochsError(epochs)\n",
    "# #Print output\n",
    "# print(\"FINISH-------------------------------------------------------------------------------------------\")\n",
    "# output = Output(configHelper,epochs[-1].error,epochs[-1].epochNumber,executionTime)\n",
    "# output.printOutput()"
   ]
  },
  {
   "cell_type": "code",
   "execution_count": null,
   "metadata": {},
   "outputs": [],
   "source": [
    "# ENTRENAMIENTO DE LA RED\n",
    "PATH = \"autoencoderW.pickle\"\n",
    "autoencoderManager = AutoencoderManager(architecture,encoderActivationFunction,latentSpaceActivationFunction,decoderActivationFunction,learningRate,maxEpochs)\n",
    "if exists(PATH):\n",
    "    print(\"INITIALIZING WEIGHTS FOR CONFIGURATION\")\n",
    "    file = open(PATH,'rb')\n",
    "    wFinal = pickle.load(file)\n",
    "    file.close()\n",
    "    autoencoderManager.initilizeWeights(trainingSet,wFinal)\n",
    "else:\n",
    "    print(\"CREATING WEIGHTS FOR CONFIGURATION\")\n",
    "    (wFinal,finalError) = autoencoderManager.start(trainingSet)\n",
    "    file = open(PATH,'wb')\n",
    "    pickle.dump(wFinal,file)\n",
    "    file.close()\n",
    "\n",
    "print(wFinal)\n",
    "    \n"
   ]
  },
  {
   "cell_type": "code",
   "execution_count": null,
   "metadata": {},
   "outputs": [],
   "source": [
    "# LATENT SPACE CONFIGURATION\n",
    "latentSpaceData = {\n",
    "    'X' : [],\n",
    "    'Y' : []\n",
    "}\n",
    "for character in trainingSet:\n",
    "    point = autoencoderManager.getLatentSpaceConfig(character)\n",
    "    latentSpaceData['X'].append(point[0])\n",
    "    latentSpaceData['Y'].append(point[1])\n",
    "data = pd.DataFrame(latentSpaceData)\n",
    "print(latentSpaceData)\n",
    "sns.scatterplot(x=\"X\",y=\"Y\",data=data)"
   ]
  },
  {
   "cell_type": "code",
   "execution_count": null,
   "metadata": {},
   "outputs": [],
   "source": [
    "#GRAFICAR ERROR VS STEPS\n",
    "plotErrorAgainstSteps(autoencoderManager.errors,autoencoderManager.steps)\n",
    "print(autoencoderManager.steps)"
   ]
  },
  {
   "cell_type": "code",
   "execution_count": null,
   "metadata": {},
   "outputs": [],
   "source": [
    "# PLOT INPUT VS OUTPUT OF FINAL LAYER\n",
    "figure, axes = plt.subplots( 2,len(formattedFont), sharex=True, figsize=(19,7))\n",
    "for font in range(0,len(formattedFont)):\n",
    "    getCharacterMap(formattedFont[font],ax=axes[0,font])\n",
    "    umbralFormattedCharacter = [x if x>=0.35 else 0 for x in autoencoderManager.propagate(trainingSet[font])]\n",
    "    getCharacterMap(getCharacterMatrix(np.array(umbralFormattedCharacter)),ax=axes[1,font])"
   ]
  }
 ],
 "metadata": {
  "kernelspec": {
   "display_name": "Python 3.10.0 ('venv': venv)",
   "language": "python",
   "name": "python3"
  },
  "language_info": {
   "codemirror_mode": {
    "name": "ipython",
    "version": 3
   },
   "file_extension": ".py",
   "mimetype": "text/x-python",
   "name": "python",
   "nbconvert_exporter": "python",
   "pygments_lexer": "ipython3",
   "version": "3.10.0"
  },
  "orig_nbformat": 4,
  "vscode": {
   "interpreter": {
    "hash": "9156ef130a3e7c803a4eba45416dfcc7f89c518269438e2cbb4d1a35dc461714"
   }
  }
 },
 "nbformat": 4,
 "nbformat_minor": 2
}
