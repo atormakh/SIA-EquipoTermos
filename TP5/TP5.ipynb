{
 "cells": [
  {
   "cell_type": "code",
   "execution_count": 1,
   "metadata": {},
   "outputs": [],
   "source": [
    "#IMPORTS INICIALES\n",
    "import random\n",
    "import numpy as np\n",
    "import pandas as pd\n",
    "import matplotlib.pyplot as plt\n",
    "import seaborn as sns\n",
    "from autoencoderManager import AutoencoderManager\n",
    "from fonts import getCharacterMatrix,getCharacterMap,getFormattedFont\n",
    "from helpers.configHelper import ConfigHelper\n",
    "from graph import plotErrorsAgainstSteps\n",
    "from noise import addNoise\n",
    "import pickle\n",
    "from os.path import exists"
   ]
  },
  {
   "cell_type": "markdown",
   "metadata": {},
   "source": [
    "# TP5 - Deep Learning"
   ]
  },
  {
   "cell_type": "code",
   "execution_count": 2,
   "metadata": {},
   "outputs": [],
   "source": [
    "#LEEMOS LOS PARAMETROS DEL CONFIG HELPER\n",
    "\n",
    "configPath=\"./config/config.json\"\n",
    "configHelper = ConfigHelper(configPath)\n",
    "(architecture,encoderActivationFunction,latentSpaceActivationFunction,decoderActivationFunction,encoderBeta,latentSpaceBeta,decoderBeta,learningRate,maxEpochs,maxToleranceExponent,randomSeed,font,noiseProbability) = configHelper.getProperties()"
   ]
  },
  {
   "cell_type": "markdown",
   "metadata": {},
   "source": [
    "## Ejercicio 1\n",
    "### a) Autoencoder basico"
   ]
  },
  {
   "cell_type": "code",
   "execution_count": 3,
   "metadata": {},
   "outputs": [],
   "source": [
    "#PEDIR LA FONT A UTILIZAR Y ARMAR EL TRAINING SET Y RESULT SET\n",
    "(trainingSet,fontCharacters) = getFormattedFont(font,flatten=True)\n",
    "resultsSet = trainingSet"
   ]
  },
  {
   "cell_type": "code",
   "execution_count": 4,
   "metadata": {},
   "outputs": [
    {
     "name": "stdout",
     "output_type": "stream",
     "text": [
      "INITIALIZING WEIGHTS FOR CONFIGURATION\n",
      "INITIALIZING WEIGHTS FOR CONFIGURATIONtraining matrix (35, 32)\n",
      "\n",
      "training matrix (35, 32)\n",
      "INITIALIZING WEIGHTS FOR CONFIGURATION\n",
      "training matrix (35, 32)\n",
      "['35_5', '35_6', '35_7']\n",
      "[<autoencoderManager.AutoencoderManager object at 0x7fb8c8e5e910>, <autoencoderManager.AutoencoderManager object at 0x7fb90bfc9ac0>, <autoencoderManager.AutoencoderManager object at 0x7fb90bfcedc0>]\n"
     ]
    }
   ],
   "source": [
    "# ENTRENAMIENTO DE LA RED\n",
    "import multiprocessing\n",
    "def trainAutoencoder(architecture,name,autoencoderManagers):\n",
    "    PATH = f\"autoencoderW{name}.pickle\"\n",
    "    autoencoderManager = AutoencoderManager(architecture,encoderActivationFunction,latentSpaceActivationFunction,decoderActivationFunction,learningRate,maxEpochs)\n",
    "    if exists(PATH):\n",
    "        print(\"INITIALIZING WEIGHTS FOR CONFIGURATION\")\n",
    "        file = open(PATH,'rb')\n",
    "        (wFinal,finalError,errors) = pickle.load(file)\n",
    "        file.close()\n",
    "        autoencoderManager.initilizeWeights(trainingSet,wFinal,errors)\n",
    "    else:\n",
    "        print(\"CREATING WEIGHTS FOR CONFIGURATION\")\n",
    "        (wFinal,finalError) = autoencoderManager.start(trainingSet)\n",
    "        file = open(PATH,'wb')\n",
    "        pickle.dump((wFinal,finalError,autoencoderManager.errors),file)\n",
    "        file.close()\n",
    "        autoencoderManager.saveNetwork(f\"{PATH}.json\",errors=autoencoderManager.errors)\n",
    "\n",
    "    #print(wFinal)\n",
    "    autoencoderManagers[name] = autoencoderManager\n",
    "    \n",
    "architectures = [[35,5, 2,5, 35],[35,6, 2,6, 35],[35,7, 2,7, 35]]\n",
    "architectureNames = [\"35_5\",\"35_6\",\"35_7\"]\n",
    "manager = multiprocessing.Manager()\n",
    "managers = manager.dict()\n",
    "processes = [multiprocessing.Process(target=trainAutoencoder,args=(arch[0],arch[1],managers)) for arch in zip(architectures,architectureNames)]\n",
    "[p.start() for p in processes]\n",
    "[p.join() for p in processes]\n",
    "autoencoderManagers = managers.values()\n",
    "autoencoderManagersArchitectures = managers.keys()\n",
    "print(managers.keys())\n",
    "print(autoencoderManagers)\n",
    "    \n"
   ]
  },
  {
   "cell_type": "code",
   "execution_count": 5,
   "metadata": {},
   "outputs": [
    {
     "name": "stdout",
     "output_type": "stream",
     "text": [
      "{'X': [0.0, 3.1650221561449596, 0.0, 0.0, 2.328625511930086, 0.0, 0.0, 0.0, 3.2201083513387667, 76.53205444993725, -0.4166393658292643, 0.014455301032449297, 0.0, 9.862067260612895, 0.7311251907393765, 0.0, 0.0, 0.0, 0.0, 0.0, 59.613441150356294, 0.5434002573180182, 1.2274491606921638, 0.9500462983668582, 1.9119861461008218, -0.43405271619991126, 0.0, 3.2060655967340703, 0.6723161181994587, -0.8332787316585286, 8.027374702365444, 1.8437941549487187], 'Y': [0.0, 10.169807519650437, 0.0, 0.0, -2.1950708720126078, 0.0, 0.0, 0.0, 4.007446095188401, 60.60670679890445, -3.182141577402962, -4.90613115054832, 0.0, 16.687696124707138, 2.0118180217822084, 0.0, 0.0, 0.0, 0.0, 0.0, 41.52575917485558, 1.914439119710655, 1.1986483990405696, 3.347083065633112, -5.37721244941557, -22.857285683826927, 0.0, 0.5922849716483396, -5.397628248915717, -6.364283154805924, 9.455470330797207, 3.6539714887932035], 'Label': ['@', 'A', 'B', 'C', 'D', 'E', 'F', 'G', 'H', 'I', 'J', 'K', 'L', 'M', 'N', 'O', 'P', 'Q', 'R', 'S', 'T', 'U', 'V', 'W', 'X', 'Y', 'Z', '[', '\\\\', ']', '^', '_']}\n"
     ]
    },
    {
     "data": {
      "image/png": "[encoded data removed]",
      "text/plain": [
       "<Figure size 432x288 with 1 Axes>"
      ]
     },
     "metadata": {
      "needs_background": "light"
     },
     "output_type": "display_data"
    }
   ],
   "source": [
    "# LATENT SPACE CONFIGURATION\n",
    "latentSpaceData = {\n",
    "    'X' : [],\n",
    "    'Y' : [],\n",
    "    'Label':[]\n",
    "}\n",
    "i=0\n",
    "for character in trainingSet:\n",
    "    point = autoencoderManagers[0].getLatentSpaceConfig(character)\n",
    "    latentSpaceData['X'].append(point[0])\n",
    "    latentSpaceData['Y'].append(point[1])\n",
    "    latentSpaceData['Label'].append(fontCharacters[i])\n",
    "    i+=1\n",
    "data = pd.DataFrame(latentSpaceData)\n",
    "print(latentSpaceData)\n",
    "sp = sns.scatterplot(x=\"X\",y=\"Y\",data=data)\n",
    "for c in range(0,data.shape[0]):\n",
    "    sp.text(data.iloc[c]['X'],data.iloc[c]['Y'],data.iloc[c]['Label'],fontsize=10,horizontalalignment='left',weight='bold')"
   ]
  },
  {
   "cell_type": "code",
   "execution_count": 6,
   "metadata": {},
   "outputs": [
    {
     "ename": "NameError",
     "evalue": "name 'autoencoderManager' is not defined",
     "output_type": "error",
     "traceback": [
      "\u001b[0;31m---------------------------------------------------------------------------\u001b[0m",
      "\u001b[0;31mNameError\u001b[0m                                 Traceback (most recent call last)",
      "\u001b[1;32m/home/agustin/code/SIA/SIA-EquipoTermos/TP5/TP5.ipynb Cell 8'\u001b[0m in \u001b[0;36m<cell line: 1>\u001b[0;34m()\u001b[0m\n\u001b[0;32m----> <a href='vscode-notebook-cell:/home/agustin/code/SIA/SIA-EquipoTermos/TP5/TP5.ipynb#ch0000007?line=0'>1</a>\u001b[0m autoencoderManager\u001b[39m.\u001b[39msaveNetwork(\u001b[39m'\u001b[39m\u001b[39m30-10-2.json\u001b[39m\u001b[39m'\u001b[39m, autoencoderManager\u001b[39m.\u001b[39merrors)\n",
      "\u001b[0;31mNameError\u001b[0m: name 'autoencoderManager' is not defined"
     ]
    }
   ],
   "source": [
    "#autoencoderManager.saveNetwork('30-10-2.json', autoencoderManager.errors)"
   ]
  },
  {
   "cell_type": "code",
   "execution_count": 8,
   "metadata": {},
   "outputs": [
    {
     "data": {
      "image/png": "[encoded data removed]",
      "text/plain": [
       "<Figure size 1080x648 with 1 Axes>"
      ]
     },
     "metadata": {
      "needs_background": "light"
     },
     "output_type": "display_data"
    }
   ],
   "source": [
    "#GRAFICAR ERRORS VS STEPS\n",
    "plotErrorsAgainstSteps(autoencoderManagers,autoencoderManagersArchitectures)\n"
   ]
  },
  {
   "cell_type": "code",
   "execution_count": null,
   "metadata": {},
   "outputs": [],
   "source": [
    "(autoencoderManager,errors) = AutoencoderManager.networkFromFile('35-20-3_errors.json' )"
   ]
  },
  {
   "cell_type": "code",
   "execution_count": null,
   "metadata": {},
   "outputs": [],
   "source": [
    "# PLOT INPUT VS OUTPUT OF FINAL LAYER\n",
    "(formattedFont,fontCharacters) = getFormattedFont(font,flatten=False)\n",
    "print(formattedFont)\n",
    "figure, axes = plt.subplots( 2,len(formattedFont), sharex=True, figsize=(19,7))\n",
    "for font in range(0,len(formattedFont)):\n",
    "    getCharacterMap(formattedFont[font],ax=axes[0,font])\n",
    "    umbralFormattedCharacter = [x if x>=0.35 else 0 for x in autoencoderManager.propagate(trainingSet[font])]\n",
    "    getCharacterMap(getCharacterMatrix(np.array(umbralFormattedCharacter)),ax=axes[1,font])"
   ]
  },
  {
   "cell_type": "code",
   "execution_count": null,
   "metadata": {},
   "outputs": [],
   "source": [
    "n = 15  # figure with 15x15 digits\n",
    "width_digit_size = 5\n",
    "height_digit_size = 7\n",
    "figure = np.zeros((height_digit_size * n, width_digit_size * n))\n",
    "# linearly spaced coordinates on the unit square were transformed through the inverse CDF (ppf) of the Gaussian\n",
    "# to produce values of the latent variables z, since the prior of the latent space is Gaussian\n",
    "grid_x = np.linspace(0, 1, n)\n",
    "grid_y = np.linspace(0, 1, n)\n",
    "\n",
    "for i, yi in enumerate(grid_x):\n",
    "    for j, xi in enumerate(grid_y):\n",
    "        z_sample = np.array([[xi, yi]])\n",
    "        x_decoded = autoencoderManager.decodeFromLatentSpace(z_sample)\n",
    "        digit = x_decoded.reshape(height_digit_size, width_digit_size)\n",
    "        getCharacterMap(digit)\n",
    "        figure[i * height_digit_size: (i + 1) * height_digit_size,\n",
    "               j * width_digit_size: (j + 1) * width_digit_size] = digit\n",
    "\n",
    "plt.figure(figsize=(30, 30))\n",
    "plt.imshow(figure, cmap='Greys_r')\n",
    "plt.show()"
   ]
  },
  {
   "cell_type": "markdown",
   "metadata": {},
   "source": [
    "### b) Denoising autoencoder"
   ]
  },
  {
   "cell_type": "code",
   "execution_count": null,
   "metadata": {},
   "outputs": [],
   "source": [
    "#ARMAMOS TRAINING SET CON RUIDO Y EL NUEVO RESULTS SET\n",
    "\n",
    "#Seteo de seed\n",
    "np.random.seed(randomSeed)\n",
    "random.seed(randomSeed)\n",
    "\n",
    "numberOfElements = 5\n",
    "#Agarramos las 10 primeras letras de la font\n",
    "flattenedSubFont = getFormattedFont(font,flatten=True)[:numberOfElements]\n",
    "# noiseProbability = 0.1\n",
    "numberOfSubFonts = 5\n",
    "#Armamos el trainingSet colocando las letras con distinto ruido segun la probabilidad especificada, y el resultsSet con las letras sin ruido\n",
    "newTrainingSet = []\n",
    "newResultsSet = []\n",
    "# for i in range(0,numberOfSubFonts):\n",
    "#     for j in range(0,len(flattenedSubFont)):\n",
    "#         newTrainingSet.append(addNoise(flattenedSubFont[j],noiseProbability))\n",
    "#         newResultsSet.append(flattenedSubFont[j])\n",
    "for j in range(0,len(flattenedSubFont)):\n",
    "    for i in range(0,numberOfSubFonts):\n",
    "        newTrainingSet.append(addNoise(flattenedSubFont[j],noiseProbability))\n",
    "        newResultsSet.append(flattenedSubFont[j])\n",
    "\n",
    "\n",
    "newTrainingSet = np.asarray(newTrainingSet)\n",
    "newResultsSet = np.asarray(newResultsSet)\n"
   ]
  },
  {
   "cell_type": "code",
   "execution_count": null,
   "metadata": {},
   "outputs": [],
   "source": [
    "# IMPRIMIMOS EL TRAINING SET Y EL RESULTS SET\n",
    "figure, axes = plt.subplots( 2,len(newTrainingSet), sharex=True, figsize=(19,7))\n",
    "for i in range(0,len(newTrainingSet)):\n",
    "    # print(newTrainingSet[i])\n",
    "    umbralTrainingFormattedCharacter = [x if x>=0.35 else 0 for x in newTrainingSet[i]]\n",
    "    getCharacterMap(getCharacterMatrix(np.array(umbralTrainingFormattedCharacter)),ax=axes[0,i])\n",
    "    umbralResultFormattedCharacter = [x if x>=0.35 else 0 for x in newResultsSet[i]]\n",
    "    getCharacterMap(getCharacterMatrix(np.array(umbralResultFormattedCharacter)),ax=axes[1,i])\n",
    "\n",
    "    # getCharacterMap(formattedFont[font],ax=axes[0,font])\n",
    "    # umbralFormattedCharacter = [x if x>=0.35 else 0 for x in autoencoderManager.propagate(trainingSet[font])]\n",
    "    # getCharacterMap(getCharacterMatrix(np.array(umbralFormattedCharacter)),ax=axes[1,font])"
   ]
  },
  {
   "cell_type": "code",
   "execution_count": null,
   "metadata": {},
   "outputs": [],
   "source": [
    "#ENTRENAMIENTO DE LA RED\n",
    "\n",
    "denoisingAutoencoderManager = AutoencoderManager(architecture,encoderActivationFunction,latentSpaceActivationFunction,decoderActivationFunction,learningRate,maxEpochs)\n",
    "(wFinal,finalError) = denoisingAutoencoderManager.start(newTrainingSet,newResultsSet)"
   ]
  },
  {
   "cell_type": "code",
   "execution_count": null,
   "metadata": {},
   "outputs": [],
   "source": [
    "#TESTEO DE LA RED\n",
    "#Generamos un nuevo set de letras con ruido\n",
    "noiseSet = []\n",
    "resultsSet = flattenedSubFont\n",
    "for j in range(0,len(flattenedSubFont)):\n",
    "        noiseSet.append(addNoise(flattenedSubFont[j],noiseProbability))\n",
    "noiseSet = np.asarray(noiseSet)\n",
    "#Comparamos el input ruidoso con la salida de la red\n",
    "figure, axes = plt.subplots( 2,len(noiseSet), sharex=True, figsize=(19,7))\n",
    "for i in range(0,len(noiseSet)):\n",
    "    umbralTrainingFormattedCharacter = [x if x>=0.35 else 0 for x in noiseSet[i]]\n",
    "    getCharacterMap(getCharacterMatrix(np.array(umbralTrainingFormattedCharacter)),ax=axes[0,i])\n",
    "#     umbralResultFormattedCharacter = [x if x>=0.35 else 0 for x in newResultsSet[i]]\n",
    "#     getCharacterMap(getCharacterMatrix(np.array(umbralResultFormattedCharacter)),ax=axes[1,i])\n",
    "#     getCharacterMap(formattedFont[font],ax=axes[0,font])\n",
    "    umbralResultFormattedCharacter = [x if x>=0.35 else 0 for x in denoisingAutoencoderManager.propagate(noiseSet[i])]\n",
    "    getCharacterMap(getCharacterMatrix(np.array(umbralResultFormattedCharacter)),ax=axes[1,i])"
   ]
  }
 ],
 "metadata": {
  "kernelspec": {
   "display_name": "Python 3.10.4 64-bit",
   "language": "python",
   "name": "python3"
  },
  "language_info": {
   "codemirror_mode": {
    "name": "ipython",
    "version": 3
   },
   "file_extension": ".py",
   "mimetype": "text/x-python",
   "name": "python",
   "nbconvert_exporter": "python",
   "pygments_lexer": "ipython3",
   "version": "3.10.4"
  },
  "orig_nbformat": 4,
  "vscode": {
   "interpreter": {
    "hash": "d8da1aec497d1b8c0f78f725e674c93b04e0e859808ac12f8fc3351619fa513e"
   }
  }
 },
 "nbformat": 4,
 "nbformat_minor": 2
}
