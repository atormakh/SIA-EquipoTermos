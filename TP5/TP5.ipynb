{
 "cells": [
  {
   "cell_type": "code",
   "execution_count": null,
   "metadata": {},
   "outputs": [],
   "source": [
    "#IMPORTS INICIALES\n",
    "import numpy as np\n",
    "import random\n",
    "import matplotlib.pyplot as plt\n",
    "from autoencoderManager import AutoencoderManager\n",
    "from fonts import getCharacterMap,getFormattedFont\n",
    "from seaborn import heatmap\n",
    "from helpers.configHelper import ConfigHelper\n",
    "from helpers.errorHelper import ErrorHelper\n",
    "from neuralNetworkManager import NeuralNetworkManager\n",
    "from output import Output\n",
    "from graph import plotEpochsError,plotErrorAgainstSteps\n"
   ]
  },
  {
   "cell_type": "markdown",
   "metadata": {},
   "source": [
    "# TP5 - Deep Learning"
   ]
  },
  {
   "cell_type": "code",
   "execution_count": null,
   "metadata": {},
   "outputs": [],
   "source": [
    "#LEEMOS LOS PARAMETROS DEL CONFIG HELPER\n",
    "\n",
    "configPath=\"./config/config.json\"\n",
    "configHelper = ConfigHelper(configPath)\n",
    "(architecture,activationFunction,beta,learningRate,maxEpochs,maxToleranceExponent,randomSeed,font) = configHelper.getProperties()"
   ]
  },
  {
   "cell_type": "code",
   "execution_count": null,
   "metadata": {},
   "outputs": [],
   "source": [
    "#PEDIR LA FONT A UTILIZAR Y ARMAR EL TRAINING SET Y RESULT SET\n",
    "formattedFont = getFormattedFont(font)\n",
    "getCharacterMap(formattedFont[5])\n",
    "trainingSet = getFormattedFont(font,flatten=True)\n",
    "resultsSet = trainingSet"
   ]
  },
  {
   "cell_type": "code",
   "execution_count": null,
   "metadata": {},
   "outputs": [],
   "source": [
    "# #Seteo de seed\n",
    "# np.random.seed(randomSeed)\n",
    "# random.seed(randomSeed)\n",
    "# neuralNetworkManager = NeuralNetworkManager(architecture,activationFunction,learningRate,maxEpochs,maxToleranceExponent)\n",
    "# (epochs,executionTime,exception) = neuralNetworkManager.start(trainingSet,resultsSet)\n",
    "\n",
    "# #autoencoderManager = AutoencoderManager(architecture,activationFunction,learningRate,maxEpochs,errorHelper)\n",
    "# #(epochs,executionTime,exception) = autoencoderManager.start(trainingSet,resultsSet)\n",
    "\n",
    "# #Plot error graph\n",
    "# plotEpochsError(epochs)\n",
    "# #Print output\n",
    "# print(\"FINISH-------------------------------------------------------------------------------------------\")\n",
    "# output = Output(configHelper,epochs[-1].error,epochs[-1].epochNumber,executionTime)\n",
    "# output.printOutput()"
   ]
  },
  {
   "cell_type": "code",
   "execution_count": null,
   "metadata": {},
   "outputs": [],
   "source": [
    "#ENTRENAMIENTO DE LA RED\n",
    "\n",
    "#Seteo de seed\n",
    "np.random.seed(randomSeed)\n",
    "random.seed(randomSeed)\n",
    "\n",
    "\n",
    "autoencoderManager = AutoencoderManager(architecture,activationFunction,learningRate,maxEpochs)\n",
    "(wFinal,finalError) = autoencoderManager.start(trainingSet,resultsSet)\n",
    "print(wFinal)\n",
    "print(finalError)"
   ]
  },
  {
   "cell_type": "code",
   "execution_count": null,
   "metadata": {},
   "outputs": [],
   "source": [
    "#GRAFICAR ERROR VS STEPS\n",
    "plotErrorAgainstSteps(autoencoderManager.errors,autoencoderManager.steps)\n",
    "print(autoencoderManager.steps)"
   ]
  }
 ],
 "metadata": {
  "kernelspec": {
   "display_name": "Python 3.10.2 64-bit",
   "language": "python",
   "name": "python3"
  },
  "language_info": {
   "codemirror_mode": {
    "name": "ipython",
    "version": 3
   },
   "file_extension": ".py",
   "mimetype": "text/x-python",
   "name": "python",
   "nbconvert_exporter": "python",
   "pygments_lexer": "ipython3",
   "version": "3.10.2"
  },
  "orig_nbformat": 4,
  "vscode": {
   "interpreter": {
    "hash": "26de051ba29f2982a8de78e945f0abaf191376122a1563185a90213a26c5da77"
   }
  }
 },
 "nbformat": 4,
 "nbformat_minor": 2
}
