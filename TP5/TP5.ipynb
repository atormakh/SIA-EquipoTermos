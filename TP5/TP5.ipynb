{
 "cells": [
  {
   "cell_type": "code",
   "execution_count": 1,
   "metadata": {},
   "outputs": [],
   "source": [
    "#IMPORTS INICIALES\n",
    "import random\n",
    "import numpy as np\n",
    "import pandas as pd\n",
    "import matplotlib.pyplot as plt\n",
    "import seaborn as sns\n",
    "from autoencoderManager import AutoencoderManager\n",
    "from fonts import getCharacterMatrix,getCharacterMap,getFormattedFont\n",
    "from helpers.configHelper import ConfigHelper\n",
    "from graph import plotErrorAgainstSteps\n",
    "from noise import addNoise\n",
    "import pickle\n",
    "from os.path import exists\n"
   ]
  },
  {
   "cell_type": "code",
   "execution_count": 2,
   "metadata": {},
   "outputs": [
    {
     "name": "stdout",
     "output_type": "stream",
     "text": [
      "[('A', 1), ('B', 2), ('C', 3)]\n"
     ]
    }
   ],
   "source": [
    "foo = [\"A\",\"B\",\"C\"]\n",
    "bar = [1,2,3]\n",
    "\n",
    "print(list(zip(foo,bar)))"
   ]
  },
  {
   "cell_type": "markdown",
   "metadata": {},
   "source": [
    "# TP5 - Deep Learning"
   ]
  },
  {
   "cell_type": "code",
   "execution_count": 3,
   "metadata": {},
   "outputs": [
    {
     "name": "stdout",
     "output_type": "stream",
     "text": [
      " 'noise_probability' is a required parameter\n"
     ]
    }
   ],
   "source": [
    "#LEEMOS LOS PARAMETROS DEL CONFIG HELPER\n",
    "\n",
    "configPath=\"./config/config.json\"\n",
    "configHelper = ConfigHelper(configPath)\n",
    "(architecture,encoderActivationFunction,latentSpaceActivationFunction,decoderActivationFunction,encoderBeta,latentSpaceBeta,decoderBeta,learningRate,maxEpochs,maxToleranceExponent,randomSeed,font,noiseProbability) = configHelper.getProperties()"
   ]
  },
  {
   "cell_type": "markdown",
   "metadata": {},
   "source": [
    "## Ejercicio 1\n",
    "### a) Autoencoder basico"
   ]
  },
  {
   "cell_type": "code",
   "execution_count": 4,
   "metadata": {},
   "outputs": [
    {
     "name": "stdout",
     "output_type": "stream",
     "text": [
      "[[0 1 1 ... 1 1 1]\n",
      " [0 0 1 ... 0 0 1]\n",
      " [1 1 1 ... 1 1 0]\n",
      " ...\n",
      " [0 1 1 ... 1 1 0]\n",
      " [0 0 1 ... 0 0 0]\n",
      " [0 0 0 ... 1 1 1]]\n"
     ]
    },
    {
     "data": {
      "image/png": "[encoded data removed]",
      "text/plain": [
       "<Figure size 432x288 with 1 Axes>"
      ]
     },
     "metadata": {
      "needs_background": "light"
     },
     "output_type": "display_data"
    }
   ],
   "source": [
    "#PEDIR LA FONT A UTILIZAR Y ARMAR EL TRAINING SET Y RESULT SET\n",
    "(trainingSet,fontCharacters) = getFormattedFont(font,flatten=True)\n",
    "resultsSet = trainingSet"
   ]
  },
  {
   "cell_type": "code",
   "execution_count": 5,
   "metadata": {},
   "outputs": [],
   "source": [
    "# #Seteo de seed\n",
    "# np.random.seed(randomSeed)\n",
    "# random.seed(randomSeed)\n",
    "# neuralNetworkManager = NeuralNetworkManager(architecture,activationFunction,learningRate,maxEpochs,maxToleranceExponent)\n",
    "# (epochs,executionTime,exception) = neuralNetworkManager.start(trainingSet,resultsSet)\n",
    "\n",
    "# #autoencoderManager = AutoencoderManager(architecture,activationFunction,learningRate,maxEpochs,errorHelper)\n",
    "# #(epochs,executionTime,exception) = autoencoderManager.start(trainingSet,resultsSet)\n",
    "\n",
    "# #Plot error graph\n",
    "# plotEpochsError(epochs)\n",
    "# #Print output\n",
    "# print(\"FINISH-------------------------------------------------------------------------------------------\")\n",
    "# output = Output(configHelper,epochs[-1].error,epochs[-1].epochNumber,executionTime)\n",
    "# output.printOutput()"
   ]
  },
  {
   "cell_type": "code",
   "execution_count": 6,
   "metadata": {},
   "outputs": [
    {
     "name": "stdout",
     "output_type": "stream",
     "text": [
      "INITIALIZING WEIGHTS FOR CONFIGURATION\n",
      "[-8.08131077 -1.11805568  0.27119615 ...  7.66730025 36.63859286\n",
      "  6.49229312]\n"
     ]
    }
   ],
   "source": [
    "# ENTRENAMIENTO DE LA RED\n",
    "PATH = \"autoencoderW4.pickle\"\n",
    "autoencoderManager = AutoencoderManager(architecture,encoderActivationFunction,latentSpaceActivationFunction,decoderActivationFunction,learningRate,maxEpochs)\n",
    "if exists(PATH):\n",
    "    print(\"INITIALIZING WEIGHTS FOR CONFIGURATION\")\n",
    "    file = open(PATH,'rb')\n",
    "    wFinal = pickle.load(file)\n",
    "    file.close()\n",
    "    autoencoderManager.initilizeWeights(trainingSet,wFinal)\n",
    "else:\n",
    "    print(\"CREATING WEIGHTS FOR CONFIGURATION\")\n",
    "    (wFinal,finalError) = autoencoderManager.start(trainingSet)\n",
    "    file = open(PATH,'wb')\n",
    "    pickle.dump(wFinal,file)\n",
    "    file.close()\n",
    "\n",
    "print(wFinal)\n",
    "    \n"
   ]
  },
  {
   "cell_type": "code",
   "execution_count": 7,
   "metadata": {},
   "outputs": [
    {
     "name": "stdout",
     "output_type": "stream",
     "text": [
      "{'X': [0.9999999999956712, 1.0, 0.9118482017603725, 8.288263435159365e-08, 1.0, 3.512110113281818e-10], 'Y': [0.0019337058913438023, 0.9348495481662613, 1.446395501811151e-56, 0.9997033972836877, 8.092227508728705e-177, 0.9928410508592055], 'Label': ['@', 'A', 'B', 'C', 'D', 'E']}\n"
     ]
    },
    {
     "data": {
      "image/png": "[encoded data removed]",
      "text/plain": [
       "<Figure size 432x288 with 1 Axes>"
      ]
     },
     "metadata": {
      "needs_background": "light"
     },
     "output_type": "display_data"
    }
   ],
   "source": [
    "# LATENT SPACE CONFIGURATION\n",
    "latentSpaceData = {\n",
    "    'X' : [],\n",
    "    'Y' : [],\n",
    "    'Label':[]\n",
    "}\n",
    "i=0\n",
    "for character in trainingSet:\n",
    "    point = autoencoderManager.getLatentSpaceConfig(character)\n",
    "    latentSpaceData['X'].append(point[0])\n",
    "    latentSpaceData['Y'].append(point[1])\n",
    "    latentSpaceData['Label'].append(fontCharacters[i])\n",
    "    i+=1\n",
    "data = pd.DataFrame(latentSpaceData)\n",
    "print(latentSpaceData)\n",
    "sp = sns.scatterplot(x=\"X\",y=\"Y\",data=data)\n",
    "for c in range(0,data.shape[0]):\n",
    "    sp.text(data.iloc[c]['X'],data.iloc[c]['Y'],data.iloc[c]['Label'],fontsize=10,horizontalalignment='left',weight='bold')"
   ]
  },
  {
   "cell_type": "code",
   "execution_count": 8,
   "metadata": {},
   "outputs": [
    {
     "ename": "AttributeError",
     "evalue": "'AutoencoderManager' object has no attribute 'errors'",
     "output_type": "error",
     "traceback": [
      "\u001b[0;31m---------------------------------------------------------------------------\u001b[0m",
      "\u001b[0;31mAttributeError\u001b[0m                            Traceback (most recent call last)",
      "\u001b[1;32m/home/agustin/code/SIA/SIA-EquipoTermos/TP5/TP5.ipynb Cell 10'\u001b[0m in \u001b[0;36m<cell line: 2>\u001b[0;34m()\u001b[0m\n\u001b[1;32m      <a href='vscode-notebook-cell:/home/agustin/code/SIA/SIA-EquipoTermos/TP5/TP5.ipynb#ch0000009?line=0'>1</a>\u001b[0m \u001b[39m#GRAFICAR ERROR VS STEPS\u001b[39;00m\n\u001b[0;32m----> <a href='vscode-notebook-cell:/home/agustin/code/SIA/SIA-EquipoTermos/TP5/TP5.ipynb#ch0000009?line=1'>2</a>\u001b[0m plotErrorAgainstSteps(autoencoderManager\u001b[39m.\u001b[39;49merrors,autoencoderManager\u001b[39m.\u001b[39msteps)\n\u001b[1;32m      <a href='vscode-notebook-cell:/home/agustin/code/SIA/SIA-EquipoTermos/TP5/TP5.ipynb#ch0000009?line=2'>3</a>\u001b[0m \u001b[39mprint\u001b[39m(autoencoderManager\u001b[39m.\u001b[39msteps)\n",
      "\u001b[0;31mAttributeError\u001b[0m: 'AutoencoderManager' object has no attribute 'errors'"
     ]
    }
   ],
   "source": [
    "#GRAFICAR ERROR VS STEPS\n",
    "plotErrorAgainstSteps(autoencoderManager.errors,autoencoderManager.steps)\n",
    "print(autoencoderManager.steps)"
   ]
  },
  {
   "cell_type": "code",
   "execution_count": 29,
   "metadata": {},
   "outputs": [
    {
     "name": "stderr",
     "output_type": "stream",
     "text": [
      "v:\\Documents\\facu\\SIA\\SIA-EquipoTermos\\TP5\\activationFunctions\\sigmoidalActivationFunction.py:10: RuntimeWarning: overflow encountered in exp\n",
      "  return 1 / (1 + np.exp(np.multiply(-2*self.beta,h)))\n"
     ]
    },
    {
     "data": {
      "image/png": "[encoded data removed]",
      "text/plain": [
       "<Figure size 1368x504 with 64 Axes>"
      ]
     },
     "metadata": {
      "needs_background": "light"
     },
     "output_type": "display_data"
    }
   ],
   "source": [
    "# PLOT INPUT VS OUTPUT OF FINAL LAYER\n",
    "figure, axes = plt.subplots( 2,len(formattedFont), sharex=True, figsize=(19,7))\n",
    "for font in range(0,len(formattedFont)):\n",
    "    getCharacterMap(formattedFont[font],ax=axes[0,font])\n",
    "    umbralFormattedCharacter = [x if x>=0.35 else 0 for x in autoencoderManager.propagate(trainingSet[font])]\n",
    "    getCharacterMap(getCharacterMatrix(np.array(umbralFormattedCharacter)),ax=axes[1,font])"
   ]
  },
  {
   "cell_type": "code",
   "execution_count": 16,
   "metadata": {},
   "outputs": [
    {
     "name": "stderr",
     "output_type": "stream",
     "text": [
      "/home/agustin/code/SIA/SIA-EquipoTermos/TP5/activationFunctions/sigmoidalActivationFunction.py:10: RuntimeWarning: overflow encountered in exp\n",
      "  return 1 / (1 + np.exp(np.multiply(-2*self.beta,h)))\n"
     ]
    },
    {
     "data": {
      "image/png": "[encoded data removed]",
      "text/plain": [
       "<Figure size 432x288 with 1 Axes>"
      ]
     },
     "metadata": {
      "needs_background": "light"
     },
     "output_type": "display_data"
    },
    {
     "data": {
      "image/png": "[encoded data removed]",
      "text/plain": [
       "<Figure size 2160x2160 with 1 Axes>"
      ]
     },
     "metadata": {
      "needs_background": "light"
     },
     "output_type": "display_data"
    }
   ],
   "source": [
    "n = 15  # figure with 15x15 digits\n",
    "width_digit_size = 5\n",
    "height_digit_size = 7\n",
    "figure = np.zeros((height_digit_size * n, width_digit_size * n))\n",
    "# linearly spaced coordinates on the unit square were transformed through the inverse CDF (ppf) of the Gaussian\n",
    "# to produce values of the latent variables z, since the prior of the latent space is Gaussian\n",
    "grid_x = np.linspace(0, 1, n)\n",
    "grid_y = np.linspace(0, 1, n)\n",
    "\n",
    "for i, yi in enumerate(grid_x):\n",
    "    for j, xi in enumerate(grid_y):\n",
    "        z_sample = np.array([[xi, yi]])\n",
    "        x_decoded = autoencoderManager.decodeFromLatentSpace(z_sample)\n",
    "        digit = x_decoded.reshape(height_digit_size, width_digit_size)\n",
    "        getCharacterMap(digit)\n",
    "        figure[i * height_digit_size: (i + 1) * height_digit_size,\n",
    "               j * width_digit_size: (j + 1) * width_digit_size] = digit\n",
    "\n",
    "plt.figure(figsize=(30, 30))\n",
    "plt.imshow(figure, cmap='Greys_r')\n",
    "plt.show()"
   ]
  },
  {
   "cell_type": "markdown",
   "metadata": {},
   "source": [
    "### b) Denoising autoencoder"
   ]
  },
  {
   "cell_type": "code",
   "execution_count": null,
   "metadata": {},
   "outputs": [],
   "source": [
    "#ARMAMOS TRAINING SET CON RUIDO Y EL NUEVO RESULTS SET\n",
    "\n",
    "#Seteo de seed\n",
    "np.random.seed(randomSeed)\n",
    "random.seed(randomSeed)\n",
    "\n",
    "numberOfElements = 5\n",
    "#Agarramos las 10 primeras letras de la font\n",
    "flattenedSubFont = getFormattedFont(font,flatten=True)[:numberOfElements]\n",
    "# noiseProbability = 0.1\n",
    "numberOfSubFonts = 5\n",
    "#Armamos el trainingSet colocando las letras con distinto ruido segun la probabilidad especificada, y el resultsSet con las letras sin ruido\n",
    "newTrainingSet = []\n",
    "newResultsSet = []\n",
    "# for i in range(0,numberOfSubFonts):\n",
    "#     for j in range(0,len(flattenedSubFont)):\n",
    "#         newTrainingSet.append(addNoise(flattenedSubFont[j],noiseProbability))\n",
    "#         newResultsSet.append(flattenedSubFont[j])\n",
    "for j in range(0,len(flattenedSubFont)):\n",
    "    for i in range(0,numberOfSubFonts):\n",
    "        newTrainingSet.append(addNoise(flattenedSubFont[j],noiseProbability))\n",
    "        newResultsSet.append(flattenedSubFont[j])\n",
    "\n",
    "\n",
    "newTrainingSet = np.asarray(newTrainingSet)\n",
    "newResultsSet = np.asarray(newResultsSet)\n"
   ]
  },
  {
   "cell_type": "code",
   "execution_count": null,
   "metadata": {},
   "outputs": [],
   "source": [
    "# IMPRIMIMOS EL TRAINING SET Y EL RESULTS SET\n",
    "figure, axes = plt.subplots( 2,len(newTrainingSet), sharex=True, figsize=(19,7))\n",
    "for i in range(0,len(newTrainingSet)):\n",
    "    # print(newTrainingSet[i])\n",
    "    umbralTrainingFormattedCharacter = [x if x>=0.35 else 0 for x in newTrainingSet[i]]\n",
    "    getCharacterMap(getCharacterMatrix(np.array(umbralTrainingFormattedCharacter)),ax=axes[0,i])\n",
    "    umbralResultFormattedCharacter = [x if x>=0.35 else 0 for x in newResultsSet[i]]\n",
    "    getCharacterMap(getCharacterMatrix(np.array(umbralResultFormattedCharacter)),ax=axes[1,i])\n",
    "\n",
    "    # getCharacterMap(formattedFont[font],ax=axes[0,font])\n",
    "    # umbralFormattedCharacter = [x if x>=0.35 else 0 for x in autoencoderManager.propagate(trainingSet[font])]\n",
    "    # getCharacterMap(getCharacterMatrix(np.array(umbralFormattedCharacter)),ax=axes[1,font])"
   ]
  },
  {
   "cell_type": "code",
   "execution_count": null,
   "metadata": {},
   "outputs": [],
   "source": [
    "#ENTRENAMIENTO DE LA RED\n",
    "\n",
    "denoisingAutoencoderManager = AutoencoderManager(architecture,encoderActivationFunction,latentSpaceActivationFunction,decoderActivationFunction,learningRate,maxEpochs)\n",
    "(wFinal,finalError) = denoisingAutoencoderManager.start(newTrainingSet,newResultsSet)"
   ]
  },
  {
   "cell_type": "code",
   "execution_count": null,
   "metadata": {},
   "outputs": [],
   "source": [
    "#TESTEO DE LA RED\n",
    "#Generamos un nuevo set de letras con ruido\n",
    "noiseSet = []\n",
    "resultsSet = flattenedSubFont\n",
    "for j in range(0,len(flattenedSubFont)):\n",
    "        noiseSet.append(addNoise(flattenedSubFont[j],noiseProbability))\n",
    "noiseSet = np.asarray(noiseSet)\n",
    "#Comparamos el input ruidoso con la salida de la red\n",
    "figure, axes = plt.subplots( 2,len(noiseSet), sharex=True, figsize=(19,7))\n",
    "for i in range(0,len(noiseSet)):\n",
    "    umbralTrainingFormattedCharacter = [x if x>=0.35 else 0 for x in noiseSet[i]]\n",
    "    getCharacterMap(getCharacterMatrix(np.array(umbralTrainingFormattedCharacter)),ax=axes[0,i])\n",
    "#     umbralResultFormattedCharacter = [x if x>=0.35 else 0 for x in newResultsSet[i]]\n",
    "#     getCharacterMap(getCharacterMatrix(np.array(umbralResultFormattedCharacter)),ax=axes[1,i])\n",
    "#     getCharacterMap(formattedFont[font],ax=axes[0,font])\n",
    "    umbralResultFormattedCharacter = [x if x>=0.35 else 0 for x in denoisingAutoencoderManager.propagate(noiseSet[i])]\n",
    "    getCharacterMap(getCharacterMatrix(np.array(umbralResultFormattedCharacter)),ax=axes[1,i])"
   ]
  }
 ],
 "metadata": {
  "interpreter": {
   "hash": "b8f26438ba6f5566923bbff2830f91609891bda44652e059a0b8d89f8c0b374f"
  },
  "kernelspec": {
   "display_name": "Python 3.8.10 ('venv': venv)",
   "language": "python",
   "name": "python3"
  },
  "language_info": {
   "codemirror_mode": {
    "name": "ipython",
    "version": 3
   },
   "file_extension": ".py",
   "mimetype": "text/x-python",
   "name": "python",
   "nbconvert_exporter": "python",
   "pygments_lexer": "ipython3",
   "version": "3.8.10"
  },
  "orig_nbformat": 4,
  "vscode": {
   "interpreter": {
    "hash": "26de051ba29f2982a8de78e945f0abaf191376122a1563185a90213a26c5da77"
   }
  }
 },
 "nbformat": 4,
 "nbformat_minor": 2
}
