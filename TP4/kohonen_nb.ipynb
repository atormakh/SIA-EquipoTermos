{
 "cells": [
  {
   "cell_type": "code",
   "execution_count": null,
   "metadata": {},
   "outputs": [],
   "source": [
    "#IMPORTS INICIALES\n",
    "import pandas as pd\n",
    "import numpy as np\n",
    "import seaborn as sns\n",
    "import random\n",
    "from sklearn.preprocessing import StandardScaler\n",
    "import matplotlib.pyplot as plt\n",
    "from kohonen import Kohonen"
   ]
  },
  {
   "cell_type": "code",
   "execution_count": null,
   "metadata": {},
   "outputs": [],
   "source": [
    "#PROPIEDADES DE CONFIGURACION\n",
    "kohonenProperties = {\n",
    "    'seed': 10,\n",
    "    'maxEpochs':350,\n",
    "    'k':4,\n",
    "    'r0':4,\n",
    "    'initialLearningRate':0.1\n",
    "}"
   ]
  },
  {
   "cell_type": "code",
   "execution_count": null,
   "metadata": {},
   "outputs": [],
   "source": [
    "#SETEO DEL RANDOM SEED\n",
    "np.random.seed(kohonenProperties.get('seed'))\n",
    "random.seed(kohonenProperties.get('seed'))"
   ]
  },
  {
   "cell_type": "code",
   "execution_count": null,
   "metadata": {},
   "outputs": [],
   "source": [
    "#PROCESO DE DATOS DEL CSV\n",
    "df=pd.read_csv('europe.csv')\n",
    "dfWNames=df.copy()\n",
    "df = df[df.columns[1:8]]\n",
    "df.head()\n",
    "trainingSet=StandardScaler().fit_transform(df)\n",
    "countries=dfWNames.iloc[:,0]"
   ]
  },
  {
   "cell_type": "code",
   "execution_count": null,
   "metadata": {},
   "outputs": [],
   "source": [
    "#INICIALIZAR LA RED DE KOHONEN\n",
    "countriesCharacteristicsCount = trainingSet.shape[1]\n",
    "kohonen = Kohonen(countriesCharacteristicsCount,kohonenProperties['k'],kohonenProperties['r0'],kohonenProperties['maxEpochs'],kohonenProperties['initialLearningRate'],trainingSet,countries)"
   ]
  },
  {
   "cell_type": "code",
   "execution_count": null,
   "metadata": {},
   "outputs": [],
   "source": [
    "#ENTRENAR LA RED\n",
    "#Creamos una lista para acumular las matrices de paises retornadas por la red en cada epoca\n",
    "countriesMatrixList = []\n",
    "for i in range(0,kohonenProperties['maxEpochs']):\n",
    "    countriesMatrixList.append(kohonen.train(i+1))"
   ]
  },
  {
   "cell_type": "code",
   "execution_count": null,
   "metadata": {},
   "outputs": [],
   "source": [
    "#CREAR MAPA DE CALOR DE PAISES\n",
    "#Agarramos la matriz de paises correspondiente a la ultima epoca\n",
    "lastCountriesMatrix = countriesMatrixList[-1]\n",
    "#Creamos matrices para almacenar la cantidad de paises por grupo, y los paises de los mismos\n",
    "lastCountriesMatrixAmounts = np.zeros((kohonen.k,kohonen.k))\n",
    "countriesGroups = np.empty((kohonen.k,kohonen.k),object)\n",
    "for i in range(0,kohonen.k):\n",
    "    for j in range(0,kohonen.k):\n",
    "        countryGroup = ''\n",
    "        if(lastCountriesMatrix[i][j] is not None):\n",
    "            lastCountriesMatrixAmounts[i][j] = len(lastCountriesMatrix[i][j])\n",
    "            countryGroup = ''.join([f\"{country}\\n\" for country in lastCountriesMatrix[i][j]])\n",
    "        countriesGroups[i][j] = countryGroup\n",
    "lastCountriesMatrixAmountsDF = pd.DataFrame(lastCountriesMatrixAmounts)\n",
    "#Finalmente, creamos el mapa de calor correspondiente\n",
    "plt.figure(figsize = (15,9))\n",
    "sns.heatmap(data=lastCountriesMatrixAmountsDF,cmap=sns.color_palette(\"Greens\", as_cmap=True),annot=countriesGroups,fmt='')\n",
    "plt.title(\"Mapa de calor de los paises\")"
   ]
  },
  {
   "cell_type": "code",
   "execution_count": null,
   "metadata": {},
   "outputs": [],
   "source": [
    "#CREAR LA MATRIZ U\n",
    "uMatrix = kohonen.createUMatrix()\n",
    "uMatrixDF = pd.DataFrame(uMatrix)\n",
    "plt.figure(figsize = (15,9))\n",
    "sns.heatmap(data=uMatrixDF,cmap=sns.color_palette(\"Blues\", as_cmap=True),annot=True)\n",
    "plt.title(\"Matriz U\")"
   ]
  },
  {
   "cell_type": "code",
   "execution_count": null,
   "metadata": {},
   "outputs": [],
   "source": [
    "#CREAR MATRICES U POR CADA CARACTERISTICA\n",
    "characteristics = [\"Area\",\"GDP\",\"Inflation\",\"Life. expect\",\"Military\",\"Pop. growth\",\"Unemployment\"]\n",
    "for i in range(0,countriesCharacteristicsCount):\n",
    "    #Creamos la matriz U de dicha caracteristica y la graficamos\n",
    "    uMatrixCharacteristic = kohonen.createUMatrixPerCharacteristic(i)\n",
    "    uMatrixCharacteristicDF = pd.DataFrame(uMatrixCharacteristic)\n",
    "    plt.figure(figsize = (15,9))\n",
    "    sns.heatmap(data=uMatrixCharacteristicDF,cmap=sns.color_palette(\"vlag\", as_cmap=True),annot=True)\n",
    "    plt.title(\"Matriz U (\"+characteristics[i]+\")\")\n",
    "    "
   ]
  }
 ],
 "metadata": {
  "interpreter": {
   "hash": "26de051ba29f2982a8de78e945f0abaf191376122a1563185a90213a26c5da77"
  },
  "kernelspec": {
   "display_name": "Python 3.10.2 64-bit",
   "language": "python",
   "name": "python3"
  },
  "language_info": {
   "codemirror_mode": {
    "name": "ipython",
    "version": 3
   },
   "file_extension": ".py",
   "mimetype": "text/x-python",
   "name": "python",
   "nbconvert_exporter": "python",
   "pygments_lexer": "ipython3",
   "version": "3.10.2"
  },
  "orig_nbformat": 4
 },
 "nbformat": 4,
 "nbformat_minor": 2
}
