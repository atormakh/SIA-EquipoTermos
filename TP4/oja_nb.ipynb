{
 "cells": [
  {
   "cell_type": "markdown",
   "metadata": {},
   "source": [
    "# TP4 Oja"
   ]
  },
  {
   "cell_type": "code",
   "execution_count": null,
   "metadata": {},
   "outputs": [],
   "source": [
    "#IMPORTS INICIALES\n",
    "import pandas as pd\n",
    "import numpy as np\n",
    "import random\n",
    "from sklearn.decomposition import PCA\n",
    "from sklearn.preprocessing import StandardScaler\n",
    "import seaborn as sns\n",
    "import matplotlib.pyplot as plt\n",
    "from oja import getWeights,applyOja"
   ]
  },
  {
   "cell_type": "code",
   "execution_count": null,
   "metadata": {},
   "outputs": [],
   "source": [
    "#PROPIEDADES DE CONFIGURACION\n",
    "ojaProperties = {\n",
    "    'seed': 10,\n",
    "    'epochs':5000,\n",
    "    'learningRate':0.0001\n",
    "}"
   ]
  },
  {
   "cell_type": "code",
   "execution_count": null,
   "metadata": {},
   "outputs": [],
   "source": [
    "#SETEO DEL RANDOM SEED\n",
    "np.random.seed(ojaProperties['seed'])\n",
    "random.seed(ojaProperties['seed'])"
   ]
  },
  {
   "cell_type": "code",
   "execution_count": null,
   "metadata": {},
   "outputs": [],
   "source": [
    "#PROCESO DE DATOS DEL CSV\n",
    "df=pd.read_csv('europe.csv')\n",
    "dfWNames=df.copy()\n",
    "df = df[df.columns[1:8]]\n",
    "df.head()"
   ]
  },
  {
   "cell_type": "code",
   "execution_count": null,
   "metadata": {},
   "outputs": [],
   "source": [
    "#ESTANDARIZADO DE LOS DATOS DE LOS PAISES\n",
    "standarizedCountriesData=StandardScaler().fit_transform(df)\n",
    "namedBoxplot= pd.DataFrame(data=standarizedCountriesData,columns=[\"Area\",\"GDP\",\"Inflation\",\"Life. expect\",\"Military\",\"Pop. growth\",\"Unemployment\"])\n",
    "plt.figure(figsize = (15,9))\n",
    "sns.boxplot(data=namedBoxplot)\n",
    "plt.show()\n",
    "# namedBoxplot.head()"
   ]
  },
  {
   "cell_type": "code",
   "execution_count": null,
   "metadata": {},
   "outputs": [],
   "source": [
    "#CALCULO DE LOS PESOS\n",
    "countriesCharacteristicsCount = standarizedCountriesData.shape[1]\n",
    "w = getWeights(countriesCharacteristicsCount)\n",
    "\n",
    "initialWeightsData = {\n",
    "    \"Initial weights\": w\n",
    "}\n",
    "\n",
    "initialWeightsDF = pd.DataFrame(initialWeightsData)\n",
    "\n",
    "#Imprimimos los pesos iniciales\n",
    "initialWeightsDF.head(countriesCharacteristicsCount)"
   ]
  },
  {
   "cell_type": "code",
   "execution_count": null,
   "metadata": {},
   "outputs": [],
   "source": [
    "#EJECUCION DE LA REGLA DE OJA\n",
    "finalW = applyOja(ojaProperties['epochs'],standarizedCountriesData,w,ojaProperties['learningRate'])"
   ]
  },
  {
   "cell_type": "code",
   "execution_count": null,
   "metadata": {},
   "outputs": [],
   "source": [
    "#CALCULO DE COMPONENTES PRINCIPALES CON LIBRERIA\n",
    "pca=PCA(n_components=7)\n",
    "PC=pca.fit_transform(standarizedCountriesData)"
   ]
  },
  {
   "cell_type": "code",
   "execution_count": null,
   "metadata": {},
   "outputs": [],
   "source": [
    "#COMPARACION DEL VECTOR DE PESOS DEVUELTO POR OJA CON EL AUTOVECTOR ASOCIADO AL MAXIMO AUTOVALOR DE LA LIBRERIA\n",
    "finalWeightsData = {\n",
    "    \"Final weights (Oja)\":finalW,\n",
    "    \"PC1 eigenvector (Library)\": pca.components_[0]\n",
    "}\n",
    "\n",
    "finalWeightsDF = pd.DataFrame(finalWeightsData)\n",
    "\n",
    "#Imprimimos las componentes principales de cada pais\n",
    "finalWeightsDF.head(countriesCharacteristicsCount)\n"
   ]
  },
  {
   "cell_type": "code",
   "execution_count": null,
   "metadata": {},
   "outputs": [],
   "source": [
    "#CALCULO DE PC1 PARA CADA PAIS (OJA Y LIBRERIA)\n",
    "countries = []\n",
    "pc1 = []\n",
    "countriesCount = standarizedCountriesData.shape[0]\n",
    "print(countriesCount)\n",
    "\n",
    "for i in range(0,countriesCount):\n",
    "    countries.append(dfWNames.iloc[:,0][i])\n",
    "    countryData = np.array(standarizedCountriesData[i])\n",
    "    pc1.append(np.dot(finalW,countryData))\n",
    "\n",
    "ojaFirstPrincipalComponents = np.array(pc1)\n",
    "\n",
    "countriesData = {\n",
    "    'PC1 (Oja)': ojaFirstPrincipalComponents,\n",
    "    'PC1 (Library)': np.array(PC[:,0])\n",
    "}\n",
    "\n",
    "countriesDF = pd.DataFrame(countriesData, index=countries)\n",
    "\n",
    "#Imprimimos las componentes principales de cada pais\n",
    "countriesDF.head(countriesCount)"
   ]
  },
  {
   "cell_type": "code",
   "execution_count": null,
   "metadata": {},
   "outputs": [],
   "source": [
    "#BARPLOT DE PC1 (OJA Y LIBRERIA)\n",
    "\n",
    "plt.figure(figsize = (15,9))\n",
    "\n",
    "#Oja\n",
    "sns.set_style({'axes.grid':True})\n",
    "sns.barplot(x=ojaFirstPrincipalComponents,y=countries,hue=[1 if c >= 0 else 0 for c in ojaFirstPrincipalComponents],palette=sns.color_palette(),orient=\"h\").set(title=\"PC1 (Oja)\")\n",
    "plt.show()\n",
    "\n",
    "plt.figure(figsize = (15,9))\n",
    "\n",
    "#Libreria\n",
    "sns.set_style({'axes.grid':True})\n",
    "sns.barplot(x=PC[:,0],y=countries,hue=[1 if c >= 0 else 0 for c in PC[:,0]],palette=sns.color_palette(\"pastel\"),orient=\"h\").set(title=\"PC1 (Library)\")\n",
    "plt.show()"
   ]
  },
  {
   "cell_type": "code",
   "execution_count": null,
   "metadata": {},
   "outputs": [],
   "source": [
    "#BARPLOT DE COEFICIENTES DE PC1 (OJA Y LIBRERIA)\n",
    "\n",
    "plt.figure(figsize = (15,9))\n",
    "\n",
    "#Oja\n",
    "sns.set_style({'axes.grid':True})\n",
    "ojaCoefs = np.array(finalW)\n",
    "sns.barplot(x=ojaCoefs,y=[\"Area\",\"GDP\",\"Inflation\",\"Life. expect\",\"Military\",\"Pop. growth\",\"Unemployment\"],hue=[1 if c >= 0 else 0 for c in ojaCoefs],palette=sns.color_palette(),orient=\"h\").set(title=\"PC1 Coefficients (Oja)\")\n",
    "plt.show()\n",
    "\n",
    "plt.figure(figsize = (15,9))\n",
    "\n",
    "#Library\n",
    "sns.set_style({'axes.grid':True})\n",
    "libraryCoefs = np.array(pca.components_[0])\n",
    "sns.barplot(x=libraryCoefs,y=[\"Area\",\"GDP\",\"Inflation\",\"Life. expect\",\"Military\",\"Pop. growth\",\"Unemployment\"],hue=[1 if c >= 0 else 0 for c in libraryCoefs],palette=sns.color_palette(\"pastel\"),orient=\"h\").set(title=\"PC1 Coefficients (Library)\")\n",
    "plt.show()"
   ]
  },
  {
   "cell_type": "code",
   "execution_count": null,
   "metadata": {},
   "outputs": [],
   "source": [
    "#BOXPLOT DE ERROR ABSOLUTO ENTRE OJA Y LIBRERIA EN FUNCION DEL LEARNING RATE\n",
    "\n",
    "currentLearningRate = 0.1\n",
    "learningRates = []\n",
    "#Realizamos diversas iteraciones donde entre cada una se divide al learning rate por 10\n",
    "totalIterations = 4\n",
    "absErrors = np.zeros((2,totalIterations))\n",
    "for i in range(0,totalIterations):\n",
    "    firstPrincipalComponentOja = []\n",
    "    #Aplicamos Oja\n",
    "    ojaW = applyOja(ojaProperties['epochs'],standarizedCountriesData,w,currentLearningRate)\n",
    "    #Calculamos la primera componente principal con el vector de pesos de Oja\n",
    "    for j in range(0,countriesCount):\n",
    "        countryData = np.array(standarizedCountriesData[j])\n",
    "        firstPrincipalComponentOja.append(np.dot(ojaW,countryData))\n",
    "\n",
    "    firstPrincipalComponentOja = np.array(firstPrincipalComponentOja)\n",
    "\n",
    "    #Calculamos el error absoluto acumulado entre la primera componete de Oja y de la libreria\n",
    "    absErrors[0][i]=np.sum(np.abs(np.subtract(firstPrincipalComponentOja,PC[:,0])))\n",
    "\n",
    "    #Almacenamos el learning rate utilizado y lo modificamos para la proxima iteracion\n",
    "    learningRates.append(currentLearningRate)\n",
    "    currentLearningRate = currentLearningRate / 10\n",
    "\n",
    "#Finalmente, plasmamos los resultados en un boxplot\n",
    "errorsBoxplot= pd.DataFrame(data=absErrors,columns=learningRates)\n",
    "plt.figure(figsize = (15,9))\n",
    "sns.boxplot(data=errorsBoxplot)\n",
    "plt.show()\n",
    "\n"
   ]
  }
 ],
 "metadata": {
  "interpreter": {
   "hash": "26de051ba29f2982a8de78e945f0abaf191376122a1563185a90213a26c5da77"
  },
  "kernelspec": {
   "display_name": "Python 3.10.2 64-bit",
   "language": "python",
   "name": "python3"
  },
  "language_info": {
   "codemirror_mode": {
    "name": "ipython",
    "version": 3
   },
   "file_extension": ".py",
   "mimetype": "text/x-python",
   "name": "python",
   "nbconvert_exporter": "python",
   "pygments_lexer": "ipython3",
   "version": "3.10.2"
  },
  "orig_nbformat": 4
 },
 "nbformat": 4,
 "nbformat_minor": 2
}
