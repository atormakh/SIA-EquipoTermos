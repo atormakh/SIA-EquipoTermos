{
 "cells": [
  {
   "cell_type": "markdown",
   "metadata": {},
   "source": [
    "# TP4"
   ]
  },
  {
   "cell_type": "code",
   "execution_count": null,
   "metadata": {},
   "outputs": [],
   "source": [
    "from asciiHandler import asciiStringToLettersMatrix\n",
    "import numpy as np"
   ]
  },
  {
   "cell_type": "code",
   "execution_count": null,
   "metadata": {},
   "outputs": [],
   "source": [
    "alphabet=\"\"\"\n",
    " ###  ####   ###  ####  ##### #####  ###  #   # ##### ##### #   # #     #   #\n",
    "#   # #   # #   # #   # #     #     #     #   #   #     #   #  #  #     ## ##\n",
    "##### ####  #     #   # ####  ####  #  ## #####   #     #   ###   #     # # #\n",
    "#   # #   # #   # #   # #     #     #   # #   #   #   # #   #  #  #     #   #\n",
    "#   # ####   ###  ####  ##### #      ###  #   # ##### ###   #   # ##### #   #\n",
    "\n",
    "#   #  ###  ####   ###  ####   ###  ##### #   # #   # #   # #   # #   # #####\n",
    "##  # #   # #   # #   # #   # #       #   #   # #   # #   #  # #   # #     # \n",
    "# # # #   # ####  #   # ####   ###    #   #   #  # #  # # #   #     #     #  \n",
    "#  ## #   # #     #  #  #   #     #   #   #   #  # #  ## ##  # #    #    #   \n",
    "#   #  ###  #      ## # #   #  ###    #    ###    #   #   # #   #   #   #####\"\"\""
   ]
  },
  {
   "cell_type": "code",
   "execution_count": null,
   "metadata": {},
   "outputs": [],
   "source": [
    "#MOVE EACH ASCII TO A LETTER MATRIX\n",
    "(alphabetASCII,alphabetASCIIBipolar)=asciiStringToLettersMatrix()"
   ]
  },
  {
   "cell_type": "code",
   "execution_count": null,
   "metadata": {},
   "outputs": [],
   "source": [
    "#FUNCTION FOR PRINTING EACH LETTER\n",
    "def printLetter(index):\n",
    "    output=[]\n",
    "    for i in range(0,5):\n",
    "        output.append(f\"{''.join(alphabetASCII[index][i*5:i*5+5])}\\n\")\n",
    "    return \"\".join(output)\n",
    "def printLetterBipolar(index):\n",
    "    output=[]\n",
    "    for i in range(0,5):\n",
    "        output.append(f\"{''.join(str(alphabetASCIIBipolar[index][i*5:i*5+5]))}\\n\")\n",
    "    return \"\".join(output)"
   ]
  },
  {
   "cell_type": "markdown",
   "metadata": {},
   "source": []
  },
  {
   "cell_type": "code",
   "execution_count": null,
   "metadata": {},
   "outputs": [],
   "source": [
    "for letterIndex in range(0,len(alphabetASCII)):\n",
    "    print(printLetter(letterIndex))\n",
    "    print(printLetterBipolar(letterIndex))"
   ]
  },
  {
   "cell_type": "code",
   "execution_count": null,
   "metadata": {},
   "outputs": [],
   "source": [
    "# AGARRAR 4 LETRAS\n",
    "patterns=[alphabetASCIIBipolar[0],alphabetASCIIBipolar[1],alphabetASCIIBipolar[23],alphabetASCIIBipolar[25]]\n",
    "# CALCULAR LOS PESOS DE LA RED\n",
    "W=np.zeros((25,25))\n",
    "for pattern in patterns:\n",
    "    w_aux=np.dot(np.transpose(np.matrix(pattern)),np.matrix(pattern))\n",
    "    W=W + w_aux\n",
    "division = np.vectorize(lambda m:m/25)\n",
    "W= division(W)\n"
   ]
  },
  {
   "cell_type": "code",
   "execution_count": null,
   "metadata": {},
   "outputs": [],
   "source": [
    "#FUNCION SIGNO\n",
    "sgn = lambda x: -1 if x<=0 else 0\n",
    "sgn_v= np.vectorize(sgn)"
   ]
  }
 ],
 "metadata": {
  "interpreter": {
   "hash": "1a281f39597c6f6f97dae01a82b5cc65e7e419790e769fa4b9f4aea8bead6407"
  },
  "kernelspec": {
   "display_name": "Python 3.10.0 ('venv': venv)",
   "language": "python",
   "name": "python3"
  },
  "language_info": {
   "codemirror_mode": {
    "name": "ipython",
    "version": 3
   },
   "file_extension": ".py",
   "mimetype": "text/x-python",
   "name": "python",
   "nbconvert_exporter": "python",
   "pygments_lexer": "ipython3",
   "version": "3.10.0"
  },
  "orig_nbformat": 4
 },
 "nbformat": 4,
 "nbformat_minor": 2
}
