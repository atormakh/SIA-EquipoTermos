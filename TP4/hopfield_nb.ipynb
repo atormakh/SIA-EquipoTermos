{
 "cells": [
  {
   "cell_type": "markdown",
   "metadata": {},
   "source": [
    "# TP4 Hopfield"
   ]
  },
  {
   "cell_type": "code",
   "execution_count": null,
   "metadata": {},
   "outputs": [],
   "source": [
    "from asciiHandler import asciiStringToLettersMatrix\n",
    "from hopfield import printLetter,printLetterBipolar,printLetterBipolarMatrix,plotLetterMap\n",
    "import numpy as np\n",
    "import seaborn as sns\n",
    "from string import ascii_lowercase\n",
    "import pandas as pd\n",
    "import matplotlib.pyplot as plt"
   ]
  },
  {
   "cell_type": "code",
   "execution_count": null,
   "metadata": {},
   "outputs": [],
   "source": [
    "alphabet=\"\"\"\n",
    " ###  ####   ###  ####  ##### #####  ###  #   # ##### ##### #   # #     #   #\n",
    "#   # #   # #   # #   # #     #     #     #   #   #     #   #  #  #     ## ##\n",
    "##### ####  #     #   # ####  ####  #  ## #####   #     #   ###   #     # # #\n",
    "#   # #   # #   # #   # #     #     #   # #   #   #   # #   #  #  #     #   #\n",
    "#   # ####   ###  ####  ##### #      ###  #   # ##### ###   #   # ##### #   #\n",
    "\n",
    "#   #  ###  ####   ###  ####   ###  ##### #   # #   # #   # #   # #   # #####\n",
    "##  # #   # #   # #   # #   # #       #   #   # #   # #   #  # #   # #     # \n",
    "# # # #   # ####  #   # ####   ###    #   #   #  # #  # # #   #     #     #  \n",
    "#  ## #   # #     #  #  #   #     #   #   #   #  # #  ## ##  # #    #    #   \n",
    "#   #  ###  #      ## # #   #  ###    #    ###    #   #   # #   #   #   #####\"\"\""
   ]
  },
  {
   "cell_type": "code",
   "execution_count": null,
   "metadata": {},
   "outputs": [],
   "source": [
    "#MOVE EACH ASCII TO A LETTER MATRIX\n",
    "(alphabetASCII,alphabetASCIIBipolar)=asciiStringToLettersMatrix()"
   ]
  },
  {
   "cell_type": "markdown",
   "metadata": {},
   "source": []
  },
  {
   "cell_type": "code",
   "execution_count": null,
   "metadata": {},
   "outputs": [],
   "source": [
    "for letterIndex in range(0,len(alphabetASCII)):\n",
    "    print(printLetter(alphabetASCII,letterIndex))\n",
    "    print(printLetterBipolar(alphabetASCIIBipolar,letterIndex))"
   ]
  },
  {
   "cell_type": "code",
   "execution_count": null,
   "metadata": {},
   "outputs": [],
   "source": [
    "#FUNCION SIGNO\n",
    "sgn = lambda x: -1 if x<=0 else 1\n",
    "sgn_v= np.vectorize(sgn)"
   ]
  },
  {
   "cell_type": "code",
   "execution_count": null,
   "metadata": {},
   "outputs": [],
   "source": [
    "#BUSCAR LETRAS MAS ORTOGONALES\n",
    "ortogonality=np.zeros((len(alphabetASCIIBipolar),len(alphabetASCIIBipolar)))\n",
    "alphabet = [c for c in ascii_lowercase]\n",
    "print(np.dot(alphabetASCIIBipolar[1],alphabetASCIIBipolar[0]))\n",
    "for i in range(0,len(alphabetASCIIBipolar)):\n",
    "    for j in range(0,len(alphabetASCIIBipolar)):\n",
    "        ortogonality[i][j]=np.dot(alphabetASCIIBipolar[i],alphabetASCIIBipolar[j])\n",
    "df_cm = pd.DataFrame(ortogonality, index = [i for i in ascii_lowercase],\n",
    "                  columns = [i for i in ascii_lowercase])\n",
    "print(df_cm.head())\n",
    "plt.figure(figsize = (15,9))\n",
    "sns.heatmap(data=df_cm,cmap=sns.color_palette(\"vlag\", as_cmap=True),annot=True)\n",
    "#sns.heatmap(data=df_cm,cmap=sns.diverging_palette(250, 30, l=65, center=\"dark\", as_cmap=True),annot=True)\n",
    "plt.title(\"Producto interno entre\")"
   ]
  },
  {
   "cell_type": "code",
   "execution_count": null,
   "metadata": {},
   "outputs": [],
   "source": [
    "# CALCULAR 4 LETRAS MAS ORTOGONALES yMENOS ORTOGONALES\n",
    "min_ortogonality_letters=[]\n",
    "min_ortogonality=[25**6]\n",
    "for i in range(0,len(alphabet)):\n",
    "    \n",
    "    for j in range(0,len(alphabet)):\n",
    "        for k in range(0,len(alphabet)):\n",
    "            for r in range(0,len(alphabet)):\n",
    "                tot_ortogonality=ortogonality[i][j]*ortogonality[i][k]*ortogonality[i][r]*ortogonality[j][k]*ortogonality[j][r]*ortogonality[r][k]\n",
    "                if(np.abs(tot_ortogonality)<=min_ortogonality[0] and i!=j and i!=k and i!=r and j!=k and j!=r and k!=r):\n",
    "                    min_ortogonality_letters.insert(0,f\"{ascii_lowercase[i]}{ascii_lowercase[j]}{ascii_lowercase[k]}{ascii_lowercase[r]}\")\n",
    "                    min_ortogonality.insert(0,np.abs(tot_ortogonality))\n",
    "print(min_ortogonality_letters)\n",
    "print(min_ortogonality)"
   ]
  },
  {
   "cell_type": "code",
   "execution_count": null,
   "metadata": {},
   "outputs": [],
   "source": [
    "# AGARRAR 4 LETRAS\n",
    "patterns_letters=['v','t','r','q']\n",
    "patterns=[]\n",
    "for i in range(0,len(patterns_letters)):\n",
    "    patterns.append(alphabetASCIIBipolar[ascii_lowercase.index(patterns_letters[i])])\n",
    "# CALCULAR LOS PESOS DE LA RED\n",
    "W=np.zeros((25,25))\n",
    "for pattern in patterns:\n",
    "    w_aux=np.dot(np.transpose(np.matrix(pattern)),np.matrix(pattern))\n",
    "    W=W + w_aux\n",
    "division = np.vectorize(lambda m:m/25)\n",
    "W= division(W)\n"
   ]
  },
  {
   "cell_type": "code",
   "execution_count": null,
   "metadata": {},
   "outputs": [],
   "source": [
    "#VERIFICAR PATRONES\n",
    "results=[]\n",
    "for p in range(0,len(patterns_letters)):\n",
    "    results.append(sgn_v(np.matmul(W,patterns[p])))\n",
    "#result = sgn_v(np.matmul(W,patterns[3]))\n",
    "#print(f\"shape W={np.shape(W)}, shape pattern={np.shape(patterns[0])}, shape result={np.shape(result)}\")\n",
    "df = pd.DataFrame(data=[[np.reshape(result,(5,5)) for result in results]],index=patterns_letters)\n",
    "print(results[0])\n",
    "printLetterBipolarMatrix(results[0])\n",
    "figure, axes = plt.subplots(2, 4, sharex=True, figsize=(19,7))\n",
    "plotLetterMap(patterns[0],axes=axes[0, 0])\n",
    "plotLetterMap(patterns[1],axes=axes[0, 1])\n",
    "plotLetterMap(patterns[2],axes=axes[0, 2])\n",
    "plotLetterMap(patterns[3],axes=axes[0, 3])\n",
    "plotLetterMap(results[0],axes=axes[1, 0])\n",
    "plotLetterMap(results[1],axes=axes[1, 1])\n",
    "plotLetterMap(results[2],axes=axes[1, 2])\n",
    "plotLetterMap(results[3],axes=axes[1, 3])\n",
    "\n",
    "\n",
    "\n"
   ]
  }
 ],
 "metadata": {
  "interpreter": {
   "hash": "0bc0a0dd210023b70c8f69fe0bf4ea2234dd88804395be62034c373d5e797fc5"
  },
  "kernelspec": {
   "display_name": "Python 3.10.2 ('venv': venv)",
   "language": "python",
   "name": "python3"
  },
  "language_info": {
   "codemirror_mode": {
    "name": "ipython",
    "version": 3
   },
   "file_extension": ".py",
   "mimetype": "text/x-python",
   "name": "python",
   "nbconvert_exporter": "python",
   "pygments_lexer": "ipython3",
   "version": "3.10.2"
  },
  "orig_nbformat": 4
 },
 "nbformat": 4,
 "nbformat_minor": 2
}
