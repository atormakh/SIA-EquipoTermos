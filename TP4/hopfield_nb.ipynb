{
 "cells": [
  {
   "cell_type": "markdown",
   "metadata": {},
   "source": [
    "# TP4 Hopfield"
   ]
  },
  {
   "cell_type": "code",
   "execution_count": null,
   "metadata": {},
   "outputs": [],
   "source": [
    "from asciiHandler import asciiStringToLettersMatrix\n",
    "from hopfield import propagatePattern,calculateWeights,sgn,addNoise,printLetter,printLetterBipolar,printLetterBipolarMatrix,plotLetterMap,plotEnergy\n",
    "import numpy as np\n",
    "import seaborn as sns\n",
    "from string import ascii_lowercase\n",
    "import pandas as pd\n",
    "import matplotlib.pyplot as plt"
   ]
  },
  {
   "cell_type": "code",
   "execution_count": null,
   "metadata": {},
   "outputs": [],
   "source": [
    "alphabet=\"\"\"\n",
    " ###  ####   ###  ####  ##### #####  ###  #   # ##### ##### #   # #     #   #\n",
    "#   # #   # #   # #   # #     #     #     #   #   #     #   #  #  #     ## ##\n",
    "##### ####  #     #   # ####  ####  #  ## #####   #     #   ###   #     # # #\n",
    "#   # #   # #   # #   # #     #     #   # #   #   #   # #   #  #  #     #   #\n",
    "#   # ####   ###  ####  ##### #      ###  #   # ##### ###   #   # ##### #   #\n",
    "\n",
    "#   #  ###  ####   ###  ####   ###  ##### #   # #   # #   # #   # #   # #####\n",
    "##  # #   # #   # #   # #   # #       #   #   # #   # #   #  # #   # #     # \n",
    "# # # #   # ####  #   # ####   ###    #   #   #  # #  # # #   #     #     #  \n",
    "#  ## #   # #     #  #  #   #     #   #   #   #  # #  ## ##  # #    #    #   \n",
    "#   #  ###  #      ## # #   #  ###    #    ###    #   #   # #   #   #   #####\"\"\""
   ]
  },
  {
   "cell_type": "code",
   "execution_count": null,
   "metadata": {},
   "outputs": [],
   "source": [
    "#MOVE EACH ASCII TO A LETTER MATRIX\n",
    "(alphabetASCII,alphabetASCIIBipolar)=asciiStringToLettersMatrix()"
   ]
  },
  {
   "cell_type": "code",
   "execution_count": null,
   "metadata": {},
   "outputs": [],
   "source": [
    "for letterIndex in range(0,len(alphabetASCII)):\n",
    "    print(printLetter(alphabetASCII,letterIndex))\n",
    "    print(printLetterBipolar(alphabetASCIIBipolar,letterIndex))"
   ]
  },
  {
   "cell_type": "code",
   "execution_count": null,
   "metadata": {},
   "outputs": [],
   "source": [
    "#BUSCAR LETRAS MAS ORTOGONALES\n",
    "ortogonality=np.zeros((len(alphabetASCIIBipolar),len(alphabetASCIIBipolar)))\n",
    "alphabet = [c for c in ascii_lowercase]\n",
    "print(np.dot(alphabetASCIIBipolar[1],alphabetASCIIBipolar[0]))\n",
    "for i in range(0,len(alphabetASCIIBipolar)):\n",
    "    for j in range(0,len(alphabetASCIIBipolar)):\n",
    "        ortogonality[i][j]=np.dot(alphabetASCIIBipolar[i],alphabetASCIIBipolar[j])\n",
    "df_cm = pd.DataFrame(ortogonality, index = [i for i in ascii_lowercase],\n",
    "                  columns = [i for i in ascii_lowercase])\n",
    "plt.figure(figsize = (15,9))\n",
    "sns.heatmap(data=df_cm,cmap=sns.color_palette(\"vlag\", as_cmap=True),annot=True)\n",
    "\n",
    "#sns.heatmap(data=df_cm,cmap=sns.diverging_palette(250, 30, l=65, center=\"dark\", as_cmap=True))\n",
    "plt.title(\"Producto interno entre Letras\")"
   ]
  },
  {
   "cell_type": "code",
   "execution_count": null,
   "metadata": {},
   "outputs": [],
   "source": [
    "# CALCULAR 4 LETRAS MAS ORTOGONALES yMENOS ORTOGONALES\n",
    "min_ortogonality_letters=[]\n",
    "min_ortogonality=[25**6]\n",
    "for i in range(0,len(alphabet)):\n",
    "    for j in range(0,len(alphabet)):\n",
    "        for k in range(0,len(alphabet)):\n",
    "            for r in range(0,len(alphabet)):\n",
    "                tot_ortogonality=ortogonality[i][j]*ortogonality[i][k]*ortogonality[i][r]*ortogonality[j][k]*ortogonality[j][r]*ortogonality[r][k]\n",
    "                if(np.abs(tot_ortogonality)<=min_ortogonality[0] and i!=j and i!=k and i!=r and j!=k and j!=r and k!=r):\n",
    "                    min_ortogonality_letters.insert(0,f\"{ascii_lowercase[i]}{ascii_lowercase[j]}{ascii_lowercase[k]}{ascii_lowercase[r]}\")\n",
    "                    min_ortogonality.insert(0,np.abs(tot_ortogonality))\n",
    "print(min_ortogonality_letters)\n",
    "print(min_ortogonality)"
   ]
  },
  {
   "cell_type": "code",
   "execution_count": null,
   "metadata": {},
   "outputs": [],
   "source": [
    "# AGARRAR 4 LETRAS\n",
    "patterns_letters=['k','n','s','v']\n",
    "patterns=[]\n",
    "for i in range(0,len(patterns_letters)):\n",
    "    patterns.append(alphabetASCIIBipolar[ascii_lowercase.index(patterns_letters[i])])\n",
    "# CALCULAR LOS PESOS DE LA RED\n",
    "W=calculateWeights(patterns)\n",
    "\n"
   ]
  },
  {
   "cell_type": "code",
   "execution_count": null,
   "metadata": {},
   "outputs": [],
   "source": [
    "#VERIFICAR PATRONES\n",
    "results=[]\n",
    "energies=[]\n",
    "iterations=[]\n",
    "noise_probability=0.9\n",
    "patternsWNoise=[]\n",
    "# Add Noise\n",
    "for i in range(0,len(patterns)):\n",
    "    patternsWNoise.append(addNoise(noise_probability,patterns[i]))\n",
    "# Propagate patterns with noise\n",
    "for p in range(0,len(patterns_letters)):\n",
    "    results.append([])\n",
    "    energies.append([])\n",
    "    results[p]= propagatePattern(W,patternsWNoise[p])[0]\n",
    "    energies[p]= propagatePattern(W,patternsWNoise[p])[1]\n",
    "    iterations.append(len(results[p])-1)\n",
    "\n",
    "# Plot Results (1st Row => Original pattern\n",
    "#               2nd Row => Pattern with noise\n",
    "#               3rd+ Row => Propagation     )    \n",
    "figure, axes = plt.subplots(max(iterations)+2, 4, sharex=True, figsize=(19,7))\n",
    "\n",
    "for i in range(0,len(patterns)):\n",
    "    plotLetterMap(patterns[i],axes=axes[0, i])\n",
    "    plotLetterMap(patternsWNoise[i],axes=axes[1, i])\n",
    "    for j in range(0,len(results[i])-1):\n",
    "        plotLetterMap(results[i][j],axes=axes[j+2, i])\n",
    "\n",
    "\n",
    "\n"
   ]
  },
  {
   "cell_type": "code",
   "execution_count": null,
   "metadata": {},
   "outputs": [],
   "source": [
    "#GRAFICAR LA ENERGIA EN FUNCION DE LAS ITERACIONES PARA LOS PATRONES CON RUIDO\n",
    "plotEnergy(energies,patterns_letters)"
   ]
  }
 ],
 "metadata": {
  "interpreter": {
   "hash": "26de051ba29f2982a8de78e945f0abaf191376122a1563185a90213a26c5da77"
  },
  "kernelspec": {
   "display_name": "Python 3.10.2 64-bit",
   "language": "python",
   "name": "python3"
  },
  "language_info": {
   "codemirror_mode": {
    "name": "ipython",
    "version": 3
   },
   "file_extension": ".py",
   "mimetype": "text/x-python",
   "name": "python",
   "nbconvert_exporter": "python",
   "pygments_lexer": "ipython3",
   "version": "3.10.2"
  },
  "orig_nbformat": 4
 },
 "nbformat": 4,
 "nbformat_minor": 2
}
