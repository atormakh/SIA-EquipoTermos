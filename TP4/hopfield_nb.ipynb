{
 "cells": [
  {
   "cell_type": "markdown",
   "metadata": {},
   "source": [
    "# TP4 Hopfield"
   ]
  },
  {
   "cell_type": "code",
   "execution_count": null,
   "metadata": {},
   "outputs": [],
   "source": [
    "from asciiHandler import asciiStringToLettersMatrix\n",
    "from hopfield import printLetter,printLetterBipolar,printLetterBipolarMatrix,plotLetterMap\n",
    "import numpy as np\n",
    "import seaborn as sns\n",
    "from string import ascii_lowercase\n",
    "import pandas as pd\n",
    "import matplotlib.pyplot as plt"
   ]
  },
  {
   "cell_type": "code",
   "execution_count": null,
   "metadata": {},
   "outputs": [],
   "source": [
    "alphabet=\"\"\"\n",
    " ###  ####   ###  ####  ##### #####  ###  #   # ##### ##### #   # #     #   #\n",
    "#   # #   # #   # #   # #     #     #     #   #   #     #   #  #  #     ## ##\n",
    "##### ####  #     #   # ####  ####  #  ## #####   #     #   ###   #     # # #\n",
    "#   # #   # #   # #   # #     #     #   # #   #   #   # #   #  #  #     #   #\n",
    "#   # ####   ###  ####  ##### #      ###  #   # ##### ###   #   # ##### #   #\n",
    "\n",
    "#   #  ###  ####   ###  ####   ###  ##### #   # #   # #   # #   # #   # #####\n",
    "##  # #   # #   # #   # #   # #       #   #   # #   # #   #  # #   # #     # \n",
    "# # # #   # ####  #   # ####   ###    #   #   #  # #  # # #   #     #     #  \n",
    "#  ## #   # #     #  #  #   #     #   #   #   #  # #  ## ##  # #    #    #   \n",
    "#   #  ###  #      ## # #   #  ###    #    ###    #   #   # #   #   #   #####\"\"\""
   ]
  },
  {
   "cell_type": "code",
   "execution_count": null,
   "metadata": {},
   "outputs": [],
   "source": [
    "#MOVE EACH ASCII TO A LETTER MATRIX\n",
    "(alphabetASCII,alphabetASCIIBipolar)=asciiStringToLettersMatrix()"
   ]
  },
  {
   "cell_type": "markdown",
   "metadata": {},
   "source": []
  },
  {
   "cell_type": "code",
   "execution_count": null,
   "metadata": {},
   "outputs": [],
   "source": [
    "for letterIndex in range(0,len(alphabetASCII)):\n",
    "    print(printLetter(alphabetASCII,letterIndex))\n",
    "    print(printLetterBipolar(alphabetASCIIBipolar,letterIndex))"
   ]
  },
  {
   "cell_type": "code",
   "execution_count": null,
   "metadata": {},
   "outputs": [],
   "source": [
    "#FUNCION SIGNO\n",
    "sgn = lambda x: -1 if x<=0 else 1\n",
    "sgn_v= np.vectorize(sgn)"
   ]
  },
  {
   "cell_type": "code",
   "execution_count": null,
   "metadata": {},
   "outputs": [],
   "source": [
    "#BUSCAR LETRAS MAS ORTOGONALES\n",
    "ortogonality=np.zeros((len(alphabetASCIIBipolar),len(alphabetASCIIBipolar)))\n",
    "alphabet = [c for c in ascii_lowercase]\n",
    "print(np.dot(alphabetASCIIBipolar[1],alphabetASCIIBipolar[0]))\n",
    "for i in range(0,len(alphabetASCIIBipolar)):\n",
    "    for j in range(0,len(alphabetASCIIBipolar)):\n",
    "        ortogonality[i][j]=np.dot(alphabetASCIIBipolar[i],alphabetASCIIBipolar[j])\n",
    "df_cm = pd.DataFrame(ortogonality, index = [i for i in ascii_lowercase],\n",
    "                  columns = [i for i in ascii_lowercase])\n",
    "print(df_cm.head())\n",
    "plt.figure(figsize = (15,9))\n",
    "sns.heatmap(data=df_cm,cmap=sns.color_palette(\"vlag\", as_cmap=True),annot=True)\n",
    "\n",
    "#sns.heatmap(data=df_cm,cmap=sns.diverging_palette(250, 30, l=65, center=\"dark\", as_cmap=True),annot=True)\n",
    "plt.title(\"Producto interno entre\")"
   ]
  },
  {
   "cell_type": "code",
   "execution_count": null,
   "metadata": {},
   "outputs": [],
   "source": [
    "# CALCULAR 4 LETRAS MAS ORTOGONALES yMENOS ORTOGONALES\n",
    "min_ortogonality_letters=[]\n",
    "min_ortogonality=[25**6]\n",
    "for i in range(0,len(alphabet)):\n",
    "    for j in range(0,len(alphabet)):\n",
    "        for k in range(0,len(alphabet)):\n",
    "            for r in range(0,len(alphabet)):\n",
    "                tot_ortogonality=ortogonality[i][j]*ortogonality[i][k]*ortogonality[i][r]*ortogonality[j][k]*ortogonality[j][r]*ortogonality[r][k]\n",
    "                if(np.abs(tot_ortogonality)<=min_ortogonality[0] and i!=j and i!=k and i!=r and j!=k and j!=r and k!=r):\n",
    "                    min_ortogonality_letters.insert(0,f\"{ascii_lowercase[i]}{ascii_lowercase[j]}{ascii_lowercase[k]}{ascii_lowercase[r]}\")\n",
    "                    min_ortogonality.insert(0,np.abs(tot_ortogonality))\n",
    "print(min_ortogonality_letters)\n",
    "print(min_ortogonality)"
   ]
  },
  {
   "cell_type": "code",
   "execution_count": null,
   "metadata": {},
   "outputs": [],
   "source": [
    "# AGARRAR 4 LETRAS\n",
    "patterns_letters=['a','b','c','d']\n",
    "patterns=[]\n",
    "for i in range(0,len(patterns_letters)):\n",
    "    patterns.append(alphabetASCIIBipolar[ascii_lowercase.index(patterns_letters[i])])\n",
    "# CALCULAR LOS PESOS DE LA RED\n",
    "W=np.zeros((25,25))\n",
    "for pattern in patterns:\n",
    "    w_aux=np.dot(np.transpose(np.matrix(pattern)),np.matrix(pattern))\n",
    "    W=W + w_aux\n",
    "division = np.vectorize(lambda m:m/25)\n",
    "W= division(W)\n"
   ]
  },
  {
   "cell_type": "code",
   "execution_count": null,
   "metadata": {},
   "outputs": [],
   "source": [
    "#VERIFICAR PATRONES\n",
    "results=[]\n",
    "iterations=[]\n",
    "for p in range(0,len(patterns_letters)):\n",
    "    results.append([])\n",
    "    prevResult = sgn_v(np.matmul(W,patterns[p]))\n",
    "    currentResult=None\n",
    "    i=0\n",
    "    results[p].append(prevResult)\n",
    "    while currentResult is None or  not (prevResult==currentResult).all() :\n",
    "        if currentResult is not  None:\n",
    "            prevResult=currentResult\n",
    "        currentResult=sgn_v(np.matmul(prevResult,W))\n",
    "        results[p].append(currentResult)\n",
    "        i+=1\n",
    "    \n",
    "    iterations.append(i)\n",
    "\n",
    "#df = pd.DataFrame(data=[[np.reshape(result,(5,5)) for result in results]],index=patterns_letters)\n",
    "##print(results[0][0])\n",
    "print(results)\n",
    "print(iterations)\n",
    "print(\"MAX ITERATIONS===\",max(iterations))\n",
    "printLetterBipolarMatrix(results[0][0])\n",
    "figure, axes = plt.subplots(max(iterations)+1, 4, sharex=True, figsize=(19,7))\n",
    "for i in range(0,len(patterns)):\n",
    "    plotLetterMap(patterns[i],axes=axes[0, i])\n",
    "    for j in range(0,len(results[i])-1):\n",
    "        plotLetterMap(results[i][j],axes=axes[j+1, i])"
   ]
  }
 ],
 "metadata": {
  "interpreter": {
   "hash": "1a281f39597c6f6f97dae01a82b5cc65e7e419790e769fa4b9f4aea8bead6407"
  },
  "kernelspec": {
   "display_name": "Python 3.10.0 ('venv': venv)",
   "language": "python",
   "name": "python3"
  },
  "language_info": {
   "codemirror_mode": {
    "name": "ipython",
    "version": 3
   },
   "file_extension": ".py",
   "mimetype": "text/x-python",
   "name": "python",
   "nbconvert_exporter": "python",
   "pygments_lexer": "ipython3",
   "version": "3.10.0"
  },
  "orig_nbformat": 4
 },
 "nbformat": 4,
 "nbformat_minor": 2
}
